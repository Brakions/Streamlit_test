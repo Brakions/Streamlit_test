{
 "cells": [
  {
   "cell_type": "markdown",
   "id": "74db2d59-5496-48db-95d1-fb1e911b9454",
   "metadata": {},
   "source": [
    "# MODELO DE PREDICCION "
   ]
  },
  {
   "cell_type": "markdown",
   "id": "672d2333-847d-4e41-a480-25b0f758e812",
   "metadata": {},
   "source": [
    "Este modelo se creo a partir de un dataset que contenia 6 paises de 5 regiones\n",
    "y 13 series:"
   ]
  },
  {
   "cell_type": "markdown",
   "id": "b76d91fe-7dd0-43b9-893d-90a359b2d2d7",
   "metadata": {},
   "source": [
    "#### Paises + Regiones:\n",
    "- Latin America & Caribeann(CLA)\n",
    "\n",
    "    BRA(Brazil)-MEX(Mexico)-COL(Colombia)-ARG(Argentina)-PER(Peru)-CHL(Chile)\n",
    "\n",
    "- Africa(AFR)\n",
    "\n",
    "    NER(Nigeria)-ETH(Ethiopia)-EGY(Egipto)-COD(Congo)-TZA(Tanzania)-ZAF(South Africa)\n",
    "\n",
    "- European Union(EUU)\n",
    "\n",
    "    DEU(Germany)-FRA(Francia)-ITA(Italia)-ESP(España)-POL(Polonia)-ROU(Romania)\n",
    "\n",
    "- South Asia(SAS)\n",
    "\n",
    "    IND(India)-PAK(Pakistan)-BGD(Bangladesh)-AFG(Afghanistan)-NPL(Nepal)-LKA(Sri Lanka)\n",
    "\n",
    "- World(WLD)\n",
    "\n",
    "    CHN(China)-AUS(Australia)-USA(United States)-IDN(Indonesia)-GBR(Gran Bretaña)-RUS(Rusia)"
   ]
  },
  {
   "cell_type": "markdown",
   "id": "4e2073b5-98b9-4ba9-bae4-2a2b62e254db",
   "metadata": {},
   "source": [
    "# Series"
   ]
  },
  {
   "cell_type": "markdown",
   "id": "5da9619b-c7e0-4f07-aa7d-d1a4bf7c802e",
   "metadata": {},
   "source": [
    "#### Series + Nombres\n",
    "- 'SP.ADO.TFRT',: Adolescent fertility rate (births per 1,000 women ages 15-19) \n",
    "- 'SP.DYN.CBRT.IN',: Birth rate, crude (per 1000 people)\n",
    "- 'SH.XPD.CHEX.GD.ZS',: Current health expenditure (% of GDP)\n",
    "- \"SH.XPD.CHEX.PC.CD\",: Current health expenditure per capita (current US$)\n",
    "- \"SP.DYN.TFRT.IN\",: Fertility rate, total (births per woman)\n",
    "- \"SP.DYN.LE00.IN\",: Life expectancy at birth, total (years)\n",
    "- \"SP.DYN.IMRT.IN\",: Mortality rate, infant (per 1,000 live births)\n",
    "- \"SP.POP.GROW\",: Population growth (annual %)\n",
    "- \"SP.POP.TOTL\",: Population, total\n",
    "- \"SH.STA.SUIC.P5\",: Suicide mortality rate (per 100,000 population)\n",
    "- \"NY.GDP.MKTP.KN\",: GDP(constant LCU)\n",
    "- NCD_BMI_25A : Prevalence of overweight among adults, BMI &GreaterEqual; 25 (crude   estimate) (%)\n",
    "- NCD_HYP_PREVALENCE_A:  Prevalence of hypertension among adults aged 30-79 years, age- standardized\n",
    "\n"
   ]
  },
  {
   "cell_type": "code",
   "execution_count": null,
   "id": "1cd33022-5818-42cd-b55e-ae9d3e6091dd",
   "metadata": {},
   "outputs": [],
   "source": []
  },
  {
   "cell_type": "code",
   "execution_count": 120,
   "id": "daaffa1c-6aca-464a-930c-1642052a7d7a",
   "metadata": {},
   "outputs": [],
   "source": [
    "#Impotamos librerias que utlizaremos mas adelante\n",
    "import pandas as pd\n",
    "import numpy as np\n",
    "import matplotlib.pyplot as plt\n",
    "import seaborn as sns\n"
   ]
  },
  {
   "cell_type": "code",
   "execution_count": 179,
   "id": "1a807359-495a-4124-b1f5-29b19b76afb9",
   "metadata": {},
   "outputs": [],
   "source": [
    "#Creamos un dataframe con el csv AAA\n",
    "dato=pd.read_csv(\"AAA.csv\")"
   ]
  },
  {
   "cell_type": "code",
   "execution_count": 180,
   "id": "cf9a5a58-118b-42f8-a4db-30fd54393616",
   "metadata": {},
   "outputs": [],
   "source": [
    "#Borramos columnas que no vamos a utlizar\n",
    "dato.drop([\"countryiso3code\"],axis=1,inplace=True)"
   ]
  },
  {
   "cell_type": "code",
   "execution_count": 181,
   "id": "7e303b9c-7535-49d9-b5c1-203a6e00e966",
   "metadata": {},
   "outputs": [
    {
     "data": {
      "text/plain": [
       "0       8.953909\n",
       "1      13.800249\n",
       "2      17.092214\n",
       "3      17.581793\n",
       "4      15.319591\n",
       "         ...    \n",
       "955     2.833895\n",
       "956     2.727406\n",
       "957     2.632584\n",
       "958     2.546713\n",
       "959     2.457682\n",
       "Name: SP.POP.GROW, Length: 960, dtype: float64"
      ]
     },
     "execution_count": 181,
     "metadata": {},
     "output_type": "execute_result"
    }
   ],
   "source": [
    "#Reemplazamos \".\" por \",\" en la columna SP.POP.GROW\n",
    "dato[\"SP.POP.GROW\"] = [float(x.replace(',','.')) for x in dato[\"SP.POP.GROW\"]]\n",
    "dato[\"SP.POP.GROW\"]\n"
   ]
  },
  {
   "cell_type": "code",
   "execution_count": 187,
   "id": "20823012-0e42-4e72-828e-92a379358516",
   "metadata": {},
   "outputs": [],
   "source": [
    "#Enmascaramos los datos para el año 2020\n",
    "ddn=dato.date==2020"
   ]
  },
  {
   "cell_type": "code",
   "execution_count": 188,
   "id": "7e882291-d646-4901-a7a5-ee818ea5f966",
   "metadata": {},
   "outputs": [],
   "source": [
    "data =dato[ddn]"
   ]
  },
  {
   "cell_type": "code",
   "execution_count": 191,
   "id": "d3335bfc-f488-4b43-b260-836d3e0cfa78",
   "metadata": {},
   "outputs": [
    {
     "name": "stderr",
     "output_type": "stream",
     "text": [
      "C:\\Users\\USER\\AppData\\Local\\Temp\\ipykernel_18748\\510141900.py:1: SettingWithCopyWarning: \n",
      "A value is trying to be set on a copy of a slice from a DataFrame\n",
      "\n",
      "See the caveats in the documentation: https://pandas.pydata.org/pandas-docs/stable/user_guide/indexing.html#returning-a-view-versus-a-copy\n",
      "  data.drop([\"date\"],axis=1,inplace=True)\n"
     ]
    }
   ],
   "source": [
    "data.drop([\"date\"],axis=1,inplace=True)"
   ]
  },
  {
   "cell_type": "code",
   "execution_count": 192,
   "id": "803e671e-0eec-4c96-97c3-d33840cbc758",
   "metadata": {},
   "outputs": [
    {
     "data": {
      "text/html": [
       "<div>\n",
       "<style scoped>\n",
       "    .dataframe tbody tr th:only-of-type {\n",
       "        vertical-align: middle;\n",
       "    }\n",
       "\n",
       "    .dataframe tbody tr th {\n",
       "        vertical-align: top;\n",
       "    }\n",
       "\n",
       "    .dataframe thead th {\n",
       "        text-align: right;\n",
       "    }\n",
       "</style>\n",
       "<table border=\"1\" class=\"dataframe\">\n",
       "  <thead>\n",
       "    <tr style=\"text-align: right;\">\n",
       "      <th></th>\n",
       "      <th>SH.XPD.CHEX.PC.CD</th>\n",
       "      <th>SH.XPD.CHEX.GD.ZS</th>\n",
       "      <th>SP.ADO.TFRT</th>\n",
       "      <th>SP.POP.TOTL</th>\n",
       "      <th>SP.DYN.CBRT.IN</th>\n",
       "      <th>SP.DYN.TFRT.IN</th>\n",
       "      <th>SP.DYN.LE00.IN</th>\n",
       "      <th>SP.DYN.IMRT.IN</th>\n",
       "      <th>SH.STA.SUIC.P5</th>\n",
       "      <th>ncd_bmi_25a</th>\n",
       "      <th>NY.GDP.PCAP.CD</th>\n",
       "      <th>NY.GDP.MKTP.CD</th>\n",
       "      <th>ncd_hyp_prevalence_a</th>\n",
       "      <th>SP.POP.GROW</th>\n",
       "    </tr>\n",
       "  </thead>\n",
       "  <tbody>\n",
       "    <tr>\n",
       "      <th>900</th>\n",
       "      <td>536.546143</td>\n",
       "      <td>6.227864</td>\n",
       "      <td>57.5090</td>\n",
       "      <td>38928341</td>\n",
       "      <td>31.153</td>\n",
       "      <td>4.1760</td>\n",
       "      <td>65.173000</td>\n",
       "      <td>45.0</td>\n",
       "      <td>9.450924</td>\n",
       "      <td>104.659355</td>\n",
       "      <td>516.747871</td>\n",
       "      <td>2.011614e+10</td>\n",
       "      <td>120.887115</td>\n",
       "      <td>2.452592</td>\n",
       "    </tr>\n",
       "    <tr>\n",
       "      <th>901</th>\n",
       "      <td>1526.933594</td>\n",
       "      <td>8.943119</td>\n",
       "      <td>62.1322</td>\n",
       "      <td>45376763</td>\n",
       "      <td>16.644</td>\n",
       "      <td>2.2330</td>\n",
       "      <td>76.813000</td>\n",
       "      <td>7.6</td>\n",
       "      <td>11.722369</td>\n",
       "      <td>167.024155</td>\n",
       "      <td>8585.694742</td>\n",
       "      <td>3.895910e+11</td>\n",
       "      <td>122.446350</td>\n",
       "      <td>2.381574</td>\n",
       "    </tr>\n",
       "    <tr>\n",
       "      <th>902</th>\n",
       "      <td>2861.852295</td>\n",
       "      <td>9.279371</td>\n",
       "      <td>10.5474</td>\n",
       "      <td>25693267</td>\n",
       "      <td>11.500</td>\n",
       "      <td>1.5810</td>\n",
       "      <td>83.200000</td>\n",
       "      <td>3.1</td>\n",
       "      <td>13.635622</td>\n",
       "      <td>185.440765</td>\n",
       "      <td>51680.316523</td>\n",
       "      <td>1.327836e+12</td>\n",
       "      <td>119.506935</td>\n",
       "      <td>2.326823</td>\n",
       "    </tr>\n",
       "    <tr>\n",
       "      <th>903</th>\n",
       "      <td>680.685913</td>\n",
       "      <td>5.061676</td>\n",
       "      <td>81.0144</td>\n",
       "      <td>164689383</td>\n",
       "      <td>17.549</td>\n",
       "      <td>1.9870</td>\n",
       "      <td>72.868000</td>\n",
       "      <td>24.3</td>\n",
       "      <td>8.181176</td>\n",
       "      <td>100.571129</td>\n",
       "      <td>2270.347535</td>\n",
       "      <td>3.739021e+11</td>\n",
       "      <td>96.439896</td>\n",
       "      <td>2.407921</td>\n",
       "    </tr>\n",
       "    <tr>\n",
       "      <th>904</th>\n",
       "      <td>1180.818359</td>\n",
       "      <td>7.167393</td>\n",
       "      <td>55.4354</td>\n",
       "      <td>212559409</td>\n",
       "      <td>13.463</td>\n",
       "      <td>1.7060</td>\n",
       "      <td>76.084000</td>\n",
       "      <td>13.1</td>\n",
       "      <td>9.336935</td>\n",
       "      <td>140.371735</td>\n",
       "      <td>6814.875632</td>\n",
       "      <td>1.448566e+12</td>\n",
       "      <td>111.827011</td>\n",
       "      <td>2.331429</td>\n",
       "    </tr>\n",
       "    <tr>\n",
       "      <th>905</th>\n",
       "      <td>1478.981445</td>\n",
       "      <td>7.257473</td>\n",
       "      <td>38.3112</td>\n",
       "      <td>19116209</td>\n",
       "      <td>11.990</td>\n",
       "      <td>1.6110</td>\n",
       "      <td>80.329000</td>\n",
       "      <td>5.8</td>\n",
       "      <td>11.283265</td>\n",
       "      <td>156.363647</td>\n",
       "      <td>13220.570758</td>\n",
       "      <td>2.527272e+11</td>\n",
       "      <td>111.624680</td>\n",
       "      <td>2.296680</td>\n",
       "    </tr>\n",
       "    <tr>\n",
       "      <th>906</th>\n",
       "      <td>1530.984619</td>\n",
       "      <td>6.390665</td>\n",
       "      <td>7.6590</td>\n",
       "      <td>1411100000</td>\n",
       "      <td>8.520</td>\n",
       "      <td>1.7000</td>\n",
       "      <td>77.097000</td>\n",
       "      <td>5.5</td>\n",
       "      <td>12.341920</td>\n",
       "      <td>117.539986</td>\n",
       "      <td>10408.669756</td>\n",
       "      <td>1.468767e+13</td>\n",
       "      <td>93.323540</td>\n",
       "      <td>2.225538</td>\n",
       "    </tr>\n",
       "    <tr>\n",
       "      <th>907</th>\n",
       "      <td>29.201660</td>\n",
       "      <td>4.706124</td>\n",
       "      <td>119.3768</td>\n",
       "      <td>89561404</td>\n",
       "      <td>40.109</td>\n",
       "      <td>5.7180</td>\n",
       "      <td>60.971000</td>\n",
       "      <td>63.8</td>\n",
       "      <td>7.105101</td>\n",
       "      <td>78.371590</td>\n",
       "      <td>543.950393</td>\n",
       "      <td>4.871696e+10</td>\n",
       "      <td>106.100571</td>\n",
       "      <td>1.979483</td>\n",
       "    </tr>\n",
       "    <tr>\n",
       "      <th>908</th>\n",
       "      <td>1135.385376</td>\n",
       "      <td>6.593636</td>\n",
       "      <td>63.1440</td>\n",
       "      <td>50882884</td>\n",
       "      <td>14.415</td>\n",
       "      <td>1.7710</td>\n",
       "      <td>77.460000</td>\n",
       "      <td>11.4</td>\n",
       "      <td>9.063702</td>\n",
       "      <td>141.311035</td>\n",
       "      <td>5312.198556</td>\n",
       "      <td>2.703000e+11</td>\n",
       "      <td>103.168114</td>\n",
       "      <td>1.855595</td>\n",
       "    </tr>\n",
       "    <tr>\n",
       "      <th>909</th>\n",
       "      <td>2758.180176</td>\n",
       "      <td>9.015799</td>\n",
       "      <td>7.3804</td>\n",
       "      <td>83160871</td>\n",
       "      <td>9.300</td>\n",
       "      <td>1.5300</td>\n",
       "      <td>80.941463</td>\n",
       "      <td>3.1</td>\n",
       "      <td>13.335325</td>\n",
       "      <td>168.284943</td>\n",
       "      <td>46252.689304</td>\n",
       "      <td>3.846414e+12</td>\n",
       "      <td>120.077141</td>\n",
       "      <td>1.718963</td>\n",
       "    </tr>\n",
       "    <tr>\n",
       "      <th>910</th>\n",
       "      <td>825.566589</td>\n",
       "      <td>5.882424</td>\n",
       "      <td>51.6200</td>\n",
       "      <td>102334403</td>\n",
       "      <td>25.069</td>\n",
       "      <td>3.2360</td>\n",
       "      <td>72.150000</td>\n",
       "      <td>16.6</td>\n",
       "      <td>8.155272</td>\n",
       "      <td>128.593750</td>\n",
       "      <td>3569.206841</td>\n",
       "      <td>3.652527e+11</td>\n",
       "      <td>104.934967</td>\n",
       "      <td>1.850968</td>\n",
       "    </tr>\n",
       "    <tr>\n",
       "      <th>911</th>\n",
       "      <td>2088.563721</td>\n",
       "      <td>7.704158</td>\n",
       "      <td>7.0212</td>\n",
       "      <td>47363419</td>\n",
       "      <td>7.100</td>\n",
       "      <td>1.2300</td>\n",
       "      <td>82.334146</td>\n",
       "      <td>2.7</td>\n",
       "      <td>11.529097</td>\n",
       "      <td>162.225342</td>\n",
       "      <td>27056.421751</td>\n",
       "      <td>1.281485e+12</td>\n",
       "      <td>109.631805</td>\n",
       "      <td>1.843426</td>\n",
       "    </tr>\n",
       "    <tr>\n",
       "      <th>912</th>\n",
       "      <td>526.734375</td>\n",
       "      <td>5.365191</td>\n",
       "      <td>61.7704</td>\n",
       "      <td>114963583</td>\n",
       "      <td>31.442</td>\n",
       "      <td>4.0490</td>\n",
       "      <td>66.953000</td>\n",
       "      <td>35.4</td>\n",
       "      <td>8.464987</td>\n",
       "      <td>93.370834</td>\n",
       "      <td>936.450758</td>\n",
       "      <td>1.076577e+11</td>\n",
       "      <td>97.506363</td>\n",
       "      <td>1.928508</td>\n",
       "    </tr>\n",
       "    <tr>\n",
       "      <th>913</th>\n",
       "      <td>2543.973389</td>\n",
       "      <td>8.625454</td>\n",
       "      <td>4.7546</td>\n",
       "      <td>67379908</td>\n",
       "      <td>10.900</td>\n",
       "      <td>1.8300</td>\n",
       "      <td>82.175610</td>\n",
       "      <td>3.4</td>\n",
       "      <td>13.817594</td>\n",
       "      <td>164.741364</td>\n",
       "      <td>39037.122631</td>\n",
       "      <td>2.630318e+12</td>\n",
       "      <td>113.025894</td>\n",
       "      <td>1.902110</td>\n",
       "    </tr>\n",
       "    <tr>\n",
       "      <th>914</th>\n",
       "      <td>2461.362061</td>\n",
       "      <td>8.117660</td>\n",
       "      <td>11.1830</td>\n",
       "      <td>67081000</td>\n",
       "      <td>10.200</td>\n",
       "      <td>1.5600</td>\n",
       "      <td>80.902439</td>\n",
       "      <td>3.6</td>\n",
       "      <td>11.495046</td>\n",
       "      <td>162.797134</td>\n",
       "      <td>41098.078653</td>\n",
       "      <td>2.756900e+12</td>\n",
       "      <td>110.767952</td>\n",
       "      <td>1.891731</td>\n",
       "    </tr>\n",
       "    <tr>\n",
       "      <th>915</th>\n",
       "      <td>826.958679</td>\n",
       "      <td>5.161829</td>\n",
       "      <td>45.9676</td>\n",
       "      <td>273523621</td>\n",
       "      <td>17.448</td>\n",
       "      <td>2.2660</td>\n",
       "      <td>71.908000</td>\n",
       "      <td>19.5</td>\n",
       "      <td>8.417108</td>\n",
       "      <td>104.097008</td>\n",
       "      <td>3870.557620</td>\n",
       "      <td>1.058689e+12</td>\n",
       "      <td>98.997864</td>\n",
       "      <td>1.753303</td>\n",
       "    </tr>\n",
       "    <tr>\n",
       "      <th>916</th>\n",
       "      <td>772.708069</td>\n",
       "      <td>4.925522</td>\n",
       "      <td>9.8584</td>\n",
       "      <td>1380004385</td>\n",
       "      <td>17.437</td>\n",
       "      <td>2.1840</td>\n",
       "      <td>69.887000</td>\n",
       "      <td>27.0</td>\n",
       "      <td>11.413731</td>\n",
       "      <td>88.477554</td>\n",
       "      <td>1933.101069</td>\n",
       "      <td>2.667688e+12</td>\n",
       "      <td>90.198570</td>\n",
       "      <td>1.659233</td>\n",
       "    </tr>\n",
       "    <tr>\n",
       "      <th>917</th>\n",
       "      <td>2216.189697</td>\n",
       "      <td>7.849214</td>\n",
       "      <td>4.8500</td>\n",
       "      <td>59449527</td>\n",
       "      <td>6.800</td>\n",
       "      <td>1.2400</td>\n",
       "      <td>82.343902</td>\n",
       "      <td>2.5</td>\n",
       "      <td>11.413836</td>\n",
       "      <td>160.321960</td>\n",
       "      <td>31834.972618</td>\n",
       "      <td>1.892574e+12</td>\n",
       "      <td>113.373810</td>\n",
       "      <td>1.453573</td>\n",
       "    </tr>\n",
       "    <tr>\n",
       "      <th>918</th>\n",
       "      <td>1098.140625</td>\n",
       "      <td>5.972261</td>\n",
       "      <td>20.2192</td>\n",
       "      <td>21919000</td>\n",
       "      <td>15.253</td>\n",
       "      <td>2.1740</td>\n",
       "      <td>77.144000</td>\n",
       "      <td>5.9</td>\n",
       "      <td>12.393144</td>\n",
       "      <td>118.290810</td>\n",
       "      <td>3694.040948</td>\n",
       "      <td>8.096968e+10</td>\n",
       "      <td>102.642654</td>\n",
       "      <td>1.467200</td>\n",
       "    </tr>\n",
       "    <tr>\n",
       "      <th>919</th>\n",
       "      <td>1108.608887</td>\n",
       "      <td>6.193309</td>\n",
       "      <td>57.6326</td>\n",
       "      <td>128932753</td>\n",
       "      <td>17.005</td>\n",
       "      <td>2.0790</td>\n",
       "      <td>75.131000</td>\n",
       "      <td>11.8</td>\n",
       "      <td>8.699599</td>\n",
       "      <td>136.780212</td>\n",
       "      <td>8431.665017</td>\n",
       "      <td>1.087118e+12</td>\n",
       "      <td>101.333313</td>\n",
       "      <td>1.385721</td>\n",
       "    </tr>\n",
       "    <tr>\n",
       "      <th>920</th>\n",
       "      <td>-52.087341</td>\n",
       "      <td>4.264695</td>\n",
       "      <td>101.6810</td>\n",
       "      <td>206139587</td>\n",
       "      <td>37.011</td>\n",
       "      <td>5.2480</td>\n",
       "      <td>55.018000</td>\n",
       "      <td>72.2</td>\n",
       "      <td>6.208676</td>\n",
       "      <td>67.612747</td>\n",
       "      <td>2097.092473</td>\n",
       "      <td>4.322938e+11</td>\n",
       "      <td>100.288101</td>\n",
       "      <td>1.466723</td>\n",
       "    </tr>\n",
       "    <tr>\n",
       "      <th>921</th>\n",
       "      <td>763.156616</td>\n",
       "      <td>5.434764</td>\n",
       "      <td>62.9550</td>\n",
       "      <td>29136808</td>\n",
       "      <td>19.256</td>\n",
       "      <td>1.8450</td>\n",
       "      <td>71.067000</td>\n",
       "      <td>23.6</td>\n",
       "      <td>8.914289</td>\n",
       "      <td>105.013809</td>\n",
       "      <td>1147.471971</td>\n",
       "      <td>3.343367e+10</td>\n",
       "      <td>100.094353</td>\n",
       "      <td>1.472435</td>\n",
       "    </tr>\n",
       "    <tr>\n",
       "      <th>922</th>\n",
       "      <td>511.009827</td>\n",
       "      <td>4.785351</td>\n",
       "      <td>37.0278</td>\n",
       "      <td>220892331</td>\n",
       "      <td>27.379</td>\n",
       "      <td>3.3940</td>\n",
       "      <td>67.428000</td>\n",
       "      <td>54.2</td>\n",
       "      <td>8.795823</td>\n",
       "      <td>91.370918</td>\n",
       "      <td>1359.514522</td>\n",
       "      <td>3.003063e+11</td>\n",
       "      <td>102.013283</td>\n",
       "      <td>1.449352</td>\n",
       "    </tr>\n",
       "    <tr>\n",
       "      <th>923</th>\n",
       "      <td>1120.528809</td>\n",
       "      <td>6.350890</td>\n",
       "      <td>54.0914</td>\n",
       "      <td>32971846</td>\n",
       "      <td>17.544</td>\n",
       "      <td>2.2120</td>\n",
       "      <td>76.947000</td>\n",
       "      <td>10.0</td>\n",
       "      <td>8.875630</td>\n",
       "      <td>138.650543</td>\n",
       "      <td>6117.493571</td>\n",
       "      <td>2.017051e+11</td>\n",
       "      <td>97.118416</td>\n",
       "      <td>1.265288</td>\n",
       "    </tr>\n",
       "    <tr>\n",
       "      <th>924</th>\n",
       "      <td>1478.129639</td>\n",
       "      <td>6.580783</td>\n",
       "      <td>9.4316</td>\n",
       "      <td>37899070</td>\n",
       "      <td>9.400</td>\n",
       "      <td>1.3800</td>\n",
       "      <td>76.600000</td>\n",
       "      <td>3.7</td>\n",
       "      <td>12.036605</td>\n",
       "      <td>143.445694</td>\n",
       "      <td>15742.453726</td>\n",
       "      <td>5.966244e+11</td>\n",
       "      <td>109.021774</td>\n",
       "      <td>1.052871</td>\n",
       "    </tr>\n",
       "    <tr>\n",
       "      <th>925</th>\n",
       "      <td>1275.656250</td>\n",
       "      <td>6.226472</td>\n",
       "      <td>34.1830</td>\n",
       "      <td>19257520</td>\n",
       "      <td>9.200</td>\n",
       "      <td>1.6000</td>\n",
       "      <td>74.353659</td>\n",
       "      <td>5.6</td>\n",
       "      <td>10.728133</td>\n",
       "      <td>137.003174</td>\n",
       "      <td>12956.566248</td>\n",
       "      <td>2.495113e+11</td>\n",
       "      <td>108.292877</td>\n",
       "      <td>0.910763</td>\n",
       "    </tr>\n",
       "    <tr>\n",
       "      <th>926</th>\n",
       "      <td>1236.374268</td>\n",
       "      <td>5.938318</td>\n",
       "      <td>17.4608</td>\n",
       "      <td>144073139</td>\n",
       "      <td>9.800</td>\n",
       "      <td>1.5050</td>\n",
       "      <td>71.338780</td>\n",
       "      <td>4.4</td>\n",
       "      <td>16.079330</td>\n",
       "      <td>131.321533</td>\n",
       "      <td>10161.982422</td>\n",
       "      <td>1.488322e+12</td>\n",
       "      <td>106.064194</td>\n",
       "      <td>1.922402</td>\n",
       "    </tr>\n",
       "    <tr>\n",
       "      <th>927</th>\n",
       "      <td>401.100525</td>\n",
       "      <td>5.839659</td>\n",
       "      <td>114.0080</td>\n",
       "      <td>59734213</td>\n",
       "      <td>35.981</td>\n",
       "      <td>4.7730</td>\n",
       "      <td>65.815000</td>\n",
       "      <td>34.7</td>\n",
       "      <td>7.728806</td>\n",
       "      <td>98.933060</td>\n",
       "      <td>1076.469727</td>\n",
       "      <td>6.240971e+10</td>\n",
       "      <td>110.551956</td>\n",
       "      <td>0.236761</td>\n",
       "    </tr>\n",
       "    <tr>\n",
       "      <th>928</th>\n",
       "      <td>3608.627686</td>\n",
       "      <td>10.079806</td>\n",
       "      <td>15.9486</td>\n",
       "      <td>331501080</td>\n",
       "      <td>10.900</td>\n",
       "      <td>1.6375</td>\n",
       "      <td>77.280488</td>\n",
       "      <td>5.4</td>\n",
       "      <td>12.051486</td>\n",
       "      <td>170.406006</td>\n",
       "      <td>63027.679527</td>\n",
       "      <td>2.089374e+13</td>\n",
       "      <td>108.372536</td>\n",
       "      <td>4.787493</td>\n",
       "    </tr>\n",
       "    <tr>\n",
       "      <th>929</th>\n",
       "      <td>703.688477</td>\n",
       "      <td>5.723536</td>\n",
       "      <td>67.7304</td>\n",
       "      <td>59308690</td>\n",
       "      <td>19.773</td>\n",
       "      <td>2.3580</td>\n",
       "      <td>64.379000</td>\n",
       "      <td>25.8</td>\n",
       "      <td>10.344507</td>\n",
       "      <td>107.799141</td>\n",
       "      <td>5655.867654</td>\n",
       "      <td>3.354421e+11</td>\n",
       "      <td>98.327690</td>\n",
       "      <td>4.930210</td>\n",
       "    </tr>\n",
       "  </tbody>\n",
       "</table>\n",
       "</div>"
      ],
      "text/plain": [
       "     SH.XPD.CHEX.PC.CD  SH.XPD.CHEX.GD.ZS  SP.ADO.TFRT  SP.POP.TOTL  \\\n",
       "900         536.546143           6.227864      57.5090     38928341   \n",
       "901        1526.933594           8.943119      62.1322     45376763   \n",
       "902        2861.852295           9.279371      10.5474     25693267   \n",
       "903         680.685913           5.061676      81.0144    164689383   \n",
       "904        1180.818359           7.167393      55.4354    212559409   \n",
       "905        1478.981445           7.257473      38.3112     19116209   \n",
       "906        1530.984619           6.390665       7.6590   1411100000   \n",
       "907          29.201660           4.706124     119.3768     89561404   \n",
       "908        1135.385376           6.593636      63.1440     50882884   \n",
       "909        2758.180176           9.015799       7.3804     83160871   \n",
       "910         825.566589           5.882424      51.6200    102334403   \n",
       "911        2088.563721           7.704158       7.0212     47363419   \n",
       "912         526.734375           5.365191      61.7704    114963583   \n",
       "913        2543.973389           8.625454       4.7546     67379908   \n",
       "914        2461.362061           8.117660      11.1830     67081000   \n",
       "915         826.958679           5.161829      45.9676    273523621   \n",
       "916         772.708069           4.925522       9.8584   1380004385   \n",
       "917        2216.189697           7.849214       4.8500     59449527   \n",
       "918        1098.140625           5.972261      20.2192     21919000   \n",
       "919        1108.608887           6.193309      57.6326    128932753   \n",
       "920         -52.087341           4.264695     101.6810    206139587   \n",
       "921         763.156616           5.434764      62.9550     29136808   \n",
       "922         511.009827           4.785351      37.0278    220892331   \n",
       "923        1120.528809           6.350890      54.0914     32971846   \n",
       "924        1478.129639           6.580783       9.4316     37899070   \n",
       "925        1275.656250           6.226472      34.1830     19257520   \n",
       "926        1236.374268           5.938318      17.4608    144073139   \n",
       "927         401.100525           5.839659     114.0080     59734213   \n",
       "928        3608.627686          10.079806      15.9486    331501080   \n",
       "929         703.688477           5.723536      67.7304     59308690   \n",
       "\n",
       "     SP.DYN.CBRT.IN  SP.DYN.TFRT.IN  SP.DYN.LE00.IN  SP.DYN.IMRT.IN  \\\n",
       "900          31.153          4.1760       65.173000            45.0   \n",
       "901          16.644          2.2330       76.813000             7.6   \n",
       "902          11.500          1.5810       83.200000             3.1   \n",
       "903          17.549          1.9870       72.868000            24.3   \n",
       "904          13.463          1.7060       76.084000            13.1   \n",
       "905          11.990          1.6110       80.329000             5.8   \n",
       "906           8.520          1.7000       77.097000             5.5   \n",
       "907          40.109          5.7180       60.971000            63.8   \n",
       "908          14.415          1.7710       77.460000            11.4   \n",
       "909           9.300          1.5300       80.941463             3.1   \n",
       "910          25.069          3.2360       72.150000            16.6   \n",
       "911           7.100          1.2300       82.334146             2.7   \n",
       "912          31.442          4.0490       66.953000            35.4   \n",
       "913          10.900          1.8300       82.175610             3.4   \n",
       "914          10.200          1.5600       80.902439             3.6   \n",
       "915          17.448          2.2660       71.908000            19.5   \n",
       "916          17.437          2.1840       69.887000            27.0   \n",
       "917           6.800          1.2400       82.343902             2.5   \n",
       "918          15.253          2.1740       77.144000             5.9   \n",
       "919          17.005          2.0790       75.131000            11.8   \n",
       "920          37.011          5.2480       55.018000            72.2   \n",
       "921          19.256          1.8450       71.067000            23.6   \n",
       "922          27.379          3.3940       67.428000            54.2   \n",
       "923          17.544          2.2120       76.947000            10.0   \n",
       "924           9.400          1.3800       76.600000             3.7   \n",
       "925           9.200          1.6000       74.353659             5.6   \n",
       "926           9.800          1.5050       71.338780             4.4   \n",
       "927          35.981          4.7730       65.815000            34.7   \n",
       "928          10.900          1.6375       77.280488             5.4   \n",
       "929          19.773          2.3580       64.379000            25.8   \n",
       "\n",
       "     SH.STA.SUIC.P5  ncd_bmi_25a  NY.GDP.PCAP.CD  NY.GDP.MKTP.CD  \\\n",
       "900        9.450924   104.659355      516.747871    2.011614e+10   \n",
       "901       11.722369   167.024155     8585.694742    3.895910e+11   \n",
       "902       13.635622   185.440765    51680.316523    1.327836e+12   \n",
       "903        8.181176   100.571129     2270.347535    3.739021e+11   \n",
       "904        9.336935   140.371735     6814.875632    1.448566e+12   \n",
       "905       11.283265   156.363647    13220.570758    2.527272e+11   \n",
       "906       12.341920   117.539986    10408.669756    1.468767e+13   \n",
       "907        7.105101    78.371590      543.950393    4.871696e+10   \n",
       "908        9.063702   141.311035     5312.198556    2.703000e+11   \n",
       "909       13.335325   168.284943    46252.689304    3.846414e+12   \n",
       "910        8.155272   128.593750     3569.206841    3.652527e+11   \n",
       "911       11.529097   162.225342    27056.421751    1.281485e+12   \n",
       "912        8.464987    93.370834      936.450758    1.076577e+11   \n",
       "913       13.817594   164.741364    39037.122631    2.630318e+12   \n",
       "914       11.495046   162.797134    41098.078653    2.756900e+12   \n",
       "915        8.417108   104.097008     3870.557620    1.058689e+12   \n",
       "916       11.413731    88.477554     1933.101069    2.667688e+12   \n",
       "917       11.413836   160.321960    31834.972618    1.892574e+12   \n",
       "918       12.393144   118.290810     3694.040948    8.096968e+10   \n",
       "919        8.699599   136.780212     8431.665017    1.087118e+12   \n",
       "920        6.208676    67.612747     2097.092473    4.322938e+11   \n",
       "921        8.914289   105.013809     1147.471971    3.343367e+10   \n",
       "922        8.795823    91.370918     1359.514522    3.003063e+11   \n",
       "923        8.875630   138.650543     6117.493571    2.017051e+11   \n",
       "924       12.036605   143.445694    15742.453726    5.966244e+11   \n",
       "925       10.728133   137.003174    12956.566248    2.495113e+11   \n",
       "926       16.079330   131.321533    10161.982422    1.488322e+12   \n",
       "927        7.728806    98.933060     1076.469727    6.240971e+10   \n",
       "928       12.051486   170.406006    63027.679527    2.089374e+13   \n",
       "929       10.344507   107.799141     5655.867654    3.354421e+11   \n",
       "\n",
       "     ncd_hyp_prevalence_a  SP.POP.GROW  \n",
       "900            120.887115     2.452592  \n",
       "901            122.446350     2.381574  \n",
       "902            119.506935     2.326823  \n",
       "903             96.439896     2.407921  \n",
       "904            111.827011     2.331429  \n",
       "905            111.624680     2.296680  \n",
       "906             93.323540     2.225538  \n",
       "907            106.100571     1.979483  \n",
       "908            103.168114     1.855595  \n",
       "909            120.077141     1.718963  \n",
       "910            104.934967     1.850968  \n",
       "911            109.631805     1.843426  \n",
       "912             97.506363     1.928508  \n",
       "913            113.025894     1.902110  \n",
       "914            110.767952     1.891731  \n",
       "915             98.997864     1.753303  \n",
       "916             90.198570     1.659233  \n",
       "917            113.373810     1.453573  \n",
       "918            102.642654     1.467200  \n",
       "919            101.333313     1.385721  \n",
       "920            100.288101     1.466723  \n",
       "921            100.094353     1.472435  \n",
       "922            102.013283     1.449352  \n",
       "923             97.118416     1.265288  \n",
       "924            109.021774     1.052871  \n",
       "925            108.292877     0.910763  \n",
       "926            106.064194     1.922402  \n",
       "927            110.551956     0.236761  \n",
       "928            108.372536     4.787493  \n",
       "929             98.327690     4.930210  "
      ]
     },
     "execution_count": 192,
     "metadata": {},
     "output_type": "execute_result"
    }
   ],
   "source": [
    "data"
   ]
  },
  {
   "cell_type": "code",
   "execution_count": 193,
   "id": "6ba17135-4939-41ea-930b-e633d9eb598b",
   "metadata": {},
   "outputs": [
    {
     "data": {
      "text/html": [
       "<div>\n",
       "<style scoped>\n",
       "    .dataframe tbody tr th:only-of-type {\n",
       "        vertical-align: middle;\n",
       "    }\n",
       "\n",
       "    .dataframe tbody tr th {\n",
       "        vertical-align: top;\n",
       "    }\n",
       "\n",
       "    .dataframe thead th {\n",
       "        text-align: right;\n",
       "    }\n",
       "</style>\n",
       "<table border=\"1\" class=\"dataframe\">\n",
       "  <thead>\n",
       "    <tr style=\"text-align: right;\">\n",
       "      <th></th>\n",
       "      <th>SH.XPD.CHEX.PC.CD</th>\n",
       "      <th>SH.XPD.CHEX.GD.ZS</th>\n",
       "      <th>SP.ADO.TFRT</th>\n",
       "      <th>SP.POP.TOTL</th>\n",
       "      <th>SP.DYN.CBRT.IN</th>\n",
       "      <th>SP.DYN.TFRT.IN</th>\n",
       "      <th>SP.DYN.LE00.IN</th>\n",
       "      <th>SP.DYN.IMRT.IN</th>\n",
       "      <th>SH.STA.SUIC.P5</th>\n",
       "      <th>ncd_bmi_25a</th>\n",
       "      <th>NY.GDP.PCAP.CD</th>\n",
       "      <th>NY.GDP.MKTP.CD</th>\n",
       "      <th>ncd_hyp_prevalence_a</th>\n",
       "      <th>SP.POP.GROW</th>\n",
       "    </tr>\n",
       "  </thead>\n",
       "  <tbody>\n",
       "  </tbody>\n",
       "</table>\n",
       "</div>"
      ],
      "text/plain": [
       "Empty DataFrame\n",
       "Columns: [SH.XPD.CHEX.PC.CD, SH.XPD.CHEX.GD.ZS, SP.ADO.TFRT, SP.POP.TOTL, SP.DYN.CBRT.IN, SP.DYN.TFRT.IN, SP.DYN.LE00.IN, SP.DYN.IMRT.IN, SH.STA.SUIC.P5, ncd_bmi_25a, NY.GDP.PCAP.CD, NY.GDP.MKTP.CD, ncd_hyp_prevalence_a, SP.POP.GROW]\n",
       "Index: []"
      ]
     },
     "execution_count": 193,
     "metadata": {},
     "output_type": "execute_result"
    }
   ],
   "source": [
    "#Buscamos si tenemos instancias duplicadas. Esto lo hacemos de la siguiente manera.\n",
    "data[data.duplicated()]"
   ]
  },
  {
   "cell_type": "code",
   "execution_count": 194,
   "id": "d286cf95-8af9-4c88-96e1-8e06ec4bba10",
   "metadata": {},
   "outputs": [
    {
     "name": "stdout",
     "output_type": "stream",
     "text": [
      "La cantidad de registros duplicados es: 0\n"
     ]
    }
   ],
   "source": [
    "print('La cantidad de registros duplicados es:', data.duplicated().sum())"
   ]
  },
  {
   "cell_type": "markdown",
   "id": "00e836b5-562a-4620-90c1-1e408d91e284",
   "metadata": {},
   "source": [
    "#### 1. Revisemos  los valores faltantes,\n",
    "\n",
    "    No tenemos valores faltantes pero lo hare esta vez  para cumplir la consigna."
   ]
  },
  {
   "cell_type": "code",
   "execution_count": 195,
   "id": "ba4da971-eba7-4ec3-9d84-26b24d52999a",
   "metadata": {},
   "outputs": [],
   "source": [
    "#pip install missingno \n",
    "\n",
    "import missingno as msno"
   ]
  },
  {
   "cell_type": "code",
   "execution_count": 196,
   "id": "f5baff39-15e9-4be2-9533-488eceef09e9",
   "metadata": {},
   "outputs": [
    {
     "data": {
      "image/png": "[encoded data removed]",
      "text/plain": [
       "<Figure size 1800x720 with 3 Axes>"
      ]
     },
     "metadata": {
      "needs_background": "light"
     },
     "output_type": "display_data"
    }
   ],
   "source": [
    "msno.bar(data)\n",
    "plt.show()"
   ]
  },
  {
   "cell_type": "code",
   "execution_count": 197,
   "id": "12e3db4b-ccbf-410a-8363-e4fb3c72a297",
   "metadata": {},
   "outputs": [
    {
     "data": {
      "image/png": "[encoded data removed]",
      "text/plain": [
       "<Figure size 1800x720 with 2 Axes>"
      ]
     },
     "metadata": {
      "needs_background": "light"
     },
     "output_type": "display_data"
    }
   ],
   "source": [
    "# Tomamos 10 muestras al azar de nuestra población\n",
    "\n",
    "msno.matrix(data.sample(10), labels = True, label_rotation = 90)\n",
    "plt.show()"
   ]
  },
  {
   "cell_type": "code",
   "execution_count": 198,
   "id": "21a8915d-3d31-46d9-8661-5f04d849149a",
   "metadata": {},
   "outputs": [
    {
     "data": {
      "image/png": "[encoded data removed]",
      "text/plain": [
       "<Figure size 1800x864 with 1 Axes>"
      ]
     },
     "metadata": {
      "needs_background": "light"
     },
     "output_type": "display_data"
    }
   ],
   "source": [
    "# Otra forma de visualizar la matriz con seaborn\n",
    "\n",
    "plt.figure(figsize= (25,12))\n",
    "sns.heatmap(data.isnull(), cbar=False)\n",
    "plt.show()"
   ]
  },
  {
   "cell_type": "markdown",
   "id": "122321b3-537e-48c1-aad6-3e74645edbd3",
   "metadata": {},
   "source": [
    "No definimos la estrategia que usaremos para la imputación. En este caso, por que no lo necesitamos"
   ]
  },
  {
   "cell_type": "markdown",
   "id": "3acb3fd6-cf89-4de1-87f6-e020d5f6cee0",
   "metadata": {},
   "source": [
    "# Escalado/normalización (Para este método, usamos MinMaxScaler de Scikit-learn)"
   ]
  },
  {
   "cell_type": "markdown",
   "id": "e67ecaac-dcb8-40b3-8bd9-1b5ab1f3ae78",
   "metadata": {},
   "source": [
    " Escalamos todas las variables numericas"
   ]
  },
  {
   "cell_type": "code",
   "execution_count": 199,
   "id": "9b735676-71da-49ee-ba3a-757e6038c9f4",
   "metadata": {},
   "outputs": [],
   "source": [
    "# importamos StandarScaler\n",
    "\n",
    "from sklearn.preprocessing import StandardScaler"
   ]
  },
  {
   "cell_type": "markdown",
   "id": "4069cf4b-89e3-4cbe-815c-6ab3d84e9f61",
   "metadata": {},
   "source": [
    "# GDP per capita"
   ]
  },
  {
   "cell_type": "code",
   "execution_count": 200,
   "id": "dc1c8380-ac78-4cf6-b849-a56bb0a73880",
   "metadata": {},
   "outputs": [
    {
     "data": {
      "image/png": "[encoded data removed]",
      "text/plain": [
       "<Figure size 432x288 with 1 Axes>"
      ]
     },
     "metadata": {
      "needs_background": "light"
     },
     "output_type": "display_data"
    }
   ],
   "source": [
    "# Trabajaremos con la variable Current health expenditure per capita (current US$). Veamos su distribución\n",
    "\n",
    "plt.hist(data['NY.GDP.PCAP.CD']) \n",
    "plt.show()"
   ]
  },
  {
   "cell_type": "code",
   "execution_count": 201,
   "id": "ff105e49-c612-4d19-9a72-9a6e5a1111c0",
   "metadata": {},
   "outputs": [
    {
     "name": "stderr",
     "output_type": "stream",
     "text": [
      "C:\\Users\\USER\\AppData\\Local\\Temp\\ipykernel_18748\\4186148836.py:7: SettingWithCopyWarning: \n",
      "A value is trying to be set on a copy of a slice from a DataFrame.\n",
      "Try using .loc[row_indexer,col_indexer] = value instead\n",
      "\n",
      "See the caveats in the documentation: https://pandas.pydata.org/pandas-docs/stable/user_guide/indexing.html#returning-a-view-versus-a-copy\n",
      "  data['NY.GDP.PCAP.CD'] = scaler.transform(data[['NY.GDP.PCAP.CD']])\n"
     ]
    }
   ],
   "source": [
    "# Escalamos \n",
    "\n",
    "scaler = StandardScaler()\n",
    "\n",
    "scaler.fit(data[['NY.GDP.PCAP.CD']])\n",
    "\n",
    "data['NY.GDP.PCAP.CD'] = scaler.transform(data[['NY.GDP.PCAP.CD']])"
   ]
  },
  {
   "cell_type": "code",
   "execution_count": 202,
   "id": "a72e207a-b545-4917-b940-27b46ccff294",
   "metadata": {},
   "outputs": [
    {
     "data": {
      "image/png": "[encoded data removed]",
      "text/plain": [
       "<Figure size 432x288 with 1 Axes>"
      ]
     },
     "metadata": {
      "needs_background": "light"
     },
     "output_type": "display_data"
    }
   ],
   "source": [
    "# Observamos cómo quedó la distribución luego de escalar\n",
    "\n",
    "plt.hist(data['NY.GDP.PCAP.CD']) \n",
    "plt.show()"
   ]
  },
  {
   "cell_type": "markdown",
   "id": "dcd94e5a-8694-4830-9775-f6bc8db5747f",
   "metadata": {
    "tags": []
   },
   "source": [
    "# GDP"
   ]
  },
  {
   "cell_type": "code",
   "execution_count": 203,
   "id": "dcabecc1-016a-4be9-b5a1-2942dfcd4148",
   "metadata": {},
   "outputs": [
    {
     "data": {
      "image/png": "[encoded data removed]",
      "text/plain": [
       "<Figure size 432x288 with 1 Axes>"
      ]
     },
     "metadata": {
      "needs_background": "light"
     },
     "output_type": "display_data"
    }
   ],
   "source": [
    "# Trabajaremos con la variable GDP. Veamos su distribución\n",
    "\n",
    "plt.hist(data['NY.GDP.MKTP.CD']) \n",
    "plt.show()"
   ]
  },
  {
   "cell_type": "code",
   "execution_count": 204,
   "id": "6edef605-0ee9-450c-98da-d4eab0ca2ef7",
   "metadata": {},
   "outputs": [
    {
     "name": "stderr",
     "output_type": "stream",
     "text": [
      "C:\\Users\\USER\\AppData\\Local\\Temp\\ipykernel_18748\\3619323469.py:7: SettingWithCopyWarning: \n",
      "A value is trying to be set on a copy of a slice from a DataFrame.\n",
      "Try using .loc[row_indexer,col_indexer] = value instead\n",
      "\n",
      "See the caveats in the documentation: https://pandas.pydata.org/pandas-docs/stable/user_guide/indexing.html#returning-a-view-versus-a-copy\n",
      "  data[\"NY.GDP.MKTP.CD\"] = scaler.transform(data[['NY.GDP.MKTP.CD']])\n"
     ]
    }
   ],
   "source": [
    "# Escalamos (GDP)\n",
    "\n",
    "scaler = StandardScaler()\n",
    "\n",
    "scaler.fit(data[['NY.GDP.MKTP.CD']])\n",
    "\n",
    "data[\"NY.GDP.MKTP.CD\"] = scaler.transform(data[['NY.GDP.MKTP.CD']])"
   ]
  },
  {
   "cell_type": "code",
   "execution_count": 205,
   "id": "74989bcc-ac4d-46c0-a4fc-5d3e69415dd5",
   "metadata": {},
   "outputs": [
    {
     "data": {
      "image/png": "[encoded data removed]",
      "text/plain": [
       "<Figure size 432x288 with 1 Axes>"
      ]
     },
     "metadata": {
      "needs_background": "light"
     },
     "output_type": "display_data"
    }
   ],
   "source": [
    "# Observamos cómo quedó la distribución luego de escalar\n",
    "\n",
    "plt.hist(data['NY.GDP.MKTP.CD']) \n",
    "plt.show()"
   ]
  },
  {
   "cell_type": "markdown",
   "id": "6b90666a-1f16-405d-810b-fa668de8f79f",
   "metadata": {},
   "source": [
    "## Suicide mortality rate (per 100,000 population)"
   ]
  },
  {
   "cell_type": "code",
   "execution_count": 206,
   "id": "8c1045dc-41cd-4fa3-91dd-000e6fa640ec",
   "metadata": {},
   "outputs": [
    {
     "data": {
      "image/png": "[encoded data removed]",
      "text/plain": [
       "<Figure size 432x288 with 1 Axes>"
      ]
     },
     "metadata": {
      "needs_background": "light"
     },
     "output_type": "display_data"
    }
   ],
   "source": [
    "# Trabajaremos con la variable Suicide mortality rate (per 100,000 population). Veamos su distribución\n",
    "\n",
    "plt.hist(data['SH.STA.SUIC.P5']) \n",
    "plt.show()"
   ]
  },
  {
   "cell_type": "code",
   "execution_count": 207,
   "id": "3b79ec01-fc21-4e4d-be69-09d2fe014fba",
   "metadata": {},
   "outputs": [
    {
     "name": "stderr",
     "output_type": "stream",
     "text": [
      "C:\\Users\\USER\\AppData\\Local\\Temp\\ipykernel_18748\\1816860225.py:7: SettingWithCopyWarning: \n",
      "A value is trying to be set on a copy of a slice from a DataFrame.\n",
      "Try using .loc[row_indexer,col_indexer] = value instead\n",
      "\n",
      "See the caveats in the documentation: https://pandas.pydata.org/pandas-docs/stable/user_guide/indexing.html#returning-a-view-versus-a-copy\n",
      "  data[\"SH.STA.SUIC.P5\"] = scaler.transform(data[['SH.STA.SUIC.P5']])\n"
     ]
    }
   ],
   "source": [
    "# Escalamos Suicide mortality rate (per 100,000 population)\n",
    "\n",
    "scaler = StandardScaler()\n",
    "\n",
    "scaler.fit(data[['SH.STA.SUIC.P5']])\n",
    "\n",
    "data[\"SH.STA.SUIC.P5\"] = scaler.transform(data[['SH.STA.SUIC.P5']])"
   ]
  },
  {
   "cell_type": "code",
   "execution_count": 208,
   "id": "0c62284d-e36b-4c67-9007-afdc3bc3fad7",
   "metadata": {},
   "outputs": [
    {
     "data": {
      "image/png": "[encoded data removed]",
      "text/plain": [
       "<Figure size 432x288 with 1 Axes>"
      ]
     },
     "metadata": {
      "needs_background": "light"
     },
     "output_type": "display_data"
    }
   ],
   "source": [
    "# Observamos cómo quedó la distribución luego de escalar\n",
    "\n",
    "plt.hist(data['SH.STA.SUIC.P5']) \n",
    "plt.show()"
   ]
  },
  {
   "cell_type": "markdown",
   "id": "d84aafa1-7563-4bfd-a3d2-5f9aa90296a5",
   "metadata": {},
   "source": [
    "## Current health expenditure (% of GDP)"
   ]
  },
  {
   "cell_type": "code",
   "execution_count": 209,
   "id": "b4cf084c-e07b-4952-86cd-fabfa7adee33",
   "metadata": {},
   "outputs": [
    {
     "data": {
      "image/png": "[encoded data removed]",
      "text/plain": [
       "<Figure size 432x288 with 1 Axes>"
      ]
     },
     "metadata": {
      "needs_background": "light"
     },
     "output_type": "display_data"
    }
   ],
   "source": [
    "# Trabajaremos con la variable Customer_care_calls. Veamos su distribución\n",
    "\n",
    "plt.hist(data['SH.XPD.CHEX.GD.ZS']) \n",
    "plt.show()"
   ]
  },
  {
   "cell_type": "code",
   "execution_count": 210,
   "id": "78447e6a-deed-4ec8-b127-5ae79d302600",
   "metadata": {},
   "outputs": [
    {
     "name": "stderr",
     "output_type": "stream",
     "text": [
      "C:\\Users\\USER\\AppData\\Local\\Temp\\ipykernel_18748\\154682944.py:7: SettingWithCopyWarning: \n",
      "A value is trying to be set on a copy of a slice from a DataFrame.\n",
      "Try using .loc[row_indexer,col_indexer] = value instead\n",
      "\n",
      "See the caveats in the documentation: https://pandas.pydata.org/pandas-docs/stable/user_guide/indexing.html#returning-a-view-versus-a-copy\n",
      "  data[\"SH.XPD.CHEX.GD.ZS\"] = scaler.transform(data[['SH.XPD.CHEX.GD.ZS']])\n"
     ]
    }
   ],
   "source": [
    "# Escalamos Customer_care_calls\n",
    "\n",
    "scaler = StandardScaler()\n",
    "\n",
    "scaler.fit(data[['SH.XPD.CHEX.GD.ZS']])\n",
    "\n",
    "data[\"SH.XPD.CHEX.GD.ZS\"] = scaler.transform(data[['SH.XPD.CHEX.GD.ZS']])"
   ]
  },
  {
   "cell_type": "code",
   "execution_count": 211,
   "id": "1dd42a02-acdd-47d3-869f-e46636853cbc",
   "metadata": {},
   "outputs": [
    {
     "data": {
      "image/png": "[encoded data removed]",
      "text/plain": [
       "<Figure size 432x288 with 1 Axes>"
      ]
     },
     "metadata": {
      "needs_background": "light"
     },
     "output_type": "display_data"
    }
   ],
   "source": [
    "# Observamos cómo quedó la distribución luego de escalar\n",
    "\n",
    "plt.hist(data['SH.XPD.CHEX.GD.ZS']) \n",
    "plt.show()"
   ]
  },
  {
   "cell_type": "markdown",
   "id": "f2873ba0-29f3-4554-a9ca-a1e73978a380",
   "metadata": {},
   "source": [
    "## Current health expenditure per capita (current US$)"
   ]
  },
  {
   "cell_type": "code",
   "execution_count": 212,
   "id": "f5bddb88-19b3-4770-9249-61ad1b3b0d32",
   "metadata": {},
   "outputs": [
    {
     "data": {
      "image/png": "[encoded data removed]",
      "text/plain": [
       "<Figure size 432x288 with 1 Axes>"
      ]
     },
     "metadata": {
      "needs_background": "light"
     },
     "output_type": "display_data"
    }
   ],
   "source": [
    "# Trabajaremos con la variable Current health expenditure per capita (current US$). Veamos su distribución\n",
    "\n",
    "plt.hist(data['SH.XPD.CHEX.PC.CD']) \n",
    "plt.show()"
   ]
  },
  {
   "cell_type": "code",
   "execution_count": 213,
   "id": "0dd5e1da-798f-46cf-be9a-0d6d2836eaa1",
   "metadata": {},
   "outputs": [
    {
     "name": "stderr",
     "output_type": "stream",
     "text": [
      "C:\\Users\\USER\\AppData\\Local\\Temp\\ipykernel_18748\\3986210741.py:7: SettingWithCopyWarning: \n",
      "A value is trying to be set on a copy of a slice from a DataFrame.\n",
      "Try using .loc[row_indexer,col_indexer] = value instead\n",
      "\n",
      "See the caveats in the documentation: https://pandas.pydata.org/pandas-docs/stable/user_guide/indexing.html#returning-a-view-versus-a-copy\n",
      "  data[\"SH.XPD.CHEX.PC.CD\"] = scaler.transform(data[['SH.XPD.CHEX.PC.CD']])\n"
     ]
    }
   ],
   "source": [
    "# Escalamos Current health expenditure per capita (current US$)\n",
    "\n",
    "scaler = StandardScaler()\n",
    "\n",
    "scaler.fit(data[['SH.XPD.CHEX.PC.CD']])\n",
    "\n",
    "data[\"SH.XPD.CHEX.PC.CD\"] = scaler.transform(data[['SH.XPD.CHEX.PC.CD']])"
   ]
  },
  {
   "cell_type": "code",
   "execution_count": 214,
   "id": "7a3d86fc-bbdf-4db7-a666-2670d55ecf16",
   "metadata": {},
   "outputs": [
    {
     "data": {
      "image/png": "[encoded data removed]",
      "text/plain": [
       "<Figure size 432x288 with 1 Axes>"
      ]
     },
     "metadata": {
      "needs_background": "light"
     },
     "output_type": "display_data"
    }
   ],
   "source": [
    "# Observamos cómo quedó la distribución luego de escalar\n",
    "\n",
    "plt.hist(data['SH.XPD.CHEX.PC.CD']) \n",
    "plt.show()"
   ]
  },
  {
   "cell_type": "markdown",
   "id": "7a98501d-6ce0-4c8b-bead-ba07c87eb563",
   "metadata": {},
   "source": [
    "## Adolescent fertility rate (births per 1,000 women ages 15-19)"
   ]
  },
  {
   "cell_type": "code",
   "execution_count": 215,
   "id": "770b3351-115e-42dc-a615-587b12a9f523",
   "metadata": {},
   "outputs": [
    {
     "data": {
      "image/png": "[encoded data removed]",
      "text/plain": [
       "<Figure size 432x288 with 1 Axes>"
      ]
     },
     "metadata": {
      "needs_background": "light"
     },
     "output_type": "display_data"
    }
   ],
   "source": [
    "# Trabajaremos con la variable Adolescent fertility rate (births per 1,000 women ages 15-19). Veamos su distribución\n",
    "\n",
    "plt.hist(data['SP.ADO.TFRT']) \n",
    "plt.show()"
   ]
  },
  {
   "cell_type": "code",
   "execution_count": 216,
   "id": "826780fc-ab55-4cd1-8c6f-f6d2ebedd27d",
   "metadata": {},
   "outputs": [
    {
     "name": "stderr",
     "output_type": "stream",
     "text": [
      "C:\\Users\\USER\\AppData\\Local\\Temp\\ipykernel_18748\\910245718.py:7: SettingWithCopyWarning: \n",
      "A value is trying to be set on a copy of a slice from a DataFrame.\n",
      "Try using .loc[row_indexer,col_indexer] = value instead\n",
      "\n",
      "See the caveats in the documentation: https://pandas.pydata.org/pandas-docs/stable/user_guide/indexing.html#returning-a-view-versus-a-copy\n",
      "  data[\"SP.ADO.TFRT\"] = scaler.transform(data[['SP.ADO.TFRT']])\n"
     ]
    }
   ],
   "source": [
    "# Escalamos Adolescent fertility rate (births per 1,000 women ages 15-19)\n",
    "\n",
    "scaler = StandardScaler()\n",
    "\n",
    "scaler.fit(data[['SP.ADO.TFRT']])\n",
    "\n",
    "data[\"SP.ADO.TFRT\"] = scaler.transform(data[['SP.ADO.TFRT']])"
   ]
  },
  {
   "cell_type": "code",
   "execution_count": 217,
   "id": "ca972e06-7d38-4b9d-85e4-3248460f42dd",
   "metadata": {},
   "outputs": [
    {
     "data": {
      "image/png": "[encoded data removed]",
      "text/plain": [
       "<Figure size 432x288 with 1 Axes>"
      ]
     },
     "metadata": {
      "needs_background": "light"
     },
     "output_type": "display_data"
    }
   ],
   "source": [
    "# Observamos cómo quedó la distribución luego de escalar\n",
    "\n",
    "plt.hist(data['SP.ADO.TFRT']) \n",
    "plt.show()"
   ]
  },
  {
   "cell_type": "markdown",
   "id": "e91f9bb2-1bfc-4add-9d95-0026eadee1b4",
   "metadata": {},
   "source": [
    "## Birth rate, crude (per 1000 people)"
   ]
  },
  {
   "cell_type": "code",
   "execution_count": 218,
   "id": "c1e72f25-b78b-4e8e-8863-77d5c9a8f10f",
   "metadata": {},
   "outputs": [
    {
     "data": {
      "image/png": "[encoded data removed]",
      "text/plain": [
       "<Figure size 432x288 with 1 Axes>"
      ]
     },
     "metadata": {
      "needs_background": "light"
     },
     "output_type": "display_data"
    }
   ],
   "source": [
    "# Trabajaremos con la variable Birth rate, crude (per 1000 people). Veamos su distribución\n",
    "\n",
    "plt.hist(data['SP.DYN.CBRT.IN']) \n",
    "plt.show()"
   ]
  },
  {
   "cell_type": "code",
   "execution_count": 219,
   "id": "5d2100ed-eaef-414c-a7c4-9aa9d4f590a0",
   "metadata": {},
   "outputs": [
    {
     "name": "stderr",
     "output_type": "stream",
     "text": [
      "C:\\Users\\USER\\AppData\\Local\\Temp\\ipykernel_18748\\3684788922.py:7: SettingWithCopyWarning: \n",
      "A value is trying to be set on a copy of a slice from a DataFrame.\n",
      "Try using .loc[row_indexer,col_indexer] = value instead\n",
      "\n",
      "See the caveats in the documentation: https://pandas.pydata.org/pandas-docs/stable/user_guide/indexing.html#returning-a-view-versus-a-copy\n",
      "  data[\"SP.DYN.CBRT.IN\"] = scaler.transform(data[['SP.DYN.CBRT.IN']])\n"
     ]
    }
   ],
   "source": [
    "# Escalamos Birth rate, crude (per 1000 people)\n",
    "\n",
    "scaler = StandardScaler()\n",
    "\n",
    "scaler.fit(data[['SP.DYN.CBRT.IN']])\n",
    "\n",
    "data[\"SP.DYN.CBRT.IN\"] = scaler.transform(data[['SP.DYN.CBRT.IN']])"
   ]
  },
  {
   "cell_type": "code",
   "execution_count": 220,
   "id": "afbf9c1d-a1b3-4a72-b2da-7df52ade19d3",
   "metadata": {},
   "outputs": [
    {
     "data": {
      "image/png": "[encoded data removed]",
      "text/plain": [
       "<Figure size 432x288 with 1 Axes>"
      ]
     },
     "metadata": {
      "needs_background": "light"
     },
     "output_type": "display_data"
    }
   ],
   "source": [
    "# Observamos cómo quedó la distribución luego de escalar\n",
    "\n",
    "plt.hist(data['SP.DYN.CBRT.IN']) \n",
    "plt.show()"
   ]
  },
  {
   "cell_type": "markdown",
   "id": "b51d145e-6073-48de-b231-532448e9b80a",
   "metadata": {},
   "source": [
    "## Mortality rate, infant (per 1,000 live births)"
   ]
  },
  {
   "cell_type": "code",
   "execution_count": 221,
   "id": "c0b9e2d8-eb89-4a4f-8728-96d77f78578b",
   "metadata": {},
   "outputs": [
    {
     "data": {
      "image/png": "[encoded data removed]",
      "text/plain": [
       "<Figure size 432x288 with 1 Axes>"
      ]
     },
     "metadata": {
      "needs_background": "light"
     },
     "output_type": "display_data"
    }
   ],
   "source": [
    "# Trabajaremos con la variable Mortality rate, infant (per 1,000 live births). Veamos su distribución\n",
    "\n",
    "plt.hist(data['SP.DYN.IMRT.IN']) \n",
    "plt.show()"
   ]
  },
  {
   "cell_type": "code",
   "execution_count": 222,
   "id": "d6e45421-fbcc-4a24-9546-4e4372dd8fe4",
   "metadata": {},
   "outputs": [
    {
     "name": "stderr",
     "output_type": "stream",
     "text": [
      "C:\\Users\\USER\\AppData\\Local\\Temp\\ipykernel_18748\\480758390.py:7: SettingWithCopyWarning: \n",
      "A value is trying to be set on a copy of a slice from a DataFrame.\n",
      "Try using .loc[row_indexer,col_indexer] = value instead\n",
      "\n",
      "See the caveats in the documentation: https://pandas.pydata.org/pandas-docs/stable/user_guide/indexing.html#returning-a-view-versus-a-copy\n",
      "  data[\"SP.DYN.IMRT.IN\"] = scaler.transform(data[['SP.DYN.IMRT.IN']])\n"
     ]
    }
   ],
   "source": [
    "# Escalamos Mortality rate, infant (per 1,000 live births)\n",
    "\n",
    "scaler = StandardScaler()\n",
    "\n",
    "scaler.fit(data[['SP.DYN.IMRT.IN']])\n",
    "\n",
    "data[\"SP.DYN.IMRT.IN\"] = scaler.transform(data[['SP.DYN.IMRT.IN']])"
   ]
  },
  {
   "cell_type": "code",
   "execution_count": 223,
   "id": "66ceb7b9-1a83-4425-805b-f72c3cbe80b3",
   "metadata": {},
   "outputs": [
    {
     "data": {
      "image/png": "[encoded data removed]",
      "text/plain": [
       "<Figure size 432x288 with 1 Axes>"
      ]
     },
     "metadata": {
      "needs_background": "light"
     },
     "output_type": "display_data"
    }
   ],
   "source": [
    "# Observamos cómo quedó la distribución luego de escalar\n",
    "\n",
    "plt.hist(data['SP.DYN.IMRT.IN']) \n",
    "plt.show()"
   ]
  },
  {
   "cell_type": "markdown",
   "id": "9c5e0c08-5a61-4ea7-bbe2-b8a3b8eed0ef",
   "metadata": {},
   "source": [
    "## Fertility rate, total (births per woman)"
   ]
  },
  {
   "cell_type": "code",
   "execution_count": 224,
   "id": "751118fd-fa1b-4773-8a15-b80d292403d9",
   "metadata": {},
   "outputs": [
    {
     "data": {
      "image/png": "[encoded data removed]",
      "text/plain": [
       "<Figure size 432x288 with 1 Axes>"
      ]
     },
     "metadata": {
      "needs_background": "light"
     },
     "output_type": "display_data"
    }
   ],
   "source": [
    "# Trabajaremos con la variable Fertility rate, total (births per woman). Veamos su distribución\n",
    "\n",
    "plt.hist(data['SP.DYN.TFRT.IN']) \n",
    "plt.show()"
   ]
  },
  {
   "cell_type": "code",
   "execution_count": 225,
   "id": "4095002b-93bf-40ec-a281-8893a63cbb7f",
   "metadata": {},
   "outputs": [
    {
     "name": "stderr",
     "output_type": "stream",
     "text": [
      "C:\\Users\\USER\\AppData\\Local\\Temp\\ipykernel_18748\\1801280473.py:7: SettingWithCopyWarning: \n",
      "A value is trying to be set on a copy of a slice from a DataFrame.\n",
      "Try using .loc[row_indexer,col_indexer] = value instead\n",
      "\n",
      "See the caveats in the documentation: https://pandas.pydata.org/pandas-docs/stable/user_guide/indexing.html#returning-a-view-versus-a-copy\n",
      "  data[\"SP.DYN.TFRT.IN\"] = scaler.transform(data[['SP.DYN.TFRT.IN']])\n"
     ]
    }
   ],
   "source": [
    "# Escalamos Fertility rate, total (births per woman)\n",
    "\n",
    "scaler = StandardScaler()\n",
    "\n",
    "scaler.fit(data[['SP.DYN.TFRT.IN']])\n",
    "\n",
    "data[\"SP.DYN.TFRT.IN\"] = scaler.transform(data[['SP.DYN.TFRT.IN']])"
   ]
  },
  {
   "cell_type": "code",
   "execution_count": 226,
   "id": "4a0fb792-fdc0-4f4d-ba09-795b20c02fbf",
   "metadata": {},
   "outputs": [
    {
     "data": {
      "image/png": "[encoded data removed]",
      "text/plain": [
       "<Figure size 432x288 with 1 Axes>"
      ]
     },
     "metadata": {
      "needs_background": "light"
     },
     "output_type": "display_data"
    }
   ],
   "source": [
    "# Observamos cómo quedó la distribución luego de escalar\n",
    "\n",
    "plt.hist(data['SP.DYN.TFRT.IN']) \n",
    "plt.show()"
   ]
  },
  {
   "cell_type": "markdown",
   "id": "929e216b-0e6a-43c0-92ad-68643fc7f37a",
   "metadata": {},
   "source": [
    "## Population growth (annual %)"
   ]
  },
  {
   "cell_type": "code",
   "execution_count": 227,
   "id": "74cec62a-fd05-4278-aba7-bd863f1b239a",
   "metadata": {},
   "outputs": [
    {
     "data": {
      "image/png": "[encoded data removed]",
      "text/plain": [
       "<Figure size 432x288 with 1 Axes>"
      ]
     },
     "metadata": {
      "needs_background": "light"
     },
     "output_type": "display_data"
    }
   ],
   "source": [
    "# Trabajaremos con la variable Population growth (annual %). Veamos su distribución\n",
    "\n",
    "plt.hist(data['SP.POP.GROW']) \n",
    "plt.show()"
   ]
  },
  {
   "cell_type": "code",
   "execution_count": 228,
   "id": "3e3c7644-3c00-4cf1-a310-a2fb9afda420",
   "metadata": {
    "tags": []
   },
   "outputs": [
    {
     "name": "stderr",
     "output_type": "stream",
     "text": [
      "C:\\Users\\USER\\AppData\\Local\\Temp\\ipykernel_18748\\897902998.py:7: SettingWithCopyWarning: \n",
      "A value is trying to be set on a copy of a slice from a DataFrame.\n",
      "Try using .loc[row_indexer,col_indexer] = value instead\n",
      "\n",
      "See the caveats in the documentation: https://pandas.pydata.org/pandas-docs/stable/user_guide/indexing.html#returning-a-view-versus-a-copy\n",
      "  data[\"SP.POP.GROW\"] = scaler.transform(data[['SP.POP.GROW']])\n"
     ]
    }
   ],
   "source": [
    "# Escalamos Population growth (annual %)\n",
    "\n",
    "scaler = StandardScaler()\n",
    "\n",
    "scaler.fit(data[['SP.POP.GROW']])\n",
    "\n",
    "data[\"SP.POP.GROW\"] = scaler.transform(data[['SP.POP.GROW']])"
   ]
  },
  {
   "cell_type": "code",
   "execution_count": 229,
   "id": "30d02ed1-7314-412a-b332-7a909bf60765",
   "metadata": {},
   "outputs": [
    {
     "data": {
      "image/png": "[encoded data removed]",
      "text/plain": [
       "<Figure size 432x288 with 1 Axes>"
      ]
     },
     "metadata": {
      "needs_background": "light"
     },
     "output_type": "display_data"
    }
   ],
   "source": [
    "# Observamos cómo quedó la distribución luego de escalar\n",
    "\n",
    "plt.hist(data['SP.POP.GROW']) \n",
    "plt.show()"
   ]
  },
  {
   "cell_type": "markdown",
   "id": "5ad79a70-15ac-4b4d-8119-f5aa8e370a75",
   "metadata": {},
   "source": [
    "## Population, total"
   ]
  },
  {
   "cell_type": "code",
   "execution_count": 230,
   "id": "6d43632a-681c-40e6-897f-f8430caf7e1a",
   "metadata": {},
   "outputs": [
    {
     "data": {
      "image/png": "[encoded data removed]",
      "text/plain": [
       "<Figure size 432x288 with 1 Axes>"
      ]
     },
     "metadata": {
      "needs_background": "light"
     },
     "output_type": "display_data"
    }
   ],
   "source": [
    "# Trabajaremos con la variable Population, total. Veamos su distribución\n",
    "\n",
    "plt.hist(data['SP.POP.TOTL']) \n",
    "plt.show()"
   ]
  },
  {
   "cell_type": "code",
   "execution_count": 231,
   "id": "572627ce-42d6-419d-8f04-36ab593dc030",
   "metadata": {},
   "outputs": [
    {
     "name": "stderr",
     "output_type": "stream",
     "text": [
      "C:\\Users\\USER\\AppData\\Local\\Temp\\ipykernel_18748\\1589506760.py:7: SettingWithCopyWarning: \n",
      "A value is trying to be set on a copy of a slice from a DataFrame.\n",
      "Try using .loc[row_indexer,col_indexer] = value instead\n",
      "\n",
      "See the caveats in the documentation: https://pandas.pydata.org/pandas-docs/stable/user_guide/indexing.html#returning-a-view-versus-a-copy\n",
      "  data[\"SP.POP.TOTL\"] = scaler.transform(data[['SP.POP.TOTL']])\n"
     ]
    }
   ],
   "source": [
    "# Escalamos Population, total\n",
    "\n",
    "scaler = StandardScaler()\n",
    "\n",
    "scaler.fit(data[['SP.POP.TOTL']])\n",
    "\n",
    "data[\"SP.POP.TOTL\"] = scaler.transform(data[['SP.POP.TOTL']])"
   ]
  },
  {
   "cell_type": "code",
   "execution_count": 232,
   "id": "a222b61c-058e-4abd-8880-047a64e70b23",
   "metadata": {},
   "outputs": [
    {
     "data": {
      "image/png": "[encoded data removed]",
      "text/plain": [
       "<Figure size 432x288 with 1 Axes>"
      ]
     },
     "metadata": {
      "needs_background": "light"
     },
     "output_type": "display_data"
    }
   ],
   "source": [
    "# Observamos cómo quedó la distribución luego de escalar\n",
    "\n",
    "plt.hist(data['SP.POP.TOTL']) \n",
    "plt.show()"
   ]
  },
  {
   "cell_type": "markdown",
   "id": "00c96fc6-09a2-440b-96f4-7c84e737f9fc",
   "metadata": {},
   "source": [
    "# Prevalence of hypertension among adults aged 30-79 years"
   ]
  },
  {
   "cell_type": "code",
   "execution_count": 233,
   "id": "38cbe34e-be3d-4aa5-950e-d8d3af2b9abe",
   "metadata": {},
   "outputs": [
    {
     "data": {
      "image/png": "[encoded data removed]",
      "text/plain": [
       "<Figure size 432x288 with 1 Axes>"
      ]
     },
     "metadata": {
      "needs_background": "light"
     },
     "output_type": "display_data"
    }
   ],
   "source": [
    "plt.hist(data['ncd_hyp_prevalence_a']) \n",
    "plt.show()"
   ]
  },
  {
   "cell_type": "code",
   "execution_count": 234,
   "id": "5898aaee-c66a-4f28-b3b9-e7afda6731f3",
   "metadata": {},
   "outputs": [
    {
     "name": "stderr",
     "output_type": "stream",
     "text": [
      "C:\\Users\\USER\\AppData\\Local\\Temp\\ipykernel_18748\\119564989.py:7: SettingWithCopyWarning: \n",
      "A value is trying to be set on a copy of a slice from a DataFrame.\n",
      "Try using .loc[row_indexer,col_indexer] = value instead\n",
      "\n",
      "See the caveats in the documentation: https://pandas.pydata.org/pandas-docs/stable/user_guide/indexing.html#returning-a-view-versus-a-copy\n",
      "  data[\"ncd_hyp_prevalence_a\"] = scaler.transform(data[['ncd_hyp_prevalence_a']])\n"
     ]
    }
   ],
   "source": [
    "# Escalamos Prevalence of hypertension among adults aged 30-79 years\n",
    "\n",
    "scaler = StandardScaler()\n",
    "\n",
    "scaler.fit(data[['ncd_hyp_prevalence_a']])\n",
    "\n",
    "data[\"ncd_hyp_prevalence_a\"] = scaler.transform(data[['ncd_hyp_prevalence_a']])"
   ]
  },
  {
   "cell_type": "code",
   "execution_count": 235,
   "id": "719998a6-02a8-4e96-a074-dc293efb2c4d",
   "metadata": {},
   "outputs": [
    {
     "data": {
      "image/png": "[encoded data removed]",
      "text/plain": [
       "<Figure size 432x288 with 1 Axes>"
      ]
     },
     "metadata": {
      "needs_background": "light"
     },
     "output_type": "display_data"
    }
   ],
   "source": [
    "# Observamos cómo quedó la distribución luego de escalar\n",
    "\n",
    "plt.hist(data['ncd_hyp_prevalence_a']) \n",
    "plt.show()"
   ]
  },
  {
   "cell_type": "markdown",
   "id": "65da334f-65f1-4940-bda1-0efa35b4302f",
   "metadata": {},
   "source": [
    "# BMI &GreaterEqual; 25 (crude estimate) (%)"
   ]
  },
  {
   "cell_type": "code",
   "execution_count": 236,
   "id": "c258949e-52ad-44e6-86c3-96a690b96242",
   "metadata": {},
   "outputs": [
    {
     "data": {
      "image/png": "[encoded data removed]",
      "text/plain": [
       "<Figure size 432x288 with 1 Axes>"
      ]
     },
     "metadata": {
      "needs_background": "light"
     },
     "output_type": "display_data"
    }
   ],
   "source": [
    "plt.hist(data['ncd_bmi_25a']) \n",
    "plt.show()"
   ]
  },
  {
   "cell_type": "code",
   "execution_count": 237,
   "id": "fc950627-901a-4fc8-a6c9-34da7ef55786",
   "metadata": {},
   "outputs": [
    {
     "name": "stderr",
     "output_type": "stream",
     "text": [
      "C:\\Users\\USER\\AppData\\Local\\Temp\\ipykernel_18748\\2177445613.py:7: SettingWithCopyWarning: \n",
      "A value is trying to be set on a copy of a slice from a DataFrame.\n",
      "Try using .loc[row_indexer,col_indexer] = value instead\n",
      "\n",
      "See the caveats in the documentation: https://pandas.pydata.org/pandas-docs/stable/user_guide/indexing.html#returning-a-view-versus-a-copy\n",
      "  data[\"ncd_bmi_25a\"] = scaler.transform(data[['ncd_bmi_25a']])\n"
     ]
    }
   ],
   "source": [
    "# Escalamos BMI &GreaterEqual; 25 (crude estimate) (%)\n",
    "\n",
    "scaler = StandardScaler()\n",
    "\n",
    "scaler.fit(data[['ncd_bmi_25a']])\n",
    "\n",
    "data[\"ncd_bmi_25a\"] = scaler.transform(data[['ncd_bmi_25a']])"
   ]
  },
  {
   "cell_type": "code",
   "execution_count": 238,
   "id": "d4eef146-704c-4a9a-886f-22dc92a9199c",
   "metadata": {},
   "outputs": [
    {
     "data": {
      "image/png": "[encoded data removed]",
      "text/plain": [
       "<Figure size 432x288 with 1 Axes>"
      ]
     },
     "metadata": {
      "needs_background": "light"
     },
     "output_type": "display_data"
    }
   ],
   "source": [
    "# Observamos cómo quedó la distribución luego de escalar\n",
    "\n",
    "plt.hist(data['ncd_bmi_25a']) \n",
    "plt.show()"
   ]
  },
  {
   "cell_type": "markdown",
   "id": "043ce32b-1588-4e8d-bd74-a1959163d874",
   "metadata": {},
   "source": [
    "# Correlacion de variables"
   ]
  },
  {
   "cell_type": "code",
   "execution_count": 239,
   "id": "5bba2f77-626c-4372-8f8d-3fe70c5f0b88",
   "metadata": {},
   "outputs": [],
   "source": [
    "import seaborn as sn"
   ]
  },
  {
   "cell_type": "code",
   "execution_count": 240,
   "id": "9c4416ea-3629-49a4-ba2e-18c37dc43ccf",
   "metadata": {},
   "outputs": [
    {
     "data": {
      "image/png": "[encoded data removed]",
      "text/plain": [
       "<Figure size 432x288 with 2 Axes>"
      ]
     },
     "metadata": {
      "needs_background": "light"
     },
     "output_type": "display_data"
    }
   ],
   "source": [
    "cordata=data.corr().round(2)\n",
    "sn.heatmap(cordata,annot=True)\n",
    "plt.show()"
   ]
  },
  {
   "cell_type": "markdown",
   "id": "e0f7cc0f-acc4-4498-a07a-649aa7b6aa38",
   "metadata": {},
   "source": [
    "#### Aqui un poco mas grande usando matplotlib "
   ]
  },
  {
   "cell_type": "code",
   "execution_count": 241,
   "id": "39739eb4-c361-4983-938b-b2bf87272beb",
   "metadata": {},
   "outputs": [
    {
     "data": {
      "image/png": "[encoded data removed]",
      "text/plain": [
       "<Figure size 1440x1440 with 2 Axes>"
      ]
     },
     "metadata": {
      "needs_background": "light"
     },
     "output_type": "display_data"
    }
   ],
   "source": [
    "fig,ax=plt.subplots(figsize=(20,20))\n",
    "sn.heatmap(cordata,annot=True)\n",
    "plt.show()"
   ]
  },
  {
   "cell_type": "markdown",
   "id": "1bd6be17-2352-4916-8574-db306f4daf23",
   "metadata": {},
   "source": [
    "## Simulamos Random Forest generando muestreos"
   ]
  },
  {
   "cell_type": "markdown",
   "id": "13dbb90d-b776-4c6a-a5ce-0da1503a3f01",
   "metadata": {},
   "source": [
    "Usare RandomForestRegressor para mi modelo predictorio"
   ]
  },
  {
   "cell_type": "markdown",
   "id": "700919cb-321e-4387-be6b-e6a7d7f6a8e0",
   "metadata": {},
   "source": [
    "### Paso 1"
   ]
  },
  {
   "cell_type": "code",
   "execution_count": 242,
   "id": "6eeba79f-c288-4d12-ad76-babf3ff87149",
   "metadata": {},
   "outputs": [
    {
     "name": "stdout",
     "output_type": "stream",
     "text": [
      "     SH.XPD.CHEX.PC.CD  SH.XPD.CHEX.GD.ZS  SP.ADO.TFRT  SP.POP.TOTL  \\\n",
      "925          -0.037234          -0.243834    -0.273008    -0.497092   \n",
      "928           2.663630           2.349224    -0.833578     0.440338   \n",
      "929          -0.699397          -0.582279     0.758321    -0.376849   \n",
      "927          -1.049701          -0.504135     2.181008    -0.375571   \n",
      "907          -1.480246          -1.266935     2.346058    -0.286023   \n",
      "911           0.903863           0.750558    -1.108028    -0.412711   \n",
      "915          -0.556688          -0.960273     0.089280     0.266276   \n",
      "920          -1.574353          -1.563989     1.802046     0.063973   \n",
      "918          -0.242743          -0.414902    -0.702289    -0.489101   \n",
      "900          -0.892897          -0.242897     0.444091    -0.438035   \n",
      "903          -0.726027          -1.027670     1.166704    -0.060470   \n",
      "919          -0.230624          -0.266151     0.447890    -0.167820   \n",
      "902           1.799093           1.810580    -0.999624    -0.477770   \n",
      "905           0.198154           0.449967    -0.146097    -0.497516   \n",
      "923          -0.216824          -0.160108     0.339025    -0.455918   \n",
      "912          -0.904256          -0.823423     0.575096    -0.209759   \n",
      "921          -0.630551          -0.776605     0.611514    -0.467432   \n",
      "924           0.197168          -0.005404    -1.033926    -0.441125   \n",
      "904          -0.147027           0.389348     0.380343     0.083247   \n",
      "917           1.051615           0.848172    -1.174776    -0.376426   \n",
      "\n",
      "     SP.DYN.CBRT.IN  SP.DYN.TFRT.IN  SP.DYN.LE00.IN  SP.DYN.IMRT.IN  \\\n",
      "925       -0.911411       -0.660736       74.353659       -0.677366   \n",
      "928       -0.728080       -0.629522       77.280488       -0.687986   \n",
      "929        0.228801       -0.029786       64.379000        0.395233   \n",
      "927        1.976701        1.980433       65.815000        0.867815   \n",
      "907        2.421872        2.767040       60.971000        2.412995   \n",
      "911       -1.137879       -0.968720       82.334146       -0.831353   \n",
      "915       -0.021931       -0.106365       71.908000        0.060710   \n",
      "920        2.087778        2.375817       55.018000        2.859027   \n",
      "918       -0.258644       -0.182945       77.144000       -0.661436   \n",
      "900        1.456041        1.483497       65.173000        1.414734   \n",
      "903       -0.011039       -0.338602       72.868000        0.315585   \n",
      "919       -0.069705       -0.262022       75.131000       -0.348152   \n",
      "902       -0.663375       -0.676552       83.200000       -0.810114   \n",
      "905       -0.610532       -0.651580       80.329000       -0.666746   \n",
      "923       -0.011579       -0.151314       76.947000       -0.443731   \n",
      "912        1.487207        1.377783       66.953000        0.904984   \n",
      "921        0.173047       -0.456801       71.067000        0.278416   \n",
      "924       -0.889842       -0.843862       76.600000       -0.778254   \n",
      "904       -0.451681       -0.572503       76.084000       -0.279124   \n",
      "917       -1.170231       -0.960396       82.343902       -0.841973   \n",
      "\n",
      "     SH.STA.SUIC.P5  ncd_bmi_25a  NY.GDP.PCAP.CD  NY.GDP.MKTP.CD  \\\n",
      "925        0.131418     0.257422       -0.073268       -0.407491   \n",
      "928        0.722622     1.337179        2.845012        4.291885   \n",
      "929       -0.039966    -0.686608       -0.498772       -0.387930   \n",
      "927       -1.208523    -0.973207       -0.765672       -0.450082   \n",
      "907       -1.487162    -1.637863       -0.796709       -0.453199   \n",
      "911        0.489246     1.072737        0.748510       -0.172577   \n",
      "915       -0.901027    -0.806281       -0.602825       -0.223293   \n",
      "920       -1.887637    -1.985646       -0.706187       -0.365883   \n",
      "918        0.875256    -0.347461       -0.613113       -0.445858   \n",
      "900       -0.439172    -0.788102       -0.798294       -0.459710   \n",
      "903       -1.006428    -0.920256       -0.696089       -0.379175   \n",
      "919       -0.774824     0.250215       -0.336991       -0.216822   \n",
      "902        1.430330     1.823183        2.183657       -0.162025   \n",
      "905        0.379421     0.883256       -0.057881       -0.406759   \n",
      "923       -0.696183     0.310674       -0.471867       -0.418374   \n",
      "912       -0.879637    -1.153008       -0.773833       -0.439782   \n",
      "921       -0.678912    -0.776645       -0.761534       -0.456678   \n",
      "924        0.715973     0.465678        0.089101       -0.328476   \n",
      "904       -0.490096     0.366312       -0.431222       -0.134543   \n",
      "917        0.437753     1.011209        1.027017       -0.033471   \n",
      "\n",
      "     ncd_hyp_prevalence_a  SP.POP.GROW  \n",
      "925              0.248144    -1.140537  \n",
      "928              0.257893     3.099570  \n",
      "929             -0.971455     3.255665  \n",
      "927              0.524624    -1.877714  \n",
      "907             -0.020164     0.028357  \n",
      "911              0.412010    -0.120452  \n",
      "915             -0.889435    -0.219023  \n",
      "920             -0.731528    -0.532465  \n",
      "918             -0.443364    -0.531943  \n",
      "900              1.789502     0.545813  \n",
      "903             -1.202494     0.496954  \n",
      "919             -0.603609    -0.621060  \n",
      "902              1.620587     0.408255  \n",
      "905              0.655910     0.375286  \n",
      "923             -1.119453    -0.752781  \n",
      "912             -1.071974    -0.027396  \n",
      "921             -0.755240    -0.526218  \n",
      "924              0.337351    -0.985108  \n",
      "904              0.680672     0.413293  \n",
      "917              0.869979    -0.546847  \n"
     ]
    }
   ],
   "source": [
    "#imprimo un muestro usando 2/3 de los datos\n",
    "print(data.sample(frac=2/3))"
   ]
  },
  {
   "cell_type": "markdown",
   "id": "5f5e151d-7044-4971-a238-5d337ed9cac8",
   "metadata": {},
   "source": [
    "### simulacion  + bootstrap"
   ]
  },
  {
   "cell_type": "code",
   "execution_count": 243,
   "id": "9ea6b9b7-a4e9-413f-b547-d30f31c0f7c2",
   "metadata": {},
   "outputs": [
    {
     "name": "stdout",
     "output_type": "stream",
     "text": [
      "     SH.XPD.CHEX.PC.CD  SH.XPD.CHEX.GD.ZS  SP.ADO.TFRT  SP.POP.TOTL  \\\n",
      "928           2.663630           2.349224    -0.833578     0.440338   \n",
      "905           0.198154           0.449967    -0.146097    -0.497516   \n",
      "924           0.197168          -0.005404    -1.033926    -0.441125   \n",
      "929          -0.699397          -0.582279     0.758321    -0.376849   \n",
      "908          -0.199625           0.003245     0.617324    -0.402145   \n",
      "916          -0.619494          -1.119294    -1.020805     3.588197   \n",
      "900          -0.892897          -0.242897     0.444091    -0.438035   \n",
      "913           1.431087           1.370534    -1.177708    -0.352617   \n",
      "910          -0.558300          -0.475357     0.263048    -0.247675   \n",
      "915          -0.556688          -0.960273     0.089280     0.266276   \n",
      "907          -1.480246          -1.266935     2.346058    -0.286023   \n",
      "909           1.679073           1.633212    -1.096985    -0.305239   \n",
      "917           1.051615           0.848172    -1.174776    -0.376426   \n",
      "921          -0.630551          -0.776605     0.611514    -0.467432   \n",
      "925          -0.037234          -0.243834    -0.273008    -0.497092   \n",
      "925          -0.037234          -0.243834    -0.273008    -0.497092   \n",
      "923          -0.216824          -0.160108     0.339025    -0.455918   \n",
      "926          -0.082711          -0.437744    -0.787089    -0.122365   \n",
      "900          -0.892897          -0.242897     0.444091    -0.438035   \n",
      "914           1.335449           1.028819    -0.980084    -0.353514   \n",
      "\n",
      "     SP.DYN.CBRT.IN  SP.DYN.TFRT.IN  SP.DYN.LE00.IN  SP.DYN.IMRT.IN  \\\n",
      "928       -0.728080       -0.629522       77.280488       -0.687986   \n",
      "905       -0.610532       -0.651580       80.329000       -0.666746   \n",
      "924       -0.889842       -0.843862       76.600000       -0.778254   \n",
      "929        0.228801       -0.029786       64.379000        0.395233   \n",
      "908       -0.349016       -0.518398       77.460000       -0.369392   \n",
      "916       -0.023118       -0.174621       69.887000        0.458952   \n",
      "900        1.456041        1.483497       65.173000        1.414734   \n",
      "913       -0.728080       -0.469287       82.175610       -0.794184   \n",
      "910        0.799931        0.701052       72.150000       -0.093277   \n",
      "915       -0.021931       -0.106365       71.908000        0.060710   \n",
      "907        2.421872        2.767040       60.971000        2.412995   \n",
      "909       -0.900627       -0.719003       80.941463       -0.810114   \n",
      "917       -1.170231       -0.960396       82.343902       -0.841973   \n",
      "921        0.173047       -0.456801       71.067000        0.278416   \n",
      "925       -0.911411       -0.660736       74.353659       -0.677366   \n",
      "925       -0.911411       -0.660736       74.353659       -0.677366   \n",
      "923       -0.011579       -0.151314       76.947000       -0.443731   \n",
      "926       -0.846706       -0.739813       71.338780       -0.741085   \n",
      "900        1.456041        1.483497       65.173000        1.414734   \n",
      "914       -0.803569       -0.694032       80.902439       -0.783564   \n",
      "\n",
      "     SH.STA.SUIC.P5  ncd_bmi_25a  NY.GDP.PCAP.CD  NY.GDP.MKTP.CD  \\\n",
      "928        0.722622     1.337179        2.845012        4.291885   \n",
      "905        0.379421     0.883256       -0.057881       -0.406759   \n",
      "924        0.715973     0.465678        0.089101       -0.328476   \n",
      "929       -0.039966    -0.686608       -0.498772       -0.387930   \n",
      "908       -0.612162     0.396675       -0.518802       -0.402759   \n",
      "916        0.437706    -1.311184       -0.715745        0.142973   \n",
      "900       -0.439172    -0.788102       -0.798294       -0.459710   \n",
      "913        1.511625     1.154068        1.446778        0.134467   \n",
      "910       -1.018001    -0.014415       -0.620388       -0.381144   \n",
      "915       -0.901027    -0.806281       -0.602825       -0.223293   \n",
      "907       -1.487162    -1.637863       -0.796709       -0.453199   \n",
      "909        1.296173     1.268615        1.867320        0.411294   \n",
      "917        0.437753     1.011209        1.027017       -0.033471   \n",
      "921       -0.678912    -0.776645       -0.761534       -0.456678   \n",
      "925        0.131418     0.257422       -0.073268       -0.407491   \n",
      "925        0.131418     0.257422       -0.073268       -0.407491   \n",
      "923       -0.696183     0.310674       -0.471867       -0.418374   \n",
      "926        2.522049     0.073761       -0.236144       -0.125493   \n",
      "900       -0.439172    -0.788102       -0.798294       -0.459710   \n",
      "914        0.474033     1.091220        1.566896        0.163281   \n",
      "\n",
      "     ncd_hyp_prevalence_a  SP.POP.GROW  \n",
      "928              0.257893     3.099570  \n",
      "905              0.655910     0.375286  \n",
      "924              0.337351    -0.985108  \n",
      "929             -0.971455     3.255665  \n",
      "908             -0.379055    -0.107143  \n",
      "916             -1.966345    -0.321910  \n",
      "900              1.789502     0.545813  \n",
      "913              0.827399    -0.056267  \n",
      "910             -0.162817    -0.112204  \n",
      "915             -0.889435    -0.219023  \n",
      "907             -0.020164     0.028357  \n",
      "909              1.690372    -0.256581  \n",
      "917              0.869979    -0.546847  \n",
      "921             -0.755240    -0.526218  \n",
      "925              0.248144    -1.140537  \n",
      "925              0.248144    -1.140537  \n",
      "923             -1.119453    -0.752781  \n",
      "926             -0.024616    -0.034074  \n",
      "900              1.789502     0.545813  \n",
      "914              0.551058    -0.067620  \n"
     ]
    }
   ],
   "source": [
    "print(data.sample(frac=2/3,replace=True))"
   ]
  },
  {
   "cell_type": "markdown",
   "id": "5e093ffc-0034-4a41-8553-65d5eafe6100",
   "metadata": {},
   "source": [
    "# Creación de Bosque Aleatorio de Regresion(RandomForestRegressor)"
   ]
  },
  {
   "cell_type": "code",
   "execution_count": 244,
   "id": "f4ff5c56-33ff-4db8-b0bd-2f837f4a6f23",
   "metadata": {},
   "outputs": [],
   "source": [
    "import numpy as np\n",
    "from sklearn import svm\n",
    "import pandas as pd\n",
    "import pickle\n",
    "from sklearn.model_selection import train_test_split\n",
    "import sklearn\n",
    "from sklearn.ensemble import RandomForestRegressor"
   ]
  },
  {
   "cell_type": "code",
   "execution_count": 245,
   "id": "d9dd6e0d-4798-412f-bf2a-6f37202e89e0",
   "metadata": {},
   "outputs": [
    {
     "data": {
      "text/html": [
       "<div>\n",
       "<style scoped>\n",
       "    .dataframe tbody tr th:only-of-type {\n",
       "        vertical-align: middle;\n",
       "    }\n",
       "\n",
       "    .dataframe tbody tr th {\n",
       "        vertical-align: top;\n",
       "    }\n",
       "\n",
       "    .dataframe thead th {\n",
       "        text-align: right;\n",
       "    }\n",
       "</style>\n",
       "<table border=\"1\" class=\"dataframe\">\n",
       "  <thead>\n",
       "    <tr style=\"text-align: right;\">\n",
       "      <th></th>\n",
       "      <th>SH.XPD.CHEX.PC.CD</th>\n",
       "      <th>SH.XPD.CHEX.GD.ZS</th>\n",
       "      <th>SP.ADO.TFRT</th>\n",
       "      <th>SP.POP.TOTL</th>\n",
       "      <th>SP.DYN.CBRT.IN</th>\n",
       "      <th>SP.DYN.TFRT.IN</th>\n",
       "      <th>SP.DYN.LE00.IN</th>\n",
       "      <th>SP.DYN.IMRT.IN</th>\n",
       "      <th>SH.STA.SUIC.P5</th>\n",
       "      <th>ncd_bmi_25a</th>\n",
       "      <th>NY.GDP.PCAP.CD</th>\n",
       "      <th>NY.GDP.MKTP.CD</th>\n",
       "      <th>ncd_hyp_prevalence_a</th>\n",
       "      <th>SP.POP.GROW</th>\n",
       "    </tr>\n",
       "  </thead>\n",
       "  <tbody>\n",
       "    <tr>\n",
       "      <th>900</th>\n",
       "      <td>-0.892897</td>\n",
       "      <td>-0.242897</td>\n",
       "      <td>0.444091</td>\n",
       "      <td>-0.438035</td>\n",
       "      <td>1.456041</td>\n",
       "      <td>1.483497</td>\n",
       "      <td>65.173000</td>\n",
       "      <td>1.414734</td>\n",
       "      <td>-0.439172</td>\n",
       "      <td>-0.788102</td>\n",
       "      <td>-0.798294</td>\n",
       "      <td>-0.459710</td>\n",
       "      <td>1.789502</td>\n",
       "      <td>0.545813</td>\n",
       "    </tr>\n",
       "    <tr>\n",
       "      <th>901</th>\n",
       "      <td>0.253668</td>\n",
       "      <td>1.584303</td>\n",
       "      <td>0.586219</td>\n",
       "      <td>-0.418676</td>\n",
       "      <td>-0.108636</td>\n",
       "      <td>-0.133834</td>\n",
       "      <td>76.813000</td>\n",
       "      <td>-0.571168</td>\n",
       "      <td>0.575590</td>\n",
       "      <td>1.227860</td>\n",
       "      <td>-0.328014</td>\n",
       "      <td>-0.375604</td>\n",
       "      <td>1.980330</td>\n",
       "      <td>0.468138</td>\n",
       "    </tr>\n",
       "    <tr>\n",
       "      <th>902</th>\n",
       "      <td>1.799093</td>\n",
       "      <td>1.810580</td>\n",
       "      <td>-0.999624</td>\n",
       "      <td>-0.477770</td>\n",
       "      <td>-0.663375</td>\n",
       "      <td>-0.676552</td>\n",
       "      <td>83.200000</td>\n",
       "      <td>-0.810114</td>\n",
       "      <td>1.430330</td>\n",
       "      <td>1.823183</td>\n",
       "      <td>2.183657</td>\n",
       "      <td>-0.162025</td>\n",
       "      <td>1.620587</td>\n",
       "      <td>0.408255</td>\n",
       "    </tr>\n",
       "    <tr>\n",
       "      <th>903</th>\n",
       "      <td>-0.726027</td>\n",
       "      <td>-1.027670</td>\n",
       "      <td>1.166704</td>\n",
       "      <td>-0.060470</td>\n",
       "      <td>-0.011039</td>\n",
       "      <td>-0.338602</td>\n",
       "      <td>72.868000</td>\n",
       "      <td>0.315585</td>\n",
       "      <td>-1.006428</td>\n",
       "      <td>-0.920256</td>\n",
       "      <td>-0.696089</td>\n",
       "      <td>-0.379175</td>\n",
       "      <td>-1.202494</td>\n",
       "      <td>0.496954</td>\n",
       "    </tr>\n",
       "    <tr>\n",
       "      <th>904</th>\n",
       "      <td>-0.147027</td>\n",
       "      <td>0.389348</td>\n",
       "      <td>0.380343</td>\n",
       "      <td>0.083247</td>\n",
       "      <td>-0.451681</td>\n",
       "      <td>-0.572503</td>\n",
       "      <td>76.084000</td>\n",
       "      <td>-0.279124</td>\n",
       "      <td>-0.490096</td>\n",
       "      <td>0.366312</td>\n",
       "      <td>-0.431222</td>\n",
       "      <td>-0.134543</td>\n",
       "      <td>0.680672</td>\n",
       "      <td>0.413293</td>\n",
       "    </tr>\n",
       "    <tr>\n",
       "      <th>905</th>\n",
       "      <td>0.198154</td>\n",
       "      <td>0.449967</td>\n",
       "      <td>-0.146097</td>\n",
       "      <td>-0.497516</td>\n",
       "      <td>-0.610532</td>\n",
       "      <td>-0.651580</td>\n",
       "      <td>80.329000</td>\n",
       "      <td>-0.666746</td>\n",
       "      <td>0.379421</td>\n",
       "      <td>0.883256</td>\n",
       "      <td>-0.057881</td>\n",
       "      <td>-0.406759</td>\n",
       "      <td>0.655910</td>\n",
       "      <td>0.375286</td>\n",
       "    </tr>\n",
       "    <tr>\n",
       "      <th>906</th>\n",
       "      <td>0.258358</td>\n",
       "      <td>-0.133342</td>\n",
       "      <td>-1.088420</td>\n",
       "      <td>3.681554</td>\n",
       "      <td>-0.984743</td>\n",
       "      <td>-0.577497</td>\n",
       "      <td>77.097000</td>\n",
       "      <td>-0.682676</td>\n",
       "      <td>0.852372</td>\n",
       "      <td>-0.371732</td>\n",
       "      <td>-0.221766</td>\n",
       "      <td>2.879159</td>\n",
       "      <td>-1.583893</td>\n",
       "      <td>0.297476</td>\n",
       "    </tr>\n",
       "    <tr>\n",
       "      <th>907</th>\n",
       "      <td>-1.480246</td>\n",
       "      <td>-1.266935</td>\n",
       "      <td>2.346058</td>\n",
       "      <td>-0.286023</td>\n",
       "      <td>2.421872</td>\n",
       "      <td>2.767040</td>\n",
       "      <td>60.971000</td>\n",
       "      <td>2.412995</td>\n",
       "      <td>-1.487162</td>\n",
       "      <td>-1.637863</td>\n",
       "      <td>-0.796709</td>\n",
       "      <td>-0.453199</td>\n",
       "      <td>-0.020164</td>\n",
       "      <td>0.028357</td>\n",
       "    </tr>\n",
       "    <tr>\n",
       "      <th>908</th>\n",
       "      <td>-0.199625</td>\n",
       "      <td>0.003245</td>\n",
       "      <td>0.617324</td>\n",
       "      <td>-0.402145</td>\n",
       "      <td>-0.349016</td>\n",
       "      <td>-0.518398</td>\n",
       "      <td>77.460000</td>\n",
       "      <td>-0.369392</td>\n",
       "      <td>-0.612162</td>\n",
       "      <td>0.396675</td>\n",
       "      <td>-0.518802</td>\n",
       "      <td>-0.402759</td>\n",
       "      <td>-0.379055</td>\n",
       "      <td>-0.107143</td>\n",
       "    </tr>\n",
       "    <tr>\n",
       "      <th>909</th>\n",
       "      <td>1.679073</td>\n",
       "      <td>1.633212</td>\n",
       "      <td>-1.096985</td>\n",
       "      <td>-0.305239</td>\n",
       "      <td>-0.900627</td>\n",
       "      <td>-0.719003</td>\n",
       "      <td>80.941463</td>\n",
       "      <td>-0.810114</td>\n",
       "      <td>1.296173</td>\n",
       "      <td>1.268615</td>\n",
       "      <td>1.867320</td>\n",
       "      <td>0.411294</td>\n",
       "      <td>1.690372</td>\n",
       "      <td>-0.256581</td>\n",
       "    </tr>\n",
       "  </tbody>\n",
       "</table>\n",
       "</div>"
      ],
      "text/plain": [
       "     SH.XPD.CHEX.PC.CD  SH.XPD.CHEX.GD.ZS  SP.ADO.TFRT  SP.POP.TOTL  \\\n",
       "900          -0.892897          -0.242897     0.444091    -0.438035   \n",
       "901           0.253668           1.584303     0.586219    -0.418676   \n",
       "902           1.799093           1.810580    -0.999624    -0.477770   \n",
       "903          -0.726027          -1.027670     1.166704    -0.060470   \n",
       "904          -0.147027           0.389348     0.380343     0.083247   \n",
       "905           0.198154           0.449967    -0.146097    -0.497516   \n",
       "906           0.258358          -0.133342    -1.088420     3.681554   \n",
       "907          -1.480246          -1.266935     2.346058    -0.286023   \n",
       "908          -0.199625           0.003245     0.617324    -0.402145   \n",
       "909           1.679073           1.633212    -1.096985    -0.305239   \n",
       "\n",
       "     SP.DYN.CBRT.IN  SP.DYN.TFRT.IN  SP.DYN.LE00.IN  SP.DYN.IMRT.IN  \\\n",
       "900        1.456041        1.483497       65.173000        1.414734   \n",
       "901       -0.108636       -0.133834       76.813000       -0.571168   \n",
       "902       -0.663375       -0.676552       83.200000       -0.810114   \n",
       "903       -0.011039       -0.338602       72.868000        0.315585   \n",
       "904       -0.451681       -0.572503       76.084000       -0.279124   \n",
       "905       -0.610532       -0.651580       80.329000       -0.666746   \n",
       "906       -0.984743       -0.577497       77.097000       -0.682676   \n",
       "907        2.421872        2.767040       60.971000        2.412995   \n",
       "908       -0.349016       -0.518398       77.460000       -0.369392   \n",
       "909       -0.900627       -0.719003       80.941463       -0.810114   \n",
       "\n",
       "     SH.STA.SUIC.P5  ncd_bmi_25a  NY.GDP.PCAP.CD  NY.GDP.MKTP.CD  \\\n",
       "900       -0.439172    -0.788102       -0.798294       -0.459710   \n",
       "901        0.575590     1.227860       -0.328014       -0.375604   \n",
       "902        1.430330     1.823183        2.183657       -0.162025   \n",
       "903       -1.006428    -0.920256       -0.696089       -0.379175   \n",
       "904       -0.490096     0.366312       -0.431222       -0.134543   \n",
       "905        0.379421     0.883256       -0.057881       -0.406759   \n",
       "906        0.852372    -0.371732       -0.221766        2.879159   \n",
       "907       -1.487162    -1.637863       -0.796709       -0.453199   \n",
       "908       -0.612162     0.396675       -0.518802       -0.402759   \n",
       "909        1.296173     1.268615        1.867320        0.411294   \n",
       "\n",
       "     ncd_hyp_prevalence_a  SP.POP.GROW  \n",
       "900              1.789502     0.545813  \n",
       "901              1.980330     0.468138  \n",
       "902              1.620587     0.408255  \n",
       "903             -1.202494     0.496954  \n",
       "904              0.680672     0.413293  \n",
       "905              0.655910     0.375286  \n",
       "906             -1.583893     0.297476  \n",
       "907             -0.020164     0.028357  \n",
       "908             -0.379055    -0.107143  \n",
       "909              1.690372    -0.256581  "
      ]
     },
     "execution_count": 245,
     "metadata": {},
     "output_type": "execute_result"
    }
   ],
   "source": [
    "data.head(10)"
   ]
  },
  {
   "cell_type": "code",
   "execution_count": 246,
   "id": "f01919db-af2e-4f09-8bf9-086b66cdbda1",
   "metadata": {},
   "outputs": [
    {
     "name": "stdout",
     "output_type": "stream",
     "text": [
      "<class 'pandas.core.frame.DataFrame'>\n",
      "Int64Index: 30 entries, 900 to 929\n",
      "Data columns (total 14 columns):\n",
      " #   Column                Non-Null Count  Dtype  \n",
      "---  ------                --------------  -----  \n",
      " 0   SH.XPD.CHEX.PC.CD     30 non-null     float64\n",
      " 1   SH.XPD.CHEX.GD.ZS     30 non-null     float64\n",
      " 2   SP.ADO.TFRT           30 non-null     float64\n",
      " 3   SP.POP.TOTL           30 non-null     float64\n",
      " 4   SP.DYN.CBRT.IN        30 non-null     float64\n",
      " 5   SP.DYN.TFRT.IN        30 non-null     float64\n",
      " 6   SP.DYN.LE00.IN        30 non-null     float64\n",
      " 7   SP.DYN.IMRT.IN        30 non-null     float64\n",
      " 8   SH.STA.SUIC.P5        30 non-null     float64\n",
      " 9   ncd_bmi_25a           30 non-null     float64\n",
      " 10  NY.GDP.PCAP.CD        30 non-null     float64\n",
      " 11  NY.GDP.MKTP.CD        30 non-null     float64\n",
      " 12  ncd_hyp_prevalence_a  30 non-null     float64\n",
      " 13  SP.POP.GROW           30 non-null     float64\n",
      "dtypes: float64(14)\n",
      "memory usage: 3.5 KB\n"
     ]
    }
   ],
   "source": [
    "data.info()"
   ]
  },
  {
   "cell_type": "code",
   "execution_count": 247,
   "id": "d81aaea7-6875-4654-982c-383ef7847dc9",
   "metadata": {},
   "outputs": [
    {
     "data": {
      "text/html": [
       "<div>\n",
       "<style scoped>\n",
       "    .dataframe tbody tr th:only-of-type {\n",
       "        vertical-align: middle;\n",
       "    }\n",
       "\n",
       "    .dataframe tbody tr th {\n",
       "        vertical-align: top;\n",
       "    }\n",
       "\n",
       "    .dataframe thead th {\n",
       "        text-align: right;\n",
       "    }\n",
       "</style>\n",
       "<table border=\"1\" class=\"dataframe\">\n",
       "  <thead>\n",
       "    <tr style=\"text-align: right;\">\n",
       "      <th></th>\n",
       "      <th>SH.XPD.CHEX.PC.CD</th>\n",
       "      <th>SH.XPD.CHEX.GD.ZS</th>\n",
       "      <th>SP.ADO.TFRT</th>\n",
       "      <th>SP.POP.TOTL</th>\n",
       "      <th>SP.DYN.CBRT.IN</th>\n",
       "      <th>SP.DYN.TFRT.IN</th>\n",
       "      <th>SP.DYN.LE00.IN</th>\n",
       "      <th>SP.DYN.IMRT.IN</th>\n",
       "      <th>SH.STA.SUIC.P5</th>\n",
       "      <th>ncd_bmi_25a</th>\n",
       "      <th>NY.GDP.PCAP.CD</th>\n",
       "      <th>NY.GDP.MKTP.CD</th>\n",
       "      <th>ncd_hyp_prevalence_a</th>\n",
       "      <th>SP.POP.GROW</th>\n",
       "    </tr>\n",
       "  </thead>\n",
       "  <tbody>\n",
       "    <tr>\n",
       "      <th>count</th>\n",
       "      <td>3.000000e+01</td>\n",
       "      <td>3.000000e+01</td>\n",
       "      <td>3.000000e+01</td>\n",
       "      <td>3.000000e+01</td>\n",
       "      <td>3.000000e+01</td>\n",
       "      <td>3.000000e+01</td>\n",
       "      <td>30.000000</td>\n",
       "      <td>3.000000e+01</td>\n",
       "      <td>3.000000e+01</td>\n",
       "      <td>3.000000e+01</td>\n",
       "      <td>3.000000e+01</td>\n",
       "      <td>3.000000e+01</td>\n",
       "      <td>3.000000e+01</td>\n",
       "      <td>3.000000e+01</td>\n",
       "    </tr>\n",
       "    <tr>\n",
       "      <th>mean</th>\n",
       "      <td>-6.661338e-17</td>\n",
       "      <td>5.255056e-16</td>\n",
       "      <td>7.031412e-17</td>\n",
       "      <td>6.106227e-17</td>\n",
       "      <td>2.488750e-16</td>\n",
       "      <td>-3.545775e-16</td>\n",
       "      <td>73.736416</td>\n",
       "      <td>4.440892e-17</td>\n",
       "      <td>-1.805038e-15</td>\n",
       "      <td>5.847175e-16</td>\n",
       "      <td>-1.480297e-17</td>\n",
       "      <td>2.035409e-17</td>\n",
       "      <td>1.125026e-15</td>\n",
       "      <td>1.480297e-17</td>\n",
       "    </tr>\n",
       "    <tr>\n",
       "      <th>std</th>\n",
       "      <td>1.017095e+00</td>\n",
       "      <td>1.017095e+00</td>\n",
       "      <td>1.017095e+00</td>\n",
       "      <td>1.017095e+00</td>\n",
       "      <td>1.017095e+00</td>\n",
       "      <td>1.017095e+00</td>\n",
       "      <td>6.942501</td>\n",
       "      <td>1.017095e+00</td>\n",
       "      <td>1.017095e+00</td>\n",
       "      <td>1.017095e+00</td>\n",
       "      <td>1.017095e+00</td>\n",
       "      <td>1.017095e+00</td>\n",
       "      <td>1.017095e+00</td>\n",
       "      <td>1.017095e+00</td>\n",
       "    </tr>\n",
       "    <tr>\n",
       "      <th>min</th>\n",
       "      <td>-1.574353e+00</td>\n",
       "      <td>-1.563989e+00</td>\n",
       "      <td>-1.177708e+00</td>\n",
       "      <td>-4.975161e-01</td>\n",
       "      <td>-1.170231e+00</td>\n",
       "      <td>-9.687200e-01</td>\n",
       "      <td>55.018000</td>\n",
       "      <td>-8.419730e-01</td>\n",
       "      <td>-1.887637e+00</td>\n",
       "      <td>-1.985646e+00</td>\n",
       "      <td>-7.982940e-01</td>\n",
       "      <td>-4.597100e-01</td>\n",
       "      <td>-1.966345e+00</td>\n",
       "      <td>-1.877714e+00</td>\n",
       "    </tr>\n",
       "    <tr>\n",
       "      <th>25%</th>\n",
       "      <td>-6.821857e-01</td>\n",
       "      <td>-7.280231e-01</td>\n",
       "      <td>-9.947387e-01</td>\n",
       "      <td>-4.331954e-01</td>\n",
       "      <td>-7.846966e-01</td>\n",
       "      <td>-6.584471e-01</td>\n",
       "      <td>70.182000</td>\n",
       "      <td>-7.278102e-01</td>\n",
       "      <td>-7.640772e-01</td>\n",
       "      <td>-8.017360e-01</td>\n",
       "      <td>-7.036628e-01</td>\n",
       "      <td>-4.073083e-01</td>\n",
       "      <td>-7.493122e-01</td>\n",
       "      <td>-5.323343e-01</td>\n",
       "    </tr>\n",
       "    <tr>\n",
       "      <th>50%</th>\n",
       "      <td>-2.082245e-01</td>\n",
       "      <td>-2.433654e-01</td>\n",
       "      <td>-2.840847e-02</td>\n",
       "      <td>-3.530655e-01</td>\n",
       "      <td>-1.836402e-01</td>\n",
       "      <td>-3.977014e-01</td>\n",
       "      <td>75.607500</td>\n",
       "      <td>-4.065613e-01</td>\n",
       "      <td>4.572561e-02</td>\n",
       "      <td>1.619879e-01</td>\n",
       "      <td>-4.515447e-01</td>\n",
       "      <td>-3.707438e-01</td>\n",
       "      <td>-2.238952e-02</td>\n",
       "      <td>-1.096731e-01</td>\n",
       "    </tr>\n",
       "    <tr>\n",
       "      <th>75%</th>\n",
       "      <td>2.571851e-01</td>\n",
       "      <td>6.754102e-01</td>\n",
       "      <td>5.834383e-01</td>\n",
       "      <td>-7.594414e-02</td>\n",
       "      <td>2.148622e-01</td>\n",
       "      <td>-4.893058e-02</td>\n",
       "      <td>77.415122</td>\n",
       "      <td>3.753214e-01</td>\n",
       "      <td>6.808775e-01</td>\n",
       "      <td>9.792208e-01</td>\n",
       "      <td>5.235578e-02</td>\n",
       "      <td>-1.277556e-01</td>\n",
       "      <td>6.296970e-01</td>\n",
       "      <td>3.558339e-01</td>\n",
       "    </tr>\n",
       "    <tr>\n",
       "      <th>max</th>\n",
       "      <td>2.663630e+00</td>\n",
       "      <td>2.349224e+00</td>\n",
       "      <td>2.346058e+00</td>\n",
       "      <td>3.681554e+00</td>\n",
       "      <td>2.421872e+00</td>\n",
       "      <td>2.767040e+00</td>\n",
       "      <td>83.200000</td>\n",
       "      <td>2.859027e+00</td>\n",
       "      <td>2.522049e+00</td>\n",
       "      <td>1.823183e+00</td>\n",
       "      <td>2.845012e+00</td>\n",
       "      <td>4.291885e+00</td>\n",
       "      <td>1.980330e+00</td>\n",
       "      <td>3.255665e+00</td>\n",
       "    </tr>\n",
       "  </tbody>\n",
       "</table>\n",
       "</div>"
      ],
      "text/plain": [
       "       SH.XPD.CHEX.PC.CD  SH.XPD.CHEX.GD.ZS   SP.ADO.TFRT   SP.POP.TOTL  \\\n",
       "count       3.000000e+01       3.000000e+01  3.000000e+01  3.000000e+01   \n",
       "mean       -6.661338e-17       5.255056e-16  7.031412e-17  6.106227e-17   \n",
       "std         1.017095e+00       1.017095e+00  1.017095e+00  1.017095e+00   \n",
       "min        -1.574353e+00      -1.563989e+00 -1.177708e+00 -4.975161e-01   \n",
       "25%        -6.821857e-01      -7.280231e-01 -9.947387e-01 -4.331954e-01   \n",
       "50%        -2.082245e-01      -2.433654e-01 -2.840847e-02 -3.530655e-01   \n",
       "75%         2.571851e-01       6.754102e-01  5.834383e-01 -7.594414e-02   \n",
       "max         2.663630e+00       2.349224e+00  2.346058e+00  3.681554e+00   \n",
       "\n",
       "       SP.DYN.CBRT.IN  SP.DYN.TFRT.IN  SP.DYN.LE00.IN  SP.DYN.IMRT.IN  \\\n",
       "count    3.000000e+01    3.000000e+01       30.000000    3.000000e+01   \n",
       "mean     2.488750e-16   -3.545775e-16       73.736416    4.440892e-17   \n",
       "std      1.017095e+00    1.017095e+00        6.942501    1.017095e+00   \n",
       "min     -1.170231e+00   -9.687200e-01       55.018000   -8.419730e-01   \n",
       "25%     -7.846966e-01   -6.584471e-01       70.182000   -7.278102e-01   \n",
       "50%     -1.836402e-01   -3.977014e-01       75.607500   -4.065613e-01   \n",
       "75%      2.148622e-01   -4.893058e-02       77.415122    3.753214e-01   \n",
       "max      2.421872e+00    2.767040e+00       83.200000    2.859027e+00   \n",
       "\n",
       "       SH.STA.SUIC.P5   ncd_bmi_25a  NY.GDP.PCAP.CD  NY.GDP.MKTP.CD  \\\n",
       "count    3.000000e+01  3.000000e+01    3.000000e+01    3.000000e+01   \n",
       "mean    -1.805038e-15  5.847175e-16   -1.480297e-17    2.035409e-17   \n",
       "std      1.017095e+00  1.017095e+00    1.017095e+00    1.017095e+00   \n",
       "min     -1.887637e+00 -1.985646e+00   -7.982940e-01   -4.597100e-01   \n",
       "25%     -7.640772e-01 -8.017360e-01   -7.036628e-01   -4.073083e-01   \n",
       "50%      4.572561e-02  1.619879e-01   -4.515447e-01   -3.707438e-01   \n",
       "75%      6.808775e-01  9.792208e-01    5.235578e-02   -1.277556e-01   \n",
       "max      2.522049e+00  1.823183e+00    2.845012e+00    4.291885e+00   \n",
       "\n",
       "       ncd_hyp_prevalence_a   SP.POP.GROW  \n",
       "count          3.000000e+01  3.000000e+01  \n",
       "mean           1.125026e-15  1.480297e-17  \n",
       "std            1.017095e+00  1.017095e+00  \n",
       "min           -1.966345e+00 -1.877714e+00  \n",
       "25%           -7.493122e-01 -5.323343e-01  \n",
       "50%           -2.238952e-02 -1.096731e-01  \n",
       "75%            6.296970e-01  3.558339e-01  \n",
       "max            1.980330e+00  3.255665e+00  "
      ]
     },
     "execution_count": 247,
     "metadata": {},
     "output_type": "execute_result"
    }
   ],
   "source": [
    "data.describe()"
   ]
  },
  {
   "cell_type": "code",
   "execution_count": 248,
   "id": "06499cd5-2d22-49fb-a733-93ed8fe53b26",
   "metadata": {},
   "outputs": [
    {
     "data": {
      "text/html": [
       "<div>\n",
       "<style scoped>\n",
       "    .dataframe tbody tr th:only-of-type {\n",
       "        vertical-align: middle;\n",
       "    }\n",
       "\n",
       "    .dataframe tbody tr th {\n",
       "        vertical-align: top;\n",
       "    }\n",
       "\n",
       "    .dataframe thead th {\n",
       "        text-align: right;\n",
       "    }\n",
       "</style>\n",
       "<table border=\"1\" class=\"dataframe\">\n",
       "  <thead>\n",
       "    <tr style=\"text-align: right;\">\n",
       "      <th></th>\n",
       "      <th>SH.XPD.CHEX.PC.CD</th>\n",
       "      <th>SH.XPD.CHEX.GD.ZS</th>\n",
       "      <th>SP.ADO.TFRT</th>\n",
       "      <th>SP.POP.TOTL</th>\n",
       "      <th>SP.DYN.CBRT.IN</th>\n",
       "      <th>SP.DYN.TFRT.IN</th>\n",
       "      <th>SP.DYN.IMRT.IN</th>\n",
       "      <th>SH.STA.SUIC.P5</th>\n",
       "      <th>ncd_bmi_25a</th>\n",
       "      <th>NY.GDP.PCAP.CD</th>\n",
       "      <th>NY.GDP.MKTP.CD</th>\n",
       "      <th>ncd_hyp_prevalence_a</th>\n",
       "      <th>SP.POP.GROW</th>\n",
       "    </tr>\n",
       "  </thead>\n",
       "  <tbody>\n",
       "    <tr>\n",
       "      <th>900</th>\n",
       "      <td>-0.892897</td>\n",
       "      <td>-0.242897</td>\n",
       "      <td>0.444091</td>\n",
       "      <td>-0.438035</td>\n",
       "      <td>1.456041</td>\n",
       "      <td>1.483497</td>\n",
       "      <td>1.414734</td>\n",
       "      <td>-0.439172</td>\n",
       "      <td>-0.788102</td>\n",
       "      <td>-0.798294</td>\n",
       "      <td>-0.459710</td>\n",
       "      <td>1.789502</td>\n",
       "      <td>0.545813</td>\n",
       "    </tr>\n",
       "    <tr>\n",
       "      <th>901</th>\n",
       "      <td>0.253668</td>\n",
       "      <td>1.584303</td>\n",
       "      <td>0.586219</td>\n",
       "      <td>-0.418676</td>\n",
       "      <td>-0.108636</td>\n",
       "      <td>-0.133834</td>\n",
       "      <td>-0.571168</td>\n",
       "      <td>0.575590</td>\n",
       "      <td>1.227860</td>\n",
       "      <td>-0.328014</td>\n",
       "      <td>-0.375604</td>\n",
       "      <td>1.980330</td>\n",
       "      <td>0.468138</td>\n",
       "    </tr>\n",
       "    <tr>\n",
       "      <th>902</th>\n",
       "      <td>1.799093</td>\n",
       "      <td>1.810580</td>\n",
       "      <td>-0.999624</td>\n",
       "      <td>-0.477770</td>\n",
       "      <td>-0.663375</td>\n",
       "      <td>-0.676552</td>\n",
       "      <td>-0.810114</td>\n",
       "      <td>1.430330</td>\n",
       "      <td>1.823183</td>\n",
       "      <td>2.183657</td>\n",
       "      <td>-0.162025</td>\n",
       "      <td>1.620587</td>\n",
       "      <td>0.408255</td>\n",
       "    </tr>\n",
       "    <tr>\n",
       "      <th>903</th>\n",
       "      <td>-0.726027</td>\n",
       "      <td>-1.027670</td>\n",
       "      <td>1.166704</td>\n",
       "      <td>-0.060470</td>\n",
       "      <td>-0.011039</td>\n",
       "      <td>-0.338602</td>\n",
       "      <td>0.315585</td>\n",
       "      <td>-1.006428</td>\n",
       "      <td>-0.920256</td>\n",
       "      <td>-0.696089</td>\n",
       "      <td>-0.379175</td>\n",
       "      <td>-1.202494</td>\n",
       "      <td>0.496954</td>\n",
       "    </tr>\n",
       "    <tr>\n",
       "      <th>904</th>\n",
       "      <td>-0.147027</td>\n",
       "      <td>0.389348</td>\n",
       "      <td>0.380343</td>\n",
       "      <td>0.083247</td>\n",
       "      <td>-0.451681</td>\n",
       "      <td>-0.572503</td>\n",
       "      <td>-0.279124</td>\n",
       "      <td>-0.490096</td>\n",
       "      <td>0.366312</td>\n",
       "      <td>-0.431222</td>\n",
       "      <td>-0.134543</td>\n",
       "      <td>0.680672</td>\n",
       "      <td>0.413293</td>\n",
       "    </tr>\n",
       "  </tbody>\n",
       "</table>\n",
       "</div>"
      ],
      "text/plain": [
       "     SH.XPD.CHEX.PC.CD  SH.XPD.CHEX.GD.ZS  SP.ADO.TFRT  SP.POP.TOTL  \\\n",
       "900          -0.892897          -0.242897     0.444091    -0.438035   \n",
       "901           0.253668           1.584303     0.586219    -0.418676   \n",
       "902           1.799093           1.810580    -0.999624    -0.477770   \n",
       "903          -0.726027          -1.027670     1.166704    -0.060470   \n",
       "904          -0.147027           0.389348     0.380343     0.083247   \n",
       "\n",
       "     SP.DYN.CBRT.IN  SP.DYN.TFRT.IN  SP.DYN.IMRT.IN  SH.STA.SUIC.P5  \\\n",
       "900        1.456041        1.483497        1.414734       -0.439172   \n",
       "901       -0.108636       -0.133834       -0.571168        0.575590   \n",
       "902       -0.663375       -0.676552       -0.810114        1.430330   \n",
       "903       -0.011039       -0.338602        0.315585       -1.006428   \n",
       "904       -0.451681       -0.572503       -0.279124       -0.490096   \n",
       "\n",
       "     ncd_bmi_25a  NY.GDP.PCAP.CD  NY.GDP.MKTP.CD  ncd_hyp_prevalence_a  \\\n",
       "900    -0.788102       -0.798294       -0.459710              1.789502   \n",
       "901     1.227860       -0.328014       -0.375604              1.980330   \n",
       "902     1.823183        2.183657       -0.162025              1.620587   \n",
       "903    -0.920256       -0.696089       -0.379175             -1.202494   \n",
       "904     0.366312       -0.431222       -0.134543              0.680672   \n",
       "\n",
       "     SP.POP.GROW  \n",
       "900     0.545813  \n",
       "901     0.468138  \n",
       "902     0.408255  \n",
       "903     0.496954  \n",
       "904     0.413293  "
      ]
     },
     "execution_count": 248,
     "metadata": {},
     "output_type": "execute_result"
    }
   ],
   "source": [
    "# Obtenemos variables independientes\n",
    "X = data.drop([\"SP.DYN.LE00.IN\"],axis = 1)\n",
    "X.head()"
   ]
  },
  {
   "cell_type": "code",
   "execution_count": 249,
   "id": "2e6c01f7-8a50-4452-80c9-d03342631786",
   "metadata": {},
   "outputs": [
    {
     "data": {
      "text/html": [
       "<div>\n",
       "<style scoped>\n",
       "    .dataframe tbody tr th:only-of-type {\n",
       "        vertical-align: middle;\n",
       "    }\n",
       "\n",
       "    .dataframe tbody tr th {\n",
       "        vertical-align: top;\n",
       "    }\n",
       "\n",
       "    .dataframe thead th {\n",
       "        text-align: right;\n",
       "    }\n",
       "</style>\n",
       "<table border=\"1\" class=\"dataframe\">\n",
       "  <thead>\n",
       "    <tr style=\"text-align: right;\">\n",
       "      <th></th>\n",
       "      <th>SH.XPD.CHEX.PC.CD</th>\n",
       "      <th>SH.XPD.CHEX.GD.ZS</th>\n",
       "      <th>SP.ADO.TFRT</th>\n",
       "      <th>SP.POP.TOTL</th>\n",
       "      <th>SP.DYN.CBRT.IN</th>\n",
       "      <th>SP.DYN.TFRT.IN</th>\n",
       "      <th>SP.DYN.LE00.IN</th>\n",
       "      <th>SP.DYN.IMRT.IN</th>\n",
       "      <th>SH.STA.SUIC.P5</th>\n",
       "      <th>ncd_bmi_25a</th>\n",
       "      <th>NY.GDP.PCAP.CD</th>\n",
       "      <th>NY.GDP.MKTP.CD</th>\n",
       "      <th>ncd_hyp_prevalence_a</th>\n",
       "      <th>SP.POP.GROW</th>\n",
       "    </tr>\n",
       "  </thead>\n",
       "  <tbody>\n",
       "    <tr>\n",
       "      <th>900</th>\n",
       "      <td>-0.892897</td>\n",
       "      <td>-0.242897</td>\n",
       "      <td>0.444091</td>\n",
       "      <td>-0.438035</td>\n",
       "      <td>1.456041</td>\n",
       "      <td>1.483497</td>\n",
       "      <td>65.173000</td>\n",
       "      <td>1.414734</td>\n",
       "      <td>-0.439172</td>\n",
       "      <td>-0.788102</td>\n",
       "      <td>-0.798294</td>\n",
       "      <td>-0.459710</td>\n",
       "      <td>1.789502</td>\n",
       "      <td>0.545813</td>\n",
       "    </tr>\n",
       "    <tr>\n",
       "      <th>901</th>\n",
       "      <td>0.253668</td>\n",
       "      <td>1.584303</td>\n",
       "      <td>0.586219</td>\n",
       "      <td>-0.418676</td>\n",
       "      <td>-0.108636</td>\n",
       "      <td>-0.133834</td>\n",
       "      <td>76.813000</td>\n",
       "      <td>-0.571168</td>\n",
       "      <td>0.575590</td>\n",
       "      <td>1.227860</td>\n",
       "      <td>-0.328014</td>\n",
       "      <td>-0.375604</td>\n",
       "      <td>1.980330</td>\n",
       "      <td>0.468138</td>\n",
       "    </tr>\n",
       "    <tr>\n",
       "      <th>902</th>\n",
       "      <td>1.799093</td>\n",
       "      <td>1.810580</td>\n",
       "      <td>-0.999624</td>\n",
       "      <td>-0.477770</td>\n",
       "      <td>-0.663375</td>\n",
       "      <td>-0.676552</td>\n",
       "      <td>83.200000</td>\n",
       "      <td>-0.810114</td>\n",
       "      <td>1.430330</td>\n",
       "      <td>1.823183</td>\n",
       "      <td>2.183657</td>\n",
       "      <td>-0.162025</td>\n",
       "      <td>1.620587</td>\n",
       "      <td>0.408255</td>\n",
       "    </tr>\n",
       "    <tr>\n",
       "      <th>903</th>\n",
       "      <td>-0.726027</td>\n",
       "      <td>-1.027670</td>\n",
       "      <td>1.166704</td>\n",
       "      <td>-0.060470</td>\n",
       "      <td>-0.011039</td>\n",
       "      <td>-0.338602</td>\n",
       "      <td>72.868000</td>\n",
       "      <td>0.315585</td>\n",
       "      <td>-1.006428</td>\n",
       "      <td>-0.920256</td>\n",
       "      <td>-0.696089</td>\n",
       "      <td>-0.379175</td>\n",
       "      <td>-1.202494</td>\n",
       "      <td>0.496954</td>\n",
       "    </tr>\n",
       "    <tr>\n",
       "      <th>904</th>\n",
       "      <td>-0.147027</td>\n",
       "      <td>0.389348</td>\n",
       "      <td>0.380343</td>\n",
       "      <td>0.083247</td>\n",
       "      <td>-0.451681</td>\n",
       "      <td>-0.572503</td>\n",
       "      <td>76.084000</td>\n",
       "      <td>-0.279124</td>\n",
       "      <td>-0.490096</td>\n",
       "      <td>0.366312</td>\n",
       "      <td>-0.431222</td>\n",
       "      <td>-0.134543</td>\n",
       "      <td>0.680672</td>\n",
       "      <td>0.413293</td>\n",
       "    </tr>\n",
       "    <tr>\n",
       "      <th>905</th>\n",
       "      <td>0.198154</td>\n",
       "      <td>0.449967</td>\n",
       "      <td>-0.146097</td>\n",
       "      <td>-0.497516</td>\n",
       "      <td>-0.610532</td>\n",
       "      <td>-0.651580</td>\n",
       "      <td>80.329000</td>\n",
       "      <td>-0.666746</td>\n",
       "      <td>0.379421</td>\n",
       "      <td>0.883256</td>\n",
       "      <td>-0.057881</td>\n",
       "      <td>-0.406759</td>\n",
       "      <td>0.655910</td>\n",
       "      <td>0.375286</td>\n",
       "    </tr>\n",
       "    <tr>\n",
       "      <th>906</th>\n",
       "      <td>0.258358</td>\n",
       "      <td>-0.133342</td>\n",
       "      <td>-1.088420</td>\n",
       "      <td>3.681554</td>\n",
       "      <td>-0.984743</td>\n",
       "      <td>-0.577497</td>\n",
       "      <td>77.097000</td>\n",
       "      <td>-0.682676</td>\n",
       "      <td>0.852372</td>\n",
       "      <td>-0.371732</td>\n",
       "      <td>-0.221766</td>\n",
       "      <td>2.879159</td>\n",
       "      <td>-1.583893</td>\n",
       "      <td>0.297476</td>\n",
       "    </tr>\n",
       "    <tr>\n",
       "      <th>907</th>\n",
       "      <td>-1.480246</td>\n",
       "      <td>-1.266935</td>\n",
       "      <td>2.346058</td>\n",
       "      <td>-0.286023</td>\n",
       "      <td>2.421872</td>\n",
       "      <td>2.767040</td>\n",
       "      <td>60.971000</td>\n",
       "      <td>2.412995</td>\n",
       "      <td>-1.487162</td>\n",
       "      <td>-1.637863</td>\n",
       "      <td>-0.796709</td>\n",
       "      <td>-0.453199</td>\n",
       "      <td>-0.020164</td>\n",
       "      <td>0.028357</td>\n",
       "    </tr>\n",
       "    <tr>\n",
       "      <th>908</th>\n",
       "      <td>-0.199625</td>\n",
       "      <td>0.003245</td>\n",
       "      <td>0.617324</td>\n",
       "      <td>-0.402145</td>\n",
       "      <td>-0.349016</td>\n",
       "      <td>-0.518398</td>\n",
       "      <td>77.460000</td>\n",
       "      <td>-0.369392</td>\n",
       "      <td>-0.612162</td>\n",
       "      <td>0.396675</td>\n",
       "      <td>-0.518802</td>\n",
       "      <td>-0.402759</td>\n",
       "      <td>-0.379055</td>\n",
       "      <td>-0.107143</td>\n",
       "    </tr>\n",
       "    <tr>\n",
       "      <th>909</th>\n",
       "      <td>1.679073</td>\n",
       "      <td>1.633212</td>\n",
       "      <td>-1.096985</td>\n",
       "      <td>-0.305239</td>\n",
       "      <td>-0.900627</td>\n",
       "      <td>-0.719003</td>\n",
       "      <td>80.941463</td>\n",
       "      <td>-0.810114</td>\n",
       "      <td>1.296173</td>\n",
       "      <td>1.268615</td>\n",
       "      <td>1.867320</td>\n",
       "      <td>0.411294</td>\n",
       "      <td>1.690372</td>\n",
       "      <td>-0.256581</td>\n",
       "    </tr>\n",
       "    <tr>\n",
       "      <th>910</th>\n",
       "      <td>-0.558300</td>\n",
       "      <td>-0.475357</td>\n",
       "      <td>0.263048</td>\n",
       "      <td>-0.247675</td>\n",
       "      <td>0.799931</td>\n",
       "      <td>0.701052</td>\n",
       "      <td>72.150000</td>\n",
       "      <td>-0.093277</td>\n",
       "      <td>-1.018001</td>\n",
       "      <td>-0.014415</td>\n",
       "      <td>-0.620388</td>\n",
       "      <td>-0.381144</td>\n",
       "      <td>-0.162817</td>\n",
       "      <td>-0.112204</td>\n",
       "    </tr>\n",
       "    <tr>\n",
       "      <th>911</th>\n",
       "      <td>0.903863</td>\n",
       "      <td>0.750558</td>\n",
       "      <td>-1.108028</td>\n",
       "      <td>-0.412711</td>\n",
       "      <td>-1.137879</td>\n",
       "      <td>-0.968720</td>\n",
       "      <td>82.334146</td>\n",
       "      <td>-0.831353</td>\n",
       "      <td>0.489246</td>\n",
       "      <td>1.072737</td>\n",
       "      <td>0.748510</td>\n",
       "      <td>-0.172577</td>\n",
       "      <td>0.412010</td>\n",
       "      <td>-0.120452</td>\n",
       "    </tr>\n",
       "    <tr>\n",
       "      <th>912</th>\n",
       "      <td>-0.904256</td>\n",
       "      <td>-0.823423</td>\n",
       "      <td>0.575096</td>\n",
       "      <td>-0.209759</td>\n",
       "      <td>1.487207</td>\n",
       "      <td>1.377783</td>\n",
       "      <td>66.953000</td>\n",
       "      <td>0.904984</td>\n",
       "      <td>-0.879637</td>\n",
       "      <td>-1.153008</td>\n",
       "      <td>-0.773833</td>\n",
       "      <td>-0.439782</td>\n",
       "      <td>-1.071974</td>\n",
       "      <td>-0.027396</td>\n",
       "    </tr>\n",
       "    <tr>\n",
       "      <th>913</th>\n",
       "      <td>1.431087</td>\n",
       "      <td>1.370534</td>\n",
       "      <td>-1.177708</td>\n",
       "      <td>-0.352617</td>\n",
       "      <td>-0.728080</td>\n",
       "      <td>-0.469287</td>\n",
       "      <td>82.175610</td>\n",
       "      <td>-0.794184</td>\n",
       "      <td>1.511625</td>\n",
       "      <td>1.154068</td>\n",
       "      <td>1.446778</td>\n",
       "      <td>0.134467</td>\n",
       "      <td>0.827399</td>\n",
       "      <td>-0.056267</td>\n",
       "    </tr>\n",
       "    <tr>\n",
       "      <th>914</th>\n",
       "      <td>1.335449</td>\n",
       "      <td>1.028819</td>\n",
       "      <td>-0.980084</td>\n",
       "      <td>-0.353514</td>\n",
       "      <td>-0.803569</td>\n",
       "      <td>-0.694032</td>\n",
       "      <td>80.902439</td>\n",
       "      <td>-0.783564</td>\n",
       "      <td>0.474033</td>\n",
       "      <td>1.091220</td>\n",
       "      <td>1.566896</td>\n",
       "      <td>0.163281</td>\n",
       "      <td>0.551058</td>\n",
       "      <td>-0.067620</td>\n",
       "    </tr>\n",
       "    <tr>\n",
       "      <th>915</th>\n",
       "      <td>-0.556688</td>\n",
       "      <td>-0.960273</td>\n",
       "      <td>0.089280</td>\n",
       "      <td>0.266276</td>\n",
       "      <td>-0.021931</td>\n",
       "      <td>-0.106365</td>\n",
       "      <td>71.908000</td>\n",
       "      <td>0.060710</td>\n",
       "      <td>-0.901027</td>\n",
       "      <td>-0.806281</td>\n",
       "      <td>-0.602825</td>\n",
       "      <td>-0.223293</td>\n",
       "      <td>-0.889435</td>\n",
       "      <td>-0.219023</td>\n",
       "    </tr>\n",
       "    <tr>\n",
       "      <th>916</th>\n",
       "      <td>-0.619494</td>\n",
       "      <td>-1.119294</td>\n",
       "      <td>-1.020805</td>\n",
       "      <td>3.588197</td>\n",
       "      <td>-0.023118</td>\n",
       "      <td>-0.174621</td>\n",
       "      <td>69.887000</td>\n",
       "      <td>0.458952</td>\n",
       "      <td>0.437706</td>\n",
       "      <td>-1.311184</td>\n",
       "      <td>-0.715745</td>\n",
       "      <td>0.142973</td>\n",
       "      <td>-1.966345</td>\n",
       "      <td>-0.321910</td>\n",
       "    </tr>\n",
       "    <tr>\n",
       "      <th>917</th>\n",
       "      <td>1.051615</td>\n",
       "      <td>0.848172</td>\n",
       "      <td>-1.174776</td>\n",
       "      <td>-0.376426</td>\n",
       "      <td>-1.170231</td>\n",
       "      <td>-0.960396</td>\n",
       "      <td>82.343902</td>\n",
       "      <td>-0.841973</td>\n",
       "      <td>0.437753</td>\n",
       "      <td>1.011209</td>\n",
       "      <td>1.027017</td>\n",
       "      <td>-0.033471</td>\n",
       "      <td>0.869979</td>\n",
       "      <td>-0.546847</td>\n",
       "    </tr>\n",
       "    <tr>\n",
       "      <th>918</th>\n",
       "      <td>-0.242743</td>\n",
       "      <td>-0.414902</td>\n",
       "      <td>-0.702289</td>\n",
       "      <td>-0.489101</td>\n",
       "      <td>-0.258644</td>\n",
       "      <td>-0.182945</td>\n",
       "      <td>77.144000</td>\n",
       "      <td>-0.661436</td>\n",
       "      <td>0.875256</td>\n",
       "      <td>-0.347461</td>\n",
       "      <td>-0.613113</td>\n",
       "      <td>-0.445858</td>\n",
       "      <td>-0.443364</td>\n",
       "      <td>-0.531943</td>\n",
       "    </tr>\n",
       "    <tr>\n",
       "      <th>919</th>\n",
       "      <td>-0.230624</td>\n",
       "      <td>-0.266151</td>\n",
       "      <td>0.447890</td>\n",
       "      <td>-0.167820</td>\n",
       "      <td>-0.069705</td>\n",
       "      <td>-0.262022</td>\n",
       "      <td>75.131000</td>\n",
       "      <td>-0.348152</td>\n",
       "      <td>-0.774824</td>\n",
       "      <td>0.250215</td>\n",
       "      <td>-0.336991</td>\n",
       "      <td>-0.216822</td>\n",
       "      <td>-0.603609</td>\n",
       "      <td>-0.621060</td>\n",
       "    </tr>\n",
       "    <tr>\n",
       "      <th>920</th>\n",
       "      <td>-1.574353</td>\n",
       "      <td>-1.563989</td>\n",
       "      <td>1.802046</td>\n",
       "      <td>0.063973</td>\n",
       "      <td>2.087778</td>\n",
       "      <td>2.375817</td>\n",
       "      <td>55.018000</td>\n",
       "      <td>2.859027</td>\n",
       "      <td>-1.887637</td>\n",
       "      <td>-1.985646</td>\n",
       "      <td>-0.706187</td>\n",
       "      <td>-0.365883</td>\n",
       "      <td>-0.731528</td>\n",
       "      <td>-0.532465</td>\n",
       "    </tr>\n",
       "    <tr>\n",
       "      <th>921</th>\n",
       "      <td>-0.630551</td>\n",
       "      <td>-0.776605</td>\n",
       "      <td>0.611514</td>\n",
       "      <td>-0.467432</td>\n",
       "      <td>0.173047</td>\n",
       "      <td>-0.456801</td>\n",
       "      <td>71.067000</td>\n",
       "      <td>0.278416</td>\n",
       "      <td>-0.678912</td>\n",
       "      <td>-0.776645</td>\n",
       "      <td>-0.761534</td>\n",
       "      <td>-0.456678</td>\n",
       "      <td>-0.755240</td>\n",
       "      <td>-0.526218</td>\n",
       "    </tr>\n",
       "    <tr>\n",
       "      <th>922</th>\n",
       "      <td>-0.922460</td>\n",
       "      <td>-1.213620</td>\n",
       "      <td>-0.185552</td>\n",
       "      <td>0.108264</td>\n",
       "      <td>1.049046</td>\n",
       "      <td>0.832569</td>\n",
       "      <td>67.428000</td>\n",
       "      <td>1.903245</td>\n",
       "      <td>-0.731836</td>\n",
       "      <td>-1.217655</td>\n",
       "      <td>-0.749175</td>\n",
       "      <td>-0.395929</td>\n",
       "      <td>-0.520390</td>\n",
       "      <td>-0.551464</td>\n",
       "    </tr>\n",
       "    <tr>\n",
       "      <th>923</th>\n",
       "      <td>-0.216824</td>\n",
       "      <td>-0.160108</td>\n",
       "      <td>0.339025</td>\n",
       "      <td>-0.455918</td>\n",
       "      <td>-0.011579</td>\n",
       "      <td>-0.151314</td>\n",
       "      <td>76.947000</td>\n",
       "      <td>-0.443731</td>\n",
       "      <td>-0.696183</td>\n",
       "      <td>0.310674</td>\n",
       "      <td>-0.471867</td>\n",
       "      <td>-0.418374</td>\n",
       "      <td>-1.119453</td>\n",
       "      <td>-0.752781</td>\n",
       "    </tr>\n",
       "    <tr>\n",
       "      <th>924</th>\n",
       "      <td>0.197168</td>\n",
       "      <td>-0.005404</td>\n",
       "      <td>-1.033926</td>\n",
       "      <td>-0.441125</td>\n",
       "      <td>-0.889842</td>\n",
       "      <td>-0.843862</td>\n",
       "      <td>76.600000</td>\n",
       "      <td>-0.778254</td>\n",
       "      <td>0.715973</td>\n",
       "      <td>0.465678</td>\n",
       "      <td>0.089101</td>\n",
       "      <td>-0.328476</td>\n",
       "      <td>0.337351</td>\n",
       "      <td>-0.985108</td>\n",
       "    </tr>\n",
       "    <tr>\n",
       "      <th>925</th>\n",
       "      <td>-0.037234</td>\n",
       "      <td>-0.243834</td>\n",
       "      <td>-0.273008</td>\n",
       "      <td>-0.497092</td>\n",
       "      <td>-0.911411</td>\n",
       "      <td>-0.660736</td>\n",
       "      <td>74.353659</td>\n",
       "      <td>-0.677366</td>\n",
       "      <td>0.131418</td>\n",
       "      <td>0.257422</td>\n",
       "      <td>-0.073268</td>\n",
       "      <td>-0.407491</td>\n",
       "      <td>0.248144</td>\n",
       "      <td>-1.140537</td>\n",
       "    </tr>\n",
       "    <tr>\n",
       "      <th>926</th>\n",
       "      <td>-0.082711</td>\n",
       "      <td>-0.437744</td>\n",
       "      <td>-0.787089</td>\n",
       "      <td>-0.122365</td>\n",
       "      <td>-0.846706</td>\n",
       "      <td>-0.739813</td>\n",
       "      <td>71.338780</td>\n",
       "      <td>-0.741085</td>\n",
       "      <td>2.522049</td>\n",
       "      <td>0.073761</td>\n",
       "      <td>-0.236144</td>\n",
       "      <td>-0.125493</td>\n",
       "      <td>-0.024616</td>\n",
       "      <td>-0.034074</td>\n",
       "    </tr>\n",
       "    <tr>\n",
       "      <th>927</th>\n",
       "      <td>-1.049701</td>\n",
       "      <td>-0.504135</td>\n",
       "      <td>2.181008</td>\n",
       "      <td>-0.375571</td>\n",
       "      <td>1.976701</td>\n",
       "      <td>1.980433</td>\n",
       "      <td>65.815000</td>\n",
       "      <td>0.867815</td>\n",
       "      <td>-1.208523</td>\n",
       "      <td>-0.973207</td>\n",
       "      <td>-0.765672</td>\n",
       "      <td>-0.450082</td>\n",
       "      <td>0.524624</td>\n",
       "      <td>-1.877714</td>\n",
       "    </tr>\n",
       "    <tr>\n",
       "      <th>928</th>\n",
       "      <td>2.663630</td>\n",
       "      <td>2.349224</td>\n",
       "      <td>-0.833578</td>\n",
       "      <td>0.440338</td>\n",
       "      <td>-0.728080</td>\n",
       "      <td>-0.629522</td>\n",
       "      <td>77.280488</td>\n",
       "      <td>-0.687986</td>\n",
       "      <td>0.722622</td>\n",
       "      <td>1.337179</td>\n",
       "      <td>2.845012</td>\n",
       "      <td>4.291885</td>\n",
       "      <td>0.257893</td>\n",
       "      <td>3.099570</td>\n",
       "    </tr>\n",
       "    <tr>\n",
       "      <th>929</th>\n",
       "      <td>-0.699397</td>\n",
       "      <td>-0.582279</td>\n",
       "      <td>0.758321</td>\n",
       "      <td>-0.376849</td>\n",
       "      <td>0.228801</td>\n",
       "      <td>-0.029786</td>\n",
       "      <td>64.379000</td>\n",
       "      <td>0.395233</td>\n",
       "      <td>-0.039966</td>\n",
       "      <td>-0.686608</td>\n",
       "      <td>-0.498772</td>\n",
       "      <td>-0.387930</td>\n",
       "      <td>-0.971455</td>\n",
       "      <td>3.255665</td>\n",
       "    </tr>\n",
       "  </tbody>\n",
       "</table>\n",
       "</div>"
      ],
      "text/plain": [
       "     SH.XPD.CHEX.PC.CD  SH.XPD.CHEX.GD.ZS  SP.ADO.TFRT  SP.POP.TOTL  \\\n",
       "900          -0.892897          -0.242897     0.444091    -0.438035   \n",
       "901           0.253668           1.584303     0.586219    -0.418676   \n",
       "902           1.799093           1.810580    -0.999624    -0.477770   \n",
       "903          -0.726027          -1.027670     1.166704    -0.060470   \n",
       "904          -0.147027           0.389348     0.380343     0.083247   \n",
       "905           0.198154           0.449967    -0.146097    -0.497516   \n",
       "906           0.258358          -0.133342    -1.088420     3.681554   \n",
       "907          -1.480246          -1.266935     2.346058    -0.286023   \n",
       "908          -0.199625           0.003245     0.617324    -0.402145   \n",
       "909           1.679073           1.633212    -1.096985    -0.305239   \n",
       "910          -0.558300          -0.475357     0.263048    -0.247675   \n",
       "911           0.903863           0.750558    -1.108028    -0.412711   \n",
       "912          -0.904256          -0.823423     0.575096    -0.209759   \n",
       "913           1.431087           1.370534    -1.177708    -0.352617   \n",
       "914           1.335449           1.028819    -0.980084    -0.353514   \n",
       "915          -0.556688          -0.960273     0.089280     0.266276   \n",
       "916          -0.619494          -1.119294    -1.020805     3.588197   \n",
       "917           1.051615           0.848172    -1.174776    -0.376426   \n",
       "918          -0.242743          -0.414902    -0.702289    -0.489101   \n",
       "919          -0.230624          -0.266151     0.447890    -0.167820   \n",
       "920          -1.574353          -1.563989     1.802046     0.063973   \n",
       "921          -0.630551          -0.776605     0.611514    -0.467432   \n",
       "922          -0.922460          -1.213620    -0.185552     0.108264   \n",
       "923          -0.216824          -0.160108     0.339025    -0.455918   \n",
       "924           0.197168          -0.005404    -1.033926    -0.441125   \n",
       "925          -0.037234          -0.243834    -0.273008    -0.497092   \n",
       "926          -0.082711          -0.437744    -0.787089    -0.122365   \n",
       "927          -1.049701          -0.504135     2.181008    -0.375571   \n",
       "928           2.663630           2.349224    -0.833578     0.440338   \n",
       "929          -0.699397          -0.582279     0.758321    -0.376849   \n",
       "\n",
       "     SP.DYN.CBRT.IN  SP.DYN.TFRT.IN  SP.DYN.LE00.IN  SP.DYN.IMRT.IN  \\\n",
       "900        1.456041        1.483497       65.173000        1.414734   \n",
       "901       -0.108636       -0.133834       76.813000       -0.571168   \n",
       "902       -0.663375       -0.676552       83.200000       -0.810114   \n",
       "903       -0.011039       -0.338602       72.868000        0.315585   \n",
       "904       -0.451681       -0.572503       76.084000       -0.279124   \n",
       "905       -0.610532       -0.651580       80.329000       -0.666746   \n",
       "906       -0.984743       -0.577497       77.097000       -0.682676   \n",
       "907        2.421872        2.767040       60.971000        2.412995   \n",
       "908       -0.349016       -0.518398       77.460000       -0.369392   \n",
       "909       -0.900627       -0.719003       80.941463       -0.810114   \n",
       "910        0.799931        0.701052       72.150000       -0.093277   \n",
       "911       -1.137879       -0.968720       82.334146       -0.831353   \n",
       "912        1.487207        1.377783       66.953000        0.904984   \n",
       "913       -0.728080       -0.469287       82.175610       -0.794184   \n",
       "914       -0.803569       -0.694032       80.902439       -0.783564   \n",
       "915       -0.021931       -0.106365       71.908000        0.060710   \n",
       "916       -0.023118       -0.174621       69.887000        0.458952   \n",
       "917       -1.170231       -0.960396       82.343902       -0.841973   \n",
       "918       -0.258644       -0.182945       77.144000       -0.661436   \n",
       "919       -0.069705       -0.262022       75.131000       -0.348152   \n",
       "920        2.087778        2.375817       55.018000        2.859027   \n",
       "921        0.173047       -0.456801       71.067000        0.278416   \n",
       "922        1.049046        0.832569       67.428000        1.903245   \n",
       "923       -0.011579       -0.151314       76.947000       -0.443731   \n",
       "924       -0.889842       -0.843862       76.600000       -0.778254   \n",
       "925       -0.911411       -0.660736       74.353659       -0.677366   \n",
       "926       -0.846706       -0.739813       71.338780       -0.741085   \n",
       "927        1.976701        1.980433       65.815000        0.867815   \n",
       "928       -0.728080       -0.629522       77.280488       -0.687986   \n",
       "929        0.228801       -0.029786       64.379000        0.395233   \n",
       "\n",
       "     SH.STA.SUIC.P5  ncd_bmi_25a  NY.GDP.PCAP.CD  NY.GDP.MKTP.CD  \\\n",
       "900       -0.439172    -0.788102       -0.798294       -0.459710   \n",
       "901        0.575590     1.227860       -0.328014       -0.375604   \n",
       "902        1.430330     1.823183        2.183657       -0.162025   \n",
       "903       -1.006428    -0.920256       -0.696089       -0.379175   \n",
       "904       -0.490096     0.366312       -0.431222       -0.134543   \n",
       "905        0.379421     0.883256       -0.057881       -0.406759   \n",
       "906        0.852372    -0.371732       -0.221766        2.879159   \n",
       "907       -1.487162    -1.637863       -0.796709       -0.453199   \n",
       "908       -0.612162     0.396675       -0.518802       -0.402759   \n",
       "909        1.296173     1.268615        1.867320        0.411294   \n",
       "910       -1.018001    -0.014415       -0.620388       -0.381144   \n",
       "911        0.489246     1.072737        0.748510       -0.172577   \n",
       "912       -0.879637    -1.153008       -0.773833       -0.439782   \n",
       "913        1.511625     1.154068        1.446778        0.134467   \n",
       "914        0.474033     1.091220        1.566896        0.163281   \n",
       "915       -0.901027    -0.806281       -0.602825       -0.223293   \n",
       "916        0.437706    -1.311184       -0.715745        0.142973   \n",
       "917        0.437753     1.011209        1.027017       -0.033471   \n",
       "918        0.875256    -0.347461       -0.613113       -0.445858   \n",
       "919       -0.774824     0.250215       -0.336991       -0.216822   \n",
       "920       -1.887637    -1.985646       -0.706187       -0.365883   \n",
       "921       -0.678912    -0.776645       -0.761534       -0.456678   \n",
       "922       -0.731836    -1.217655       -0.749175       -0.395929   \n",
       "923       -0.696183     0.310674       -0.471867       -0.418374   \n",
       "924        0.715973     0.465678        0.089101       -0.328476   \n",
       "925        0.131418     0.257422       -0.073268       -0.407491   \n",
       "926        2.522049     0.073761       -0.236144       -0.125493   \n",
       "927       -1.208523    -0.973207       -0.765672       -0.450082   \n",
       "928        0.722622     1.337179        2.845012        4.291885   \n",
       "929       -0.039966    -0.686608       -0.498772       -0.387930   \n",
       "\n",
       "     ncd_hyp_prevalence_a  SP.POP.GROW  \n",
       "900              1.789502     0.545813  \n",
       "901              1.980330     0.468138  \n",
       "902              1.620587     0.408255  \n",
       "903             -1.202494     0.496954  \n",
       "904              0.680672     0.413293  \n",
       "905              0.655910     0.375286  \n",
       "906             -1.583893     0.297476  \n",
       "907             -0.020164     0.028357  \n",
       "908             -0.379055    -0.107143  \n",
       "909              1.690372    -0.256581  \n",
       "910             -0.162817    -0.112204  \n",
       "911              0.412010    -0.120452  \n",
       "912             -1.071974    -0.027396  \n",
       "913              0.827399    -0.056267  \n",
       "914              0.551058    -0.067620  \n",
       "915             -0.889435    -0.219023  \n",
       "916             -1.966345    -0.321910  \n",
       "917              0.869979    -0.546847  \n",
       "918             -0.443364    -0.531943  \n",
       "919             -0.603609    -0.621060  \n",
       "920             -0.731528    -0.532465  \n",
       "921             -0.755240    -0.526218  \n",
       "922             -0.520390    -0.551464  \n",
       "923             -1.119453    -0.752781  \n",
       "924              0.337351    -0.985108  \n",
       "925              0.248144    -1.140537  \n",
       "926             -0.024616    -0.034074  \n",
       "927              0.524624    -1.877714  \n",
       "928              0.257893     3.099570  \n",
       "929             -0.971455     3.255665  "
      ]
     },
     "execution_count": 249,
     "metadata": {},
     "output_type": "execute_result"
    }
   ],
   "source": [
    "data"
   ]
  },
  {
   "cell_type": "code",
   "execution_count": 250,
   "id": "3ed9b28c-de9f-40bd-bab1-aa7b798a920e",
   "metadata": {},
   "outputs": [
    {
     "data": {
      "text/plain": [
       "900    65.173000\n",
       "901    76.813000\n",
       "902    83.200000\n",
       "903    72.868000\n",
       "904    76.084000\n",
       "905    80.329000\n",
       "906    77.097000\n",
       "907    60.971000\n",
       "908    77.460000\n",
       "909    80.941463\n",
       "910    72.150000\n",
       "911    82.334146\n",
       "912    66.953000\n",
       "913    82.175610\n",
       "914    80.902439\n",
       "915    71.908000\n",
       "916    69.887000\n",
       "917    82.343902\n",
       "918    77.144000\n",
       "919    75.131000\n",
       "920    55.018000\n",
       "921    71.067000\n",
       "922    67.428000\n",
       "923    76.947000\n",
       "924    76.600000\n",
       "925    74.353659\n",
       "926    71.338780\n",
       "927    65.815000\n",
       "928    77.280488\n",
       "929    64.379000\n",
       "Name: SP.DYN.LE00.IN, dtype: float64"
      ]
     },
     "execution_count": 250,
     "metadata": {},
     "output_type": "execute_result"
    }
   ],
   "source": [
    "# Obtenemos variable dependiente\n",
    "Y = data.pop('SP.DYN.LE00.IN')\n",
    "Y"
   ]
  },
  {
   "cell_type": "code",
   "execution_count": 251,
   "id": "e6c8d765-08e4-4e94-b977-9acadf7b5fef",
   "metadata": {},
   "outputs": [],
   "source": [
    "# Separamos datos para ajuste y prueba\n",
    "X_train, X_test, y_train, y_test = train_test_split(X, Y, train_size=0.8, test_size=0.2, random_state=100)"
   ]
  },
  {
   "cell_type": "code",
   "execution_count": 252,
   "id": "539b2112-4b66-4273-b259-ce33ee91b299",
   "metadata": {},
   "outputs": [],
   "source": [
    "Regresor=RandomForestRegressor(n_estimators=10,random_state=0)"
   ]
  },
  {
   "cell_type": "code",
   "execution_count": 253,
   "id": "ccf84e71-f624-4f0b-8403-6ed52e046562",
   "metadata": {},
   "outputs": [],
   "source": [
    "lm = RandomForestRegressor()\n",
    "\n",
    "model=lm.fit(X_train,y_train)"
   ]
  },
  {
   "cell_type": "code",
   "execution_count": 254,
   "id": "97af1359-42ba-470c-a172-73a05ef32670",
   "metadata": {},
   "outputs": [
    {
     "name": "stdout",
     "output_type": "stream",
     "text": [
      "0.759300409349197\n"
     ]
    }
   ],
   "source": [
    "# Encontramos el accuracy promedio usando datos de test\n",
    "score = model.score(X_test, y_test)\n",
    "print(score)"
   ]
  },
  {
   "cell_type": "code",
   "execution_count": 255,
   "id": "4a531e3f-37b4-401f-ad57-d8a624a86664",
   "metadata": {},
   "outputs": [],
   "source": [
    "# Cargamos el modelo\n",
    "pkl_filename = \"pickle_model.pkl\"\n",
    "with open(pkl_filename, 'wb') as file:\n",
    "    pickle.dump(model,file)"
   ]
  },
  {
   "cell_type": "markdown",
   "id": "e11372c2-5aca-473e-8678-14745250f3e4",
   "metadata": {},
   "source": [
    "### Prediccion con numeros aleatorios"
   ]
  },
  {
   "cell_type": "code",
   "execution_count": 257,
   "id": "9213afb0-58ce-418f-a1fa-99da144c196d",
   "metadata": {},
   "outputs": [],
   "source": [
    "#Utilizo la libreria random para generar numeros aleatorios\n",
    "import random"
   ]
  },
  {
   "cell_type": "code",
   "execution_count": 265,
   "id": "8f240c36-523f-4054-8c07-33cb357b5282",
   "metadata": {},
   "outputs": [],
   "source": [
    "#Creo una lista vacia llamada \"a\"\n",
    "a=[]"
   ]
  },
  {
   "cell_type": "code",
   "execution_count": 266,
   "id": "c02bc2fd-ae21-42a5-9ef3-55c15ad01fdc",
   "metadata": {},
   "outputs": [],
   "source": [
    "#Genero 13 numeros aleatorios entre -4 y 4 dentro de la lista \"a\"\n",
    "for i in range(13):\n",
    "...     a.append(random.uniform(-4,4))"
   ]
  },
  {
   "cell_type": "code",
   "execution_count": 267,
   "id": "df7631ae-8ec3-47e4-bb99-40895460dc7a",
   "metadata": {},
   "outputs": [
    {
     "data": {
      "text/plain": [
       "[-0.23528767731523725,\n",
       " -0.0954674606095951,\n",
       " -2.420644364673323,\n",
       " 3.232022333066202,\n",
       " 0.3549149941522387,\n",
       " 1.4944814935628443,\n",
       " -2.091013511888004,\n",
       " 2.658921290375851,\n",
       " -2.4223883615276316,\n",
       " -0.21525824706319963,\n",
       " -2.997773464235932,\n",
       " -0.4590956857166306,\n",
       " -3.771877564377772]"
      ]
     },
     "execution_count": 267,
     "metadata": {},
     "output_type": "execute_result"
    }
   ],
   "source": [
    "a"
   ]
  },
  {
   "cell_type": "code",
   "execution_count": 268,
   "id": "86a94a83-a9a3-4dd1-a709-b09df0eaa25c",
   "metadata": {},
   "outputs": [
    {
     "name": "stderr",
     "output_type": "stream",
     "text": [
      "C:\\Users\\USER\\AppData\\Local\\Programs\\Python\\Python39\\lib\\site-packages\\sklearn\\base.py:450: UserWarning: X does not have valid feature names, but RandomForestRegressor was fitted with feature names\n",
      "  warnings.warn(\n"
     ]
    },
    {
     "data": {
      "text/plain": [
       "74.66916219512198"
      ]
     },
     "execution_count": 268,
     "metadata": {},
     "output_type": "execute_result"
    }
   ],
   "source": [
    "#Utilizo la lista \"a\" para realizar una prediccion\n",
    "x_in = np.asarray(a).reshape(1,-1)\n",
    "predicts = model.predict(x_in)\n",
    "predicts[0]"
   ]
  }
 ],
 "metadata": {
  "kernelspec": {
   "display_name": "Python 3 (ipykernel)",
   "language": "python",
   "name": "python3"
  },
  "language_info": {
   "codemirror_mode": {
    "name": "ipython",
    "version": 3
   },
   "file_extension": ".py",
   "mimetype": "text/x-python",
   "name": "python",
   "nbconvert_exporter": "python",
   "pygments_lexer": "ipython3",
   "version": "3.9.4"
  }
 },
 "nbformat": 4,
 "nbformat_minor": 5
}
