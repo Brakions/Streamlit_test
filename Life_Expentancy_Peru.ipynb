{
 "cells": [
  {
   "cell_type": "markdown",
   "id": "74db2d59-5496-48db-95d1-fb1e911b9454",
   "metadata": {},
   "source": [
    "## MODELO DE PREDICCION "
   ]
  },
  {
   "cell_type": "code",
   "execution_count": 289,
   "id": "daaffa1c-6aca-464a-930c-1642052a7d7a",
   "metadata": {},
   "outputs": [],
   "source": [
    "import pandas as pd\n",
    "import numpy as np\n",
    "import matplotlib.pyplot as plt\n",
    "import seaborn as sns\n",
    "import wbgapi as wb"
   ]
  },
  {
   "cell_type": "code",
   "execution_count": null,
   "id": "3be78456-609e-4383-8990-df7678599e0e",
   "metadata": {},
   "outputs": [],
   "source": [
    "# Crear CSV para entrenamiento y modelo\n",
    "Exp=wb.data.DataFrame([\"SP.ADO.TFRT\",\n",
    "\"SP.DYN.CBRT.IN\",\n",
    "\"SH.XPD.CHEX.GD.ZS\",\n",
    "\"SH.XPD.CHEX.PC.CD\",\n",
    "\"SP.DYN.TFRT.IN\",\n",
    "\"SP.DYN.LE00.IN\",\n",
    "\"SP.DYN.IMRT.IN\",\n",
    "\"SP.POP.GROW\",\n",
    "\"SP.POP.TOTL\",\n",
    "\"SH.STA.SUIC.P5\",\n",
    "\"NY.GDP.MKTP.KD\",\n",
    "\"NY.GDP.MKTP.KN\"],\"PER\",range(2010,2020,1))"
   ]
  },
  {
   "cell_type": "code",
   "execution_count": null,
   "id": "8d8a8ffe-cd5e-4384-9695-1e2e6ac35023",
   "metadata": {},
   "outputs": [],
   "source": [
    "Exf=Exp.transpose()\n",
    "\n",
    "Ex=Exf.rename(index={\"YR1990\":\"1990\",\"YR1991\":\"1991\",\"YR1992\":\"1992\",\"YR1993\":\"1993\",\"YR1994\":\"1994\",\"YR1995\":\"1995\",\"YR1996\":\"1996\",\"YR1997\":\"1997\",\"YR1998\":\"1998\",\"YR1999\":\"1999\",\"YR2000\":\"2000\",\"YR2001\":\"2001\",\"YR2002\":\"2002\",\"YR2003\":\"2003\",\"YR2004\":\"2004\",\"YR2005\":\"2005\",\"YR2006\":\"2006\",\"YR2007\":\"2007\",\"YR2008\":\"2008\",\"YR2009\":\"2009\",\"YR2010\":\"2010\",\"YR2011\":\"2011\",\"YR2012\":\"2012\",\"YR2013\":\"2013\",\"YR2014\":\"2014\",\"YR2015\":\"2015\",\"YR2016\":\"2016\",\"YR2017\":\"2017\",\"YR2018\":\"2018\",\"YR2019\":\"2019\",\"YR2020\":\"2020\",\"YR2021\":\"2021\"})\n",
    "Ex.index=Ex.index.map(int)"
   ]
  },
  {
   "cell_type": "code",
   "execution_count": null,
   "id": "045d310f-9bb9-4af4-9ea1-8d585f2e79a6",
   "metadata": {},
   "outputs": [],
   "source": [
    "Ex.to_csv(\"Peru2.csv\",index=False)"
   ]
  },
  {
   "cell_type": "code",
   "execution_count": 227,
   "id": "db16eb99-e157-427f-abd3-ea6d2d410186",
   "metadata": {},
   "outputs": [],
   "source": [
    "data = pd.read_csv(\"Peru2.csv\")"
   ]
  },
  {
   "cell_type": "code",
   "execution_count": 228,
   "id": "36994745-9cb1-489d-b955-3c201d611249",
   "metadata": {},
   "outputs": [
    {
     "data": {
      "text/html": [
       "<div>\n",
       "<style scoped>\n",
       "    .dataframe tbody tr th:only-of-type {\n",
       "        vertical-align: middle;\n",
       "    }\n",
       "\n",
       "    .dataframe tbody tr th {\n",
       "        vertical-align: top;\n",
       "    }\n",
       "\n",
       "    .dataframe thead th {\n",
       "        text-align: right;\n",
       "    }\n",
       "</style>\n",
       "<table border=\"1\" class=\"dataframe\">\n",
       "  <thead>\n",
       "    <tr style=\"text-align: right;\">\n",
       "      <th></th>\n",
       "      <th>NY.GDP.MKTP.KD</th>\n",
       "      <th>NY.GDP.MKTP.KN</th>\n",
       "      <th>SH.STA.SUIC.P5</th>\n",
       "      <th>SH.XPD.CHEX.GD.ZS</th>\n",
       "      <th>SH.XPD.CHEX.PC.CD</th>\n",
       "      <th>SP.ADO.TFRT</th>\n",
       "      <th>SP.DYN.CBRT.IN</th>\n",
       "      <th>SP.DYN.IMRT.IN</th>\n",
       "      <th>SP.DYN.LE00.IN</th>\n",
       "      <th>SP.DYN.TFRT.IN</th>\n",
       "      <th>SP.POP.GROW</th>\n",
       "      <th>SP.POP.TOTL</th>\n",
       "    </tr>\n",
       "  </thead>\n",
       "  <tbody>\n",
       "    <tr>\n",
       "      <th>0</th>\n",
       "      <td>1.503007e+11</td>\n",
       "      <td>3.820810e+11</td>\n",
       "      <td>3.5</td>\n",
       "      <td>4.715487</td>\n",
       "      <td>241.928696</td>\n",
       "      <td>66.0112</td>\n",
       "      <td>20.621</td>\n",
       "      <td>15.3</td>\n",
       "      <td>74.410</td>\n",
       "      <td>2.546</td>\n",
       "      <td>0.812926</td>\n",
       "      <td>29027680.0</td>\n",
       "    </tr>\n",
       "    <tr>\n",
       "      <th>1</th>\n",
       "      <td>1.598105e+11</td>\n",
       "      <td>4.062560e+11</td>\n",
       "      <td>3.3</td>\n",
       "      <td>4.533416</td>\n",
       "      <td>264.885040</td>\n",
       "      <td>64.1646</td>\n",
       "      <td>20.109</td>\n",
       "      <td>14.6</td>\n",
       "      <td>74.697</td>\n",
       "      <td>2.493</td>\n",
       "      <td>0.811896</td>\n",
       "      <td>29264314.0</td>\n",
       "    </tr>\n",
       "    <tr>\n",
       "      <th>2</th>\n",
       "      <td>1.696225e+11</td>\n",
       "      <td>4.311990e+11</td>\n",
       "      <td>3.2</td>\n",
       "      <td>4.740239</td>\n",
       "      <td>309.847382</td>\n",
       "      <td>62.3180</td>\n",
       "      <td>19.617</td>\n",
       "      <td>13.9</td>\n",
       "      <td>74.981</td>\n",
       "      <td>2.441</td>\n",
       "      <td>0.825158</td>\n",
       "      <td>29506790.0</td>\n",
       "    </tr>\n",
       "    <tr>\n",
       "      <th>3</th>\n",
       "      <td>1.795496e+11</td>\n",
       "      <td>4.564350e+11</td>\n",
       "      <td>3.1</td>\n",
       "      <td>4.760352</td>\n",
       "      <td>323.165527</td>\n",
       "      <td>61.2308</td>\n",
       "      <td>19.185</td>\n",
       "      <td>13.3</td>\n",
       "      <td>75.258</td>\n",
       "      <td>2.394</td>\n",
       "      <td>0.901465</td>\n",
       "      <td>29773986.0</td>\n",
       "    </tr>\n",
       "    <tr>\n",
       "      <th>4</th>\n",
       "      <td>1.838268e+11</td>\n",
       "      <td>4.673080e+11</td>\n",
       "      <td>2.9</td>\n",
       "      <td>4.978508</td>\n",
       "      <td>334.687317</td>\n",
       "      <td>60.1436</td>\n",
       "      <td>18.827</td>\n",
       "      <td>12.7</td>\n",
       "      <td>75.529</td>\n",
       "      <td>2.355</td>\n",
       "      <td>1.057019</td>\n",
       "      <td>30090372.0</td>\n",
       "    </tr>\n",
       "    <tr>\n",
       "      <th>5</th>\n",
       "      <td>1.898053e+11</td>\n",
       "      <td>4.825060e+11</td>\n",
       "      <td>2.7</td>\n",
       "      <td>4.979630</td>\n",
       "      <td>312.721710</td>\n",
       "      <td>59.0564</td>\n",
       "      <td>18.544</td>\n",
       "      <td>12.2</td>\n",
       "      <td>75.792</td>\n",
       "      <td>2.323</td>\n",
       "      <td>1.256159</td>\n",
       "      <td>30470739.0</td>\n",
       "    </tr>\n",
       "    <tr>\n",
       "      <th>6</th>\n",
       "      <td>1.973089e+11</td>\n",
       "      <td>5.015810e+11</td>\n",
       "      <td>2.6</td>\n",
       "      <td>4.972741</td>\n",
       "      <td>313.517181</td>\n",
       "      <td>57.9692</td>\n",
       "      <td>18.323</td>\n",
       "      <td>11.7</td>\n",
       "      <td>76.044</td>\n",
       "      <td>2.297</td>\n",
       "      <td>1.483157</td>\n",
       "      <td>30926036.0</td>\n",
       "    </tr>\n",
       "    <tr>\n",
       "      <th>7</th>\n",
       "      <td>2.022788e+11</td>\n",
       "      <td>5.142150e+11</td>\n",
       "      <td>2.7</td>\n",
       "      <td>4.917768</td>\n",
       "      <td>334.823334</td>\n",
       "      <td>56.8820</td>\n",
       "      <td>18.134</td>\n",
       "      <td>11.2</td>\n",
       "      <td>76.286</td>\n",
       "      <td>2.275</td>\n",
       "      <td>1.661928</td>\n",
       "      <td>31444299.0</td>\n",
       "    </tr>\n",
       "    <tr>\n",
       "      <th>8</th>\n",
       "      <td>2.103080e+11</td>\n",
       "      <td>5.346260e+11</td>\n",
       "      <td>2.8</td>\n",
       "      <td>5.197577</td>\n",
       "      <td>365.863831</td>\n",
       "      <td>55.9518</td>\n",
       "      <td>17.949</td>\n",
       "      <td>10.7</td>\n",
       "      <td>76.516</td>\n",
       "      <td>2.254</td>\n",
       "      <td>1.718268</td>\n",
       "      <td>31989265.0</td>\n",
       "    </tr>\n",
       "    <tr>\n",
       "      <th>9</th>\n",
       "      <td>2.150202e+11</td>\n",
       "      <td>5.466050e+11</td>\n",
       "      <td>2.8</td>\n",
       "      <td>5.215069</td>\n",
       "      <td>370.109955</td>\n",
       "      <td>55.0216</td>\n",
       "      <td>17.756</td>\n",
       "      <td>10.3</td>\n",
       "      <td>76.736</td>\n",
       "      <td>2.233</td>\n",
       "      <td>1.616157</td>\n",
       "      <td>32510462.0</td>\n",
       "    </tr>\n",
       "  </tbody>\n",
       "</table>\n",
       "</div>"
      ],
      "text/plain": [
       "   NY.GDP.MKTP.KD  NY.GDP.MKTP.KN  SH.STA.SUIC.P5  SH.XPD.CHEX.GD.ZS  \\\n",
       "0    1.503007e+11    3.820810e+11             3.5           4.715487   \n",
       "1    1.598105e+11    4.062560e+11             3.3           4.533416   \n",
       "2    1.696225e+11    4.311990e+11             3.2           4.740239   \n",
       "3    1.795496e+11    4.564350e+11             3.1           4.760352   \n",
       "4    1.838268e+11    4.673080e+11             2.9           4.978508   \n",
       "5    1.898053e+11    4.825060e+11             2.7           4.979630   \n",
       "6    1.973089e+11    5.015810e+11             2.6           4.972741   \n",
       "7    2.022788e+11    5.142150e+11             2.7           4.917768   \n",
       "8    2.103080e+11    5.346260e+11             2.8           5.197577   \n",
       "9    2.150202e+11    5.466050e+11             2.8           5.215069   \n",
       "\n",
       "   SH.XPD.CHEX.PC.CD  SP.ADO.TFRT  SP.DYN.CBRT.IN  SP.DYN.IMRT.IN  \\\n",
       "0         241.928696      66.0112          20.621            15.3   \n",
       "1         264.885040      64.1646          20.109            14.6   \n",
       "2         309.847382      62.3180          19.617            13.9   \n",
       "3         323.165527      61.2308          19.185            13.3   \n",
       "4         334.687317      60.1436          18.827            12.7   \n",
       "5         312.721710      59.0564          18.544            12.2   \n",
       "6         313.517181      57.9692          18.323            11.7   \n",
       "7         334.823334      56.8820          18.134            11.2   \n",
       "8         365.863831      55.9518          17.949            10.7   \n",
       "9         370.109955      55.0216          17.756            10.3   \n",
       "\n",
       "   SP.DYN.LE00.IN  SP.DYN.TFRT.IN  SP.POP.GROW  SP.POP.TOTL  \n",
       "0          74.410           2.546     0.812926   29027680.0  \n",
       "1          74.697           2.493     0.811896   29264314.0  \n",
       "2          74.981           2.441     0.825158   29506790.0  \n",
       "3          75.258           2.394     0.901465   29773986.0  \n",
       "4          75.529           2.355     1.057019   30090372.0  \n",
       "5          75.792           2.323     1.256159   30470739.0  \n",
       "6          76.044           2.297     1.483157   30926036.0  \n",
       "7          76.286           2.275     1.661928   31444299.0  \n",
       "8          76.516           2.254     1.718268   31989265.0  \n",
       "9          76.736           2.233     1.616157   32510462.0  "
      ]
     },
     "execution_count": 228,
     "metadata": {},
     "output_type": "execute_result"
    }
   ],
   "source": [
    "data"
   ]
  },
  {
   "cell_type": "code",
   "execution_count": 229,
   "id": "6ba17135-4939-41ea-930b-e633d9eb598b",
   "metadata": {},
   "outputs": [
    {
     "data": {
      "text/html": [
       "<div>\n",
       "<style scoped>\n",
       "    .dataframe tbody tr th:only-of-type {\n",
       "        vertical-align: middle;\n",
       "    }\n",
       "\n",
       "    .dataframe tbody tr th {\n",
       "        vertical-align: top;\n",
       "    }\n",
       "\n",
       "    .dataframe thead th {\n",
       "        text-align: right;\n",
       "    }\n",
       "</style>\n",
       "<table border=\"1\" class=\"dataframe\">\n",
       "  <thead>\n",
       "    <tr style=\"text-align: right;\">\n",
       "      <th></th>\n",
       "      <th>NY.GDP.MKTP.KD</th>\n",
       "      <th>NY.GDP.MKTP.KN</th>\n",
       "      <th>SH.STA.SUIC.P5</th>\n",
       "      <th>SH.XPD.CHEX.GD.ZS</th>\n",
       "      <th>SH.XPD.CHEX.PC.CD</th>\n",
       "      <th>SP.ADO.TFRT</th>\n",
       "      <th>SP.DYN.CBRT.IN</th>\n",
       "      <th>SP.DYN.IMRT.IN</th>\n",
       "      <th>SP.DYN.LE00.IN</th>\n",
       "      <th>SP.DYN.TFRT.IN</th>\n",
       "      <th>SP.POP.GROW</th>\n",
       "      <th>SP.POP.TOTL</th>\n",
       "    </tr>\n",
       "  </thead>\n",
       "  <tbody>\n",
       "  </tbody>\n",
       "</table>\n",
       "</div>"
      ],
      "text/plain": [
       "Empty DataFrame\n",
       "Columns: [NY.GDP.MKTP.KD, NY.GDP.MKTP.KN, SH.STA.SUIC.P5, SH.XPD.CHEX.GD.ZS, SH.XPD.CHEX.PC.CD, SP.ADO.TFRT, SP.DYN.CBRT.IN, SP.DYN.IMRT.IN, SP.DYN.LE00.IN, SP.DYN.TFRT.IN, SP.POP.GROW, SP.POP.TOTL]\n",
       "Index: []"
      ]
     },
     "execution_count": 229,
     "metadata": {},
     "output_type": "execute_result"
    }
   ],
   "source": [
    "#Buscamos si tenemos instancias duplicadas. Esto lo hacemos de la siguiente manera.\n",
    "data[data.duplicated()]"
   ]
  },
  {
   "cell_type": "code",
   "execution_count": 230,
   "id": "d286cf95-8af9-4c88-96e1-8e06ec4bba10",
   "metadata": {},
   "outputs": [
    {
     "name": "stdout",
     "output_type": "stream",
     "text": [
      "La cantidad de registros duplicados es: 0\n"
     ]
    }
   ],
   "source": [
    "print('La cantidad de registros duplicados es:', data.duplicated().sum())"
   ]
  },
  {
   "cell_type": "markdown",
   "id": "00e836b5-562a-4620-90c1-1e408d91e284",
   "metadata": {},
   "source": [
    "#### 1. Revisemos  los valores faltantes,\n",
    "\n",
    "    No tenemos valores faltantes pero lo hare esta vez  para cumplir la consigna."
   ]
  },
  {
   "cell_type": "code",
   "execution_count": 231,
   "id": "ba4da971-eba7-4ec3-9d84-26b24d52999a",
   "metadata": {},
   "outputs": [],
   "source": [
    "#pip install missingno \n",
    "\n",
    "import missingno as msno"
   ]
  },
  {
   "cell_type": "code",
   "execution_count": 232,
   "id": "f5baff39-15e9-4be2-9533-488eceef09e9",
   "metadata": {},
   "outputs": [
    {
     "data": {
      "image/png": "[encoded data removed]",
      "text/plain": [
       "<Figure size 1800x720 with 3 Axes>"
      ]
     },
     "metadata": {
      "needs_background": "light"
     },
     "output_type": "display_data"
    }
   ],
   "source": [
    "msno.bar(data)\n",
    "plt.show()"
   ]
  },
  {
   "cell_type": "code",
   "execution_count": 233,
   "id": "12e3db4b-ccbf-410a-8363-e4fb3c72a297",
   "metadata": {},
   "outputs": [
    {
     "data": {
      "image/png": "[encoded data removed]",
      "text/plain": [
       "<Figure size 1800x720 with 2 Axes>"
      ]
     },
     "metadata": {
      "needs_background": "light"
     },
     "output_type": "display_data"
    }
   ],
   "source": [
    "# Tomamos 10 muestras al azar de nuestra población\n",
    "\n",
    "msno.matrix(data.sample(10), labels = True, label_rotation = 90)\n",
    "plt.show()"
   ]
  },
  {
   "cell_type": "code",
   "execution_count": 234,
   "id": "21a8915d-3d31-46d9-8661-5f04d849149a",
   "metadata": {},
   "outputs": [
    {
     "data": {
      "image/png": "[encoded data removed]",
      "text/plain": [
       "<Figure size 1800x864 with 1 Axes>"
      ]
     },
     "metadata": {
      "needs_background": "light"
     },
     "output_type": "display_data"
    }
   ],
   "source": [
    "# Otra forma de visualizar la matriz con seaborn\n",
    "\n",
    "plt.figure(figsize= (25,12))\n",
    "sns.heatmap(data.isnull(), cbar=False)\n",
    "plt.show()"
   ]
  },
  {
   "cell_type": "markdown",
   "id": "122321b3-537e-48c1-aad6-3e74645edbd3",
   "metadata": {},
   "source": [
    "No definimos la estrategia que usaremos para la imputación. En este caso, por que no lo necesitamos"
   ]
  },
  {
   "cell_type": "markdown",
   "id": "3acb3fd6-cf89-4de1-87f6-e020d5f6cee0",
   "metadata": {},
   "source": [
    "# Escalado/normalización (Para este método, usamos MinMaxScaler de Scikit-learn)"
   ]
  },
  {
   "cell_type": "markdown",
   "id": "e67ecaac-dcb8-40b3-8bd9-1b5ab1f3ae78",
   "metadata": {},
   "source": [
    " Escalamos todas las variables numericas"
   ]
  },
  {
   "cell_type": "code",
   "execution_count": 235,
   "id": "9b735676-71da-49ee-ba3a-757e6038c9f4",
   "metadata": {},
   "outputs": [],
   "source": [
    "# importamos StandarScaler\n",
    "\n",
    "from sklearn.preprocessing import StandardScaler"
   ]
  },
  {
   "cell_type": "markdown",
   "id": "4069cf4b-89e3-4cbe-815c-6ab3d84e9f61",
   "metadata": {},
   "source": [
    "# GDP(constant 2015 US$)"
   ]
  },
  {
   "cell_type": "code",
   "execution_count": 236,
   "id": "dc1c8380-ac78-4cf6-b849-a56bb0a73880",
   "metadata": {},
   "outputs": [
    {
     "data": {
      "image/png": "[encoded data removed]",
      "text/plain": [
       "<Figure size 432x288 with 1 Axes>"
      ]
     },
     "metadata": {
      "needs_background": "light"
     },
     "output_type": "display_data"
    }
   ],
   "source": [
    "# Trabajaremos con la variable (constant 2015 US$). Veamos su distribución\n",
    "\n",
    "plt.hist(data['NY.GDP.MKTP.KD']) \n",
    "plt.show()"
   ]
  },
  {
   "cell_type": "code",
   "execution_count": 237,
   "id": "ff105e49-c612-4d19-9a72-9a6e5a1111c0",
   "metadata": {},
   "outputs": [],
   "source": [
    "# Escalamos (constant 2015 US$)\n",
    "\n",
    "scaler = StandardScaler()\n",
    "\n",
    "scaler.fit(data[['NY.GDP.MKTP.KD']])\n",
    "\n",
    "data['NY.GDP.MKTP.KD'] = scaler.transform(data[['NY.GDP.MKTP.KD']])"
   ]
  },
  {
   "cell_type": "code",
   "execution_count": 238,
   "id": "a72e207a-b545-4917-b940-27b46ccff294",
   "metadata": {},
   "outputs": [
    {
     "data": {
      "image/png": "[encoded data removed]",
      "text/plain": [
       "<Figure size 432x288 with 1 Axes>"
      ]
     },
     "metadata": {
      "needs_background": "light"
     },
     "output_type": "display_data"
    }
   ],
   "source": [
    "# Observamos cómo quedó la distribución luego de escalar\n",
    "\n",
    "plt.hist(data['NY.GDP.MKTP.KD']) \n",
    "plt.show()"
   ]
  },
  {
   "cell_type": "markdown",
   "id": "dcd94e5a-8694-4830-9775-f6bc8db5747f",
   "metadata": {
    "tags": []
   },
   "source": [
    "# GDP(constant LCU)"
   ]
  },
  {
   "cell_type": "code",
   "execution_count": 239,
   "id": "dcabecc1-016a-4be9-b5a1-2942dfcd4148",
   "metadata": {},
   "outputs": [
    {
     "data": {
      "image/png": "[encoded data removed]",
      "text/plain": [
       "<Figure size 432x288 with 1 Axes>"
      ]
     },
     "metadata": {
      "needs_background": "light"
     },
     "output_type": "display_data"
    }
   ],
   "source": [
    "# Trabajaremos con la variable (constant LCU). Veamos su distribución\n",
    "\n",
    "plt.hist(data['NY.GDP.MKTP.KN']) \n",
    "plt.show()"
   ]
  },
  {
   "cell_type": "code",
   "execution_count": 240,
   "id": "6edef605-0ee9-450c-98da-d4eab0ca2ef7",
   "metadata": {},
   "outputs": [],
   "source": [
    "# Escalamos (constant LCU)\n",
    "\n",
    "scaler = StandardScaler()\n",
    "\n",
    "scaler.fit(data[['NY.GDP.MKTP.KN']])\n",
    "\n",
    "data[\"NY.GDP.MKTP.KN\"] = scaler.transform(data[['NY.GDP.MKTP.KN']])"
   ]
  },
  {
   "cell_type": "code",
   "execution_count": 241,
   "id": "74989bcc-ac4d-46c0-a4fc-5d3e69415dd5",
   "metadata": {},
   "outputs": [
    {
     "data": {
      "image/png": "[encoded data removed]",
      "text/plain": [
       "<Figure size 432x288 with 1 Axes>"
      ]
     },
     "metadata": {
      "needs_background": "light"
     },
     "output_type": "display_data"
    }
   ],
   "source": [
    "# Observamos cómo quedó la distribución luego de escalar\n",
    "\n",
    "plt.hist(data['NY.GDP.MKTP.KN']) \n",
    "plt.show()"
   ]
  },
  {
   "cell_type": "markdown",
   "id": "6b90666a-1f16-405d-810b-fa668de8f79f",
   "metadata": {},
   "source": [
    "## Suicide mortality rate (per 100,000 population)"
   ]
  },
  {
   "cell_type": "code",
   "execution_count": 242,
   "id": "8c1045dc-41cd-4fa3-91dd-000e6fa640ec",
   "metadata": {},
   "outputs": [
    {
     "data": {
      "image/png": "[encoded data removed]",
      "text/plain": [
       "<Figure size 432x288 with 1 Axes>"
      ]
     },
     "metadata": {
      "needs_background": "light"
     },
     "output_type": "display_data"
    }
   ],
   "source": [
    "# Trabajaremos con la variable Suicide mortality rate (per 100,000 population). Veamos su distribución\n",
    "\n",
    "plt.hist(data['SH.STA.SUIC.P5']) \n",
    "plt.show()"
   ]
  },
  {
   "cell_type": "code",
   "execution_count": 243,
   "id": "3b79ec01-fc21-4e4d-be69-09d2fe014fba",
   "metadata": {},
   "outputs": [],
   "source": [
    "# Escalamos Suicide mortality rate (per 100,000 population)\n",
    "\n",
    "scaler = StandardScaler()\n",
    "\n",
    "scaler.fit(data[['SH.STA.SUIC.P5']])\n",
    "\n",
    "data[\"SH.STA.SUIC.P5\"] = scaler.transform(data[['SH.STA.SUIC.P5']])"
   ]
  },
  {
   "cell_type": "code",
   "execution_count": 244,
   "id": "0c62284d-e36b-4c67-9007-afdc3bc3fad7",
   "metadata": {},
   "outputs": [
    {
     "data": {
      "image/png": "[encoded data removed]",
      "text/plain": [
       "<Figure size 432x288 with 1 Axes>"
      ]
     },
     "metadata": {
      "needs_background": "light"
     },
     "output_type": "display_data"
    }
   ],
   "source": [
    "# Observamos cómo quedó la distribución luego de escalar\n",
    "\n",
    "plt.hist(data['SH.STA.SUIC.P5']) \n",
    "plt.show()"
   ]
  },
  {
   "cell_type": "markdown",
   "id": "d84aafa1-7563-4bfd-a3d2-5f9aa90296a5",
   "metadata": {},
   "source": [
    "## Current health expenditure (% of GDP)"
   ]
  },
  {
   "cell_type": "code",
   "execution_count": 245,
   "id": "b4cf084c-e07b-4952-86cd-fabfa7adee33",
   "metadata": {},
   "outputs": [
    {
     "data": {
      "image/png": "[encoded data removed]",
      "text/plain": [
       "<Figure size 432x288 with 1 Axes>"
      ]
     },
     "metadata": {
      "needs_background": "light"
     },
     "output_type": "display_data"
    }
   ],
   "source": [
    "# Trabajaremos con la variable Customer_care_calls. Veamos su distribución\n",
    "\n",
    "plt.hist(data['SH.XPD.CHEX.GD.ZS']) \n",
    "plt.show()"
   ]
  },
  {
   "cell_type": "code",
   "execution_count": 246,
   "id": "78447e6a-deed-4ec8-b127-5ae79d302600",
   "metadata": {},
   "outputs": [],
   "source": [
    "# Escalamos Customer_care_calls\n",
    "\n",
    "scaler = StandardScaler()\n",
    "\n",
    "scaler.fit(data[['SH.XPD.CHEX.GD.ZS']])\n",
    "\n",
    "data[\"SH.XPD.CHEX.GD.ZS\"] = scaler.transform(data[['SH.XPD.CHEX.GD.ZS']])"
   ]
  },
  {
   "cell_type": "code",
   "execution_count": 247,
   "id": "1dd42a02-acdd-47d3-869f-e46636853cbc",
   "metadata": {},
   "outputs": [
    {
     "data": {
      "image/png": "[encoded data removed]",
      "text/plain": [
       "<Figure size 432x288 with 1 Axes>"
      ]
     },
     "metadata": {
      "needs_background": "light"
     },
     "output_type": "display_data"
    }
   ],
   "source": [
    "# Observamos cómo quedó la distribución luego de escalar\n",
    "\n",
    "plt.hist(data['SH.XPD.CHEX.GD.ZS']) \n",
    "plt.show()"
   ]
  },
  {
   "cell_type": "markdown",
   "id": "f2873ba0-29f3-4554-a9ca-a1e73978a380",
   "metadata": {},
   "source": [
    "## Current health expenditure per capita (current US$)"
   ]
  },
  {
   "cell_type": "code",
   "execution_count": 248,
   "id": "f5bddb88-19b3-4770-9249-61ad1b3b0d32",
   "metadata": {},
   "outputs": [
    {
     "data": {
      "image/png": "[encoded data removed]",
      "text/plain": [
       "<Figure size 432x288 with 1 Axes>"
      ]
     },
     "metadata": {
      "needs_background": "light"
     },
     "output_type": "display_data"
    }
   ],
   "source": [
    "# Trabajaremos con la variable Current health expenditure per capita (current US$). Veamos su distribución\n",
    "\n",
    "plt.hist(data['SH.XPD.CHEX.PC.CD']) \n",
    "plt.show()"
   ]
  },
  {
   "cell_type": "code",
   "execution_count": 249,
   "id": "0dd5e1da-798f-46cf-be9a-0d6d2836eaa1",
   "metadata": {},
   "outputs": [],
   "source": [
    "# Escalamos Current health expenditure per capita (current US$)\n",
    "\n",
    "scaler = StandardScaler()\n",
    "\n",
    "scaler.fit(data[['SH.XPD.CHEX.PC.CD']])\n",
    "\n",
    "data[\"SH.XPD.CHEX.PC.CD\"] = scaler.transform(data[['SH.XPD.CHEX.PC.CD']])"
   ]
  },
  {
   "cell_type": "code",
   "execution_count": 250,
   "id": "7a3d86fc-bbdf-4db7-a666-2670d55ecf16",
   "metadata": {},
   "outputs": [
    {
     "data": {
      "image/png": "[encoded data removed]",
      "text/plain": [
       "<Figure size 432x288 with 1 Axes>"
      ]
     },
     "metadata": {
      "needs_background": "light"
     },
     "output_type": "display_data"
    }
   ],
   "source": [
    "# Observamos cómo quedó la distribución luego de escalar\n",
    "\n",
    "plt.hist(data['SH.XPD.CHEX.PC.CD']) \n",
    "plt.show()"
   ]
  },
  {
   "cell_type": "markdown",
   "id": "7a98501d-6ce0-4c8b-bead-ba07c87eb563",
   "metadata": {},
   "source": [
    "## Adolescent fertility rate (births per 1,000 women ages 15-19)"
   ]
  },
  {
   "cell_type": "code",
   "execution_count": 251,
   "id": "770b3351-115e-42dc-a615-587b12a9f523",
   "metadata": {},
   "outputs": [
    {
     "data": {
      "image/png": "[encoded data removed]",
      "text/plain": [
       "<Figure size 432x288 with 1 Axes>"
      ]
     },
     "metadata": {
      "needs_background": "light"
     },
     "output_type": "display_data"
    }
   ],
   "source": [
    "# Trabajaremos con la variable Adolescent fertility rate (births per 1,000 women ages 15-19). Veamos su distribución\n",
    "\n",
    "plt.hist(data['SP.ADO.TFRT']) \n",
    "plt.show()"
   ]
  },
  {
   "cell_type": "code",
   "execution_count": 252,
   "id": "826780fc-ab55-4cd1-8c6f-f6d2ebedd27d",
   "metadata": {},
   "outputs": [],
   "source": [
    "# Escalamos Adolescent fertility rate (births per 1,000 women ages 15-19)\n",
    "\n",
    "scaler = StandardScaler()\n",
    "\n",
    "scaler.fit(data[['SP.ADO.TFRT']])\n",
    "\n",
    "data[\"SP.ADO.TFRT\"] = scaler.transform(data[['SP.ADO.TFRT']])"
   ]
  },
  {
   "cell_type": "code",
   "execution_count": 253,
   "id": "ca972e06-7d38-4b9d-85e4-3248460f42dd",
   "metadata": {},
   "outputs": [
    {
     "data": {
      "image/png": "[encoded data removed]",
      "text/plain": [
       "<Figure size 432x288 with 1 Axes>"
      ]
     },
     "metadata": {
      "needs_background": "light"
     },
     "output_type": "display_data"
    }
   ],
   "source": [
    "# Observamos cómo quedó la distribución luego de escalar\n",
    "\n",
    "plt.hist(data['SP.ADO.TFRT']) \n",
    "plt.show()"
   ]
  },
  {
   "cell_type": "markdown",
   "id": "e91f9bb2-1bfc-4add-9d95-0026eadee1b4",
   "metadata": {},
   "source": [
    "## Birth rate, crude (per 1000 people)"
   ]
  },
  {
   "cell_type": "code",
   "execution_count": 254,
   "id": "c1e72f25-b78b-4e8e-8863-77d5c9a8f10f",
   "metadata": {},
   "outputs": [
    {
     "data": {
      "image/png": "[encoded data removed]",
      "text/plain": [
       "<Figure size 432x288 with 1 Axes>"
      ]
     },
     "metadata": {
      "needs_background": "light"
     },
     "output_type": "display_data"
    }
   ],
   "source": [
    "# Trabajaremos con la variable Birth rate, crude (per 1000 people). Veamos su distribución\n",
    "\n",
    "plt.hist(data['SP.DYN.CBRT.IN']) \n",
    "plt.show()"
   ]
  },
  {
   "cell_type": "code",
   "execution_count": 255,
   "id": "5d2100ed-eaef-414c-a7c4-9aa9d4f590a0",
   "metadata": {},
   "outputs": [],
   "source": [
    "# Escalamos Birth rate, crude (per 1000 people)\n",
    "\n",
    "scaler = StandardScaler()\n",
    "\n",
    "scaler.fit(data[['SP.DYN.CBRT.IN']])\n",
    "\n",
    "data[\"SP.DYN.CBRT.IN\"] = scaler.transform(data[['SP.DYN.CBRT.IN']])"
   ]
  },
  {
   "cell_type": "code",
   "execution_count": 256,
   "id": "afbf9c1d-a1b3-4a72-b2da-7df52ade19d3",
   "metadata": {},
   "outputs": [
    {
     "data": {
      "image/png": "[encoded data removed]",
      "text/plain": [
       "<Figure size 432x288 with 1 Axes>"
      ]
     },
     "metadata": {
      "needs_background": "light"
     },
     "output_type": "display_data"
    }
   ],
   "source": [
    "# Observamos cómo quedó la distribución luego de escalar\n",
    "\n",
    "plt.hist(data['SP.DYN.CBRT.IN']) \n",
    "plt.show()"
   ]
  },
  {
   "cell_type": "markdown",
   "id": "b51d145e-6073-48de-b231-532448e9b80a",
   "metadata": {},
   "source": [
    "## Mortality rate, infant (per 1,000 live births)"
   ]
  },
  {
   "cell_type": "code",
   "execution_count": 257,
   "id": "c0b9e2d8-eb89-4a4f-8728-96d77f78578b",
   "metadata": {},
   "outputs": [
    {
     "data": {
      "image/png": "[encoded data removed]",
      "text/plain": [
       "<Figure size 432x288 with 1 Axes>"
      ]
     },
     "metadata": {
      "needs_background": "light"
     },
     "output_type": "display_data"
    }
   ],
   "source": [
    "# Trabajaremos con la variable Mortality rate, infant (per 1,000 live births). Veamos su distribución\n",
    "\n",
    "plt.hist(data['SP.DYN.IMRT.IN']) \n",
    "plt.show()"
   ]
  },
  {
   "cell_type": "code",
   "execution_count": 258,
   "id": "d6e45421-fbcc-4a24-9546-4e4372dd8fe4",
   "metadata": {},
   "outputs": [],
   "source": [
    "# Escalamos Mortality rate, infant (per 1,000 live births)\n",
    "\n",
    "scaler = StandardScaler()\n",
    "\n",
    "scaler.fit(data[['SP.DYN.IMRT.IN']])\n",
    "\n",
    "data[\"SP.DYN.IMRT.IN\"] = scaler.transform(data[['SP.DYN.IMRT.IN']])"
   ]
  },
  {
   "cell_type": "code",
   "execution_count": 259,
   "id": "66ceb7b9-1a83-4425-805b-f72c3cbe80b3",
   "metadata": {},
   "outputs": [
    {
     "data": {
      "image/png": "[encoded data removed]",
      "text/plain": [
       "<Figure size 432x288 with 1 Axes>"
      ]
     },
     "metadata": {
      "needs_background": "light"
     },
     "output_type": "display_data"
    }
   ],
   "source": [
    "# Observamos cómo quedó la distribución luego de escalar\n",
    "\n",
    "plt.hist(data['SP.DYN.IMRT.IN']) \n",
    "plt.show()"
   ]
  },
  {
   "cell_type": "markdown",
   "id": "9c5e0c08-5a61-4ea7-bbe2-b8a3b8eed0ef",
   "metadata": {},
   "source": [
    "## Fertility rate, total (births per woman)"
   ]
  },
  {
   "cell_type": "code",
   "execution_count": 260,
   "id": "751118fd-fa1b-4773-8a15-b80d292403d9",
   "metadata": {},
   "outputs": [
    {
     "data": {
      "image/png": "[encoded data removed]",
      "text/plain": [
       "<Figure size 432x288 with 1 Axes>"
      ]
     },
     "metadata": {
      "needs_background": "light"
     },
     "output_type": "display_data"
    }
   ],
   "source": [
    "# Trabajaremos con la variable Fertility rate, total (births per woman). Veamos su distribución\n",
    "\n",
    "plt.hist(data['SP.DYN.TFRT.IN']) \n",
    "plt.show()"
   ]
  },
  {
   "cell_type": "code",
   "execution_count": 261,
   "id": "4095002b-93bf-40ec-a281-8893a63cbb7f",
   "metadata": {},
   "outputs": [],
   "source": [
    "# Escalamos Fertility rate, total (births per woman)\n",
    "\n",
    "scaler = StandardScaler()\n",
    "\n",
    "scaler.fit(data[['SP.DYN.TFRT.IN']])\n",
    "\n",
    "data[\"SP.DYN.TFRT.IN\"] = scaler.transform(data[['SP.DYN.TFRT.IN']])"
   ]
  },
  {
   "cell_type": "code",
   "execution_count": 262,
   "id": "4a0fb792-fdc0-4f4d-ba09-795b20c02fbf",
   "metadata": {},
   "outputs": [
    {
     "data": {
      "image/png": "[encoded data removed]",
      "text/plain": [
       "<Figure size 432x288 with 1 Axes>"
      ]
     },
     "metadata": {
      "needs_background": "light"
     },
     "output_type": "display_data"
    }
   ],
   "source": [
    "# Observamos cómo quedó la distribución luego de escalar\n",
    "\n",
    "plt.hist(data['SP.DYN.TFRT.IN']) \n",
    "plt.show()"
   ]
  },
  {
   "cell_type": "markdown",
   "id": "929e216b-0e6a-43c0-92ad-68643fc7f37a",
   "metadata": {},
   "source": [
    "## Population growth (annual %)"
   ]
  },
  {
   "cell_type": "code",
   "execution_count": 263,
   "id": "74cec62a-fd05-4278-aba7-bd863f1b239a",
   "metadata": {},
   "outputs": [
    {
     "data": {
      "image/png": "[encoded data removed]",
      "text/plain": [
       "<Figure size 432x288 with 1 Axes>"
      ]
     },
     "metadata": {
      "needs_background": "light"
     },
     "output_type": "display_data"
    }
   ],
   "source": [
    "# Trabajaremos con la variable Population growth (annual %). Veamos su distribución\n",
    "\n",
    "plt.hist(data['SP.POP.GROW']) \n",
    "plt.show()"
   ]
  },
  {
   "cell_type": "code",
   "execution_count": 264,
   "id": "3e3c7644-3c00-4cf1-a310-a2fb9afda420",
   "metadata": {
    "tags": []
   },
   "outputs": [],
   "source": [
    "# Escalamos Population growth (annual %)\n",
    "\n",
    "scaler = StandardScaler()\n",
    "\n",
    "scaler.fit(data[['SP.POP.GROW']])\n",
    "\n",
    "data[\"SP.POP.GROW\"] = scaler.transform(data[['SP.POP.GROW']])"
   ]
  },
  {
   "cell_type": "code",
   "execution_count": 265,
   "id": "30d02ed1-7314-412a-b332-7a909bf60765",
   "metadata": {},
   "outputs": [
    {
     "data": {
      "image/png": "[encoded data removed]",
      "text/plain": [
       "<Figure size 432x288 with 1 Axes>"
      ]
     },
     "metadata": {
      "needs_background": "light"
     },
     "output_type": "display_data"
    }
   ],
   "source": [
    "# Observamos cómo quedó la distribución luego de escalar\n",
    "\n",
    "plt.hist(data['SP.POP.GROW']) \n",
    "plt.show()"
   ]
  },
  {
   "cell_type": "markdown",
   "id": "5ad79a70-15ac-4b4d-8119-f5aa8e370a75",
   "metadata": {},
   "source": [
    "## Population, total"
   ]
  },
  {
   "cell_type": "code",
   "execution_count": 266,
   "id": "6d43632a-681c-40e6-897f-f8430caf7e1a",
   "metadata": {},
   "outputs": [
    {
     "data": {
      "image/png": "[encoded data removed]",
      "text/plain": [
       "<Figure size 432x288 with 1 Axes>"
      ]
     },
     "metadata": {
      "needs_background": "light"
     },
     "output_type": "display_data"
    }
   ],
   "source": [
    "# Trabajaremos con la variable Population, total. Veamos su distribución\n",
    "\n",
    "plt.hist(data['SP.POP.TOTL']) \n",
    "plt.show()"
   ]
  },
  {
   "cell_type": "code",
   "execution_count": 267,
   "id": "572627ce-42d6-419d-8f04-36ab593dc030",
   "metadata": {},
   "outputs": [],
   "source": [
    "# Escalamos Population, total\n",
    "\n",
    "scaler = StandardScaler()\n",
    "\n",
    "scaler.fit(data[['SP.POP.TOTL']])\n",
    "\n",
    "data[\"SP.POP.TOTL\"] = scaler.transform(data[['SP.POP.TOTL']])"
   ]
  },
  {
   "cell_type": "code",
   "execution_count": 268,
   "id": "a222b61c-058e-4abd-8880-047a64e70b23",
   "metadata": {},
   "outputs": [
    {
     "data": {
      "image/png": "[encoded data removed]",
      "text/plain": [
       "<Figure size 432x288 with 1 Axes>"
      ]
     },
     "metadata": {
      "needs_background": "light"
     },
     "output_type": "display_data"
    }
   ],
   "source": [
    "# Observamos cómo quedó la distribución luego de escalar\n",
    "\n",
    "plt.hist(data['SP.POP.TOTL']) \n",
    "plt.show()"
   ]
  },
  {
   "cell_type": "markdown",
   "id": "043ce32b-1588-4e8d-bd74-a1959163d874",
   "metadata": {},
   "source": [
    "# Correlacion de variables"
   ]
  },
  {
   "cell_type": "code",
   "execution_count": 269,
   "id": "5bba2f77-626c-4372-8f8d-3fe70c5f0b88",
   "metadata": {},
   "outputs": [],
   "source": [
    "import seaborn as sn"
   ]
  },
  {
   "cell_type": "code",
   "execution_count": 270,
   "id": "9c4416ea-3629-49a4-ba2e-18c37dc43ccf",
   "metadata": {},
   "outputs": [
    {
     "data": {
      "image/png": "[encoded data removed]",
      "text/plain": [
       "<Figure size 432x288 with 2 Axes>"
      ]
     },
     "metadata": {
      "needs_background": "light"
     },
     "output_type": "display_data"
    }
   ],
   "source": [
    "cordata=data.corr().round(2)\n",
    "sn.heatmap(cordata,annot=True)\n",
    "plt.show()"
   ]
  },
  {
   "cell_type": "markdown",
   "id": "e0f7cc0f-acc4-4498-a07a-649aa7b6aa38",
   "metadata": {},
   "source": [
    "#### Aqui un poco mas grande usando matplotlib "
   ]
  },
  {
   "cell_type": "code",
   "execution_count": 271,
   "id": "39739eb4-c361-4983-938b-b2bf87272beb",
   "metadata": {},
   "outputs": [
    {
     "data": {
      "image/png": "[encoded data removed]",
      "text/plain": [
       "<Figure size 1440x1440 with 2 Axes>"
      ]
     },
     "metadata": {
      "needs_background": "light"
     },
     "output_type": "display_data"
    }
   ],
   "source": [
    "fig,ax=plt.subplots(figsize=(20,20))\n",
    "sn.heatmap(cordata,annot=True)\n",
    "plt.show()"
   ]
  },
  {
   "cell_type": "markdown",
   "id": "1bd6be17-2352-4916-8574-db306f4daf23",
   "metadata": {},
   "source": [
    "## Simulamos Random Forest generando muestreos"
   ]
  },
  {
   "cell_type": "markdown",
   "id": "13dbb90d-b776-4c6a-a5ce-0da1503a3f01",
   "metadata": {},
   "source": [
    "Usare RandomForestRegressor para mi modelo predictorio"
   ]
  },
  {
   "cell_type": "markdown",
   "id": "700919cb-321e-4387-be6b-e6a7d7f6a8e0",
   "metadata": {},
   "source": [
    "### Paso 1"
   ]
  },
  {
   "cell_type": "code",
   "execution_count": 272,
   "id": "6eeba79f-c288-4d12-ad76-babf3ff87149",
   "metadata": {},
   "outputs": [
    {
     "name": "stdout",
     "output_type": "stream",
     "text": [
      "   NY.GDP.MKTP.KD  NY.GDP.MKTP.KN  SH.STA.SUIC.P5  SH.XPD.CHEX.GD.ZS  \\\n",
      "8        1.209010        1.209010       -0.564276           1.447844   \n",
      "5        0.198283        0.198283       -0.916949           0.383578   \n",
      "3       -0.307295       -0.307295        0.493742          -0.687190   \n",
      "9        1.441311        1.441311       -0.564276           1.533256   \n",
      "6        0.568191        0.568191       -1.269622           0.349937   \n",
      "2       -0.796679       -0.796679        0.846415          -0.785405   \n",
      "0       -1.749191       -1.749191        1.904433          -0.906268   \n",
      "\n",
      "   SH.XPD.CHEX.PC.CD  SP.ADO.TFRT  SP.DYN.CBRT.IN  SP.DYN.IMRT.IN  \\\n",
      "8           1.287626    -1.151176       -1.052052       -1.188022   \n",
      "5          -0.117195    -0.240181       -0.398296       -0.245147   \n",
      "3           0.158889     0.397861        0.306001        0.446294   \n",
      "9           1.399872    -1.424128       -1.264110       -1.439455   \n",
      "6          -0.096166    -0.559203       -0.641120       -0.559439   \n",
      "2          -0.193178     0.716882        0.780661        0.823443   \n",
      "0          -1.988619     1.800592        1.883804        1.703459   \n",
      "\n",
      "   SP.DYN.LE00.IN  SP.DYN.TFRT.IN  SP.POP.GROW  SP.POP.TOTL  \n",
      "8          76.516       -1.071306     1.404513     1.320643  \n",
      "5          75.792       -0.381109     0.116368    -0.026305  \n",
      "3          75.258        0.329094    -0.872354    -0.644331  \n",
      "9          76.736       -1.281366     1.119873     1.782950  \n",
      "6          76.044       -0.641183     0.749132     0.377548  \n",
      "2          74.981        0.799228    -1.085062    -0.881337  \n",
      "0          74.410        1.849528    -1.119160    -1.306312  \n"
     ]
    }
   ],
   "source": [
    "#imprimo un muestro usando 2/3 de los datos\n",
    "print(data.sample(frac=2/3))"
   ]
  },
  {
   "cell_type": "markdown",
   "id": "5f5e151d-7044-4971-a238-5d337ed9cac8",
   "metadata": {},
   "source": [
    "### simulacion  + bootstrap"
   ]
  },
  {
   "cell_type": "code",
   "execution_count": 273,
   "id": "9ea6b9b7-a4e9-413f-b547-d30f31c0f7c2",
   "metadata": {},
   "outputs": [
    {
     "name": "stdout",
     "output_type": "stream",
     "text": [
      "   NY.GDP.MKTP.KD  NY.GDP.MKTP.KN  SH.STA.SUIC.P5  SH.XPD.CHEX.GD.ZS  \\\n",
      "0       -1.749191       -1.749191        1.904433          -0.906268   \n",
      "6        0.568191        0.568191       -1.269622           0.349937   \n",
      "5        0.198283        0.198283       -0.916949           0.383578   \n",
      "4       -0.096442       -0.096442       -0.211604           0.378097   \n",
      "6        0.568191        0.568191       -1.269622           0.349937   \n",
      "8        1.209010        1.209010       -0.564276           1.447844   \n",
      "8        1.209010        1.209010       -0.564276           1.447844   \n",
      "\n",
      "   SH.XPD.CHEX.PC.CD  SP.ADO.TFRT  SP.DYN.CBRT.IN  SP.DYN.IMRT.IN  \\\n",
      "0          -1.988619     1.800592        1.883804        1.703459   \n",
      "6          -0.096166    -0.559203       -0.641120       -0.559439   \n",
      "5          -0.117195    -0.240181       -0.398296       -0.245147   \n",
      "4           0.463470     0.078840       -0.087351        0.069144   \n",
      "6          -0.096166    -0.559203       -0.641120       -0.559439   \n",
      "8           1.287626    -1.151176       -1.052052       -1.188022   \n",
      "8           1.287626    -1.151176       -1.052052       -1.188022   \n",
      "\n",
      "   SP.DYN.LE00.IN  SP.DYN.TFRT.IN  SP.POP.GROW  SP.POP.TOTL  \n",
      "0          74.410        1.849528    -1.119160    -1.306312  \n",
      "6          76.044       -0.641183     0.749132     0.377548  \n",
      "5          75.792       -0.381109     0.116368    -0.026305  \n",
      "4          75.529       -0.061017    -0.438741    -0.363694  \n",
      "6          76.044       -0.641183     0.749132     0.377548  \n",
      "8          76.516       -1.071306     1.404513     1.320643  \n",
      "8          76.516       -1.071306     1.404513     1.320643  \n"
     ]
    }
   ],
   "source": [
    "print(data.sample(frac=2/3,replace=True))"
   ]
  },
  {
   "cell_type": "markdown",
   "id": "5e093ffc-0034-4a41-8553-65d5eafe6100",
   "metadata": {},
   "source": [
    "# Creación de Bosque Aleatorio de Regresion(RandomForestRegressor)"
   ]
  },
  {
   "cell_type": "code",
   "execution_count": 274,
   "id": "f4ff5c56-33ff-4db8-b0bd-2f837f4a6f23",
   "metadata": {},
   "outputs": [],
   "source": [
    "import numpy as np\n",
    "from sklearn import svm\n",
    "import pandas as pd\n",
    "import pickle\n",
    "from sklearn.model_selection import train_test_split\n",
    "import sklearn\n",
    "from sklearn.ensemble import RandomForestRegressor"
   ]
  },
  {
   "cell_type": "code",
   "execution_count": 275,
   "id": "d9dd6e0d-4798-412f-bf2a-6f37202e89e0",
   "metadata": {},
   "outputs": [
    {
     "data": {
      "text/html": [
       "<div>\n",
       "<style scoped>\n",
       "    .dataframe tbody tr th:only-of-type {\n",
       "        vertical-align: middle;\n",
       "    }\n",
       "\n",
       "    .dataframe tbody tr th {\n",
       "        vertical-align: top;\n",
       "    }\n",
       "\n",
       "    .dataframe thead th {\n",
       "        text-align: right;\n",
       "    }\n",
       "</style>\n",
       "<table border=\"1\" class=\"dataframe\">\n",
       "  <thead>\n",
       "    <tr style=\"text-align: right;\">\n",
       "      <th></th>\n",
       "      <th>NY.GDP.MKTP.KD</th>\n",
       "      <th>NY.GDP.MKTP.KN</th>\n",
       "      <th>SH.STA.SUIC.P5</th>\n",
       "      <th>SH.XPD.CHEX.GD.ZS</th>\n",
       "      <th>SH.XPD.CHEX.PC.CD</th>\n",
       "      <th>SP.ADO.TFRT</th>\n",
       "      <th>SP.DYN.CBRT.IN</th>\n",
       "      <th>SP.DYN.IMRT.IN</th>\n",
       "      <th>SP.DYN.LE00.IN</th>\n",
       "      <th>SP.DYN.TFRT.IN</th>\n",
       "      <th>SP.POP.GROW</th>\n",
       "      <th>SP.POP.TOTL</th>\n",
       "    </tr>\n",
       "  </thead>\n",
       "  <tbody>\n",
       "    <tr>\n",
       "      <th>0</th>\n",
       "      <td>-1.749191</td>\n",
       "      <td>-1.749191</td>\n",
       "      <td>1.904433</td>\n",
       "      <td>-0.906268</td>\n",
       "      <td>-1.988619</td>\n",
       "      <td>1.800592</td>\n",
       "      <td>1.883804</td>\n",
       "      <td>1.703459</td>\n",
       "      <td>74.410</td>\n",
       "      <td>1.849528</td>\n",
       "      <td>-1.119160</td>\n",
       "      <td>-1.306312</td>\n",
       "    </tr>\n",
       "    <tr>\n",
       "      <th>1</th>\n",
       "      <td>-1.280382</td>\n",
       "      <td>-1.280382</td>\n",
       "      <td>1.199088</td>\n",
       "      <td>-1.795347</td>\n",
       "      <td>-1.381764</td>\n",
       "      <td>1.258737</td>\n",
       "      <td>1.321245</td>\n",
       "      <td>1.263451</td>\n",
       "      <td>74.697</td>\n",
       "      <td>1.319377</td>\n",
       "      <td>-1.122030</td>\n",
       "      <td>-1.096415</td>\n",
       "    </tr>\n",
       "    <tr>\n",
       "      <th>2</th>\n",
       "      <td>-0.796679</td>\n",
       "      <td>-0.796679</td>\n",
       "      <td>0.846415</td>\n",
       "      <td>-0.785405</td>\n",
       "      <td>-0.193178</td>\n",
       "      <td>0.716882</td>\n",
       "      <td>0.780661</td>\n",
       "      <td>0.823443</td>\n",
       "      <td>74.981</td>\n",
       "      <td>0.799228</td>\n",
       "      <td>-1.085062</td>\n",
       "      <td>-0.881337</td>\n",
       "    </tr>\n",
       "    <tr>\n",
       "      <th>3</th>\n",
       "      <td>-0.307295</td>\n",
       "      <td>-0.307295</td>\n",
       "      <td>0.493742</td>\n",
       "      <td>-0.687190</td>\n",
       "      <td>0.158889</td>\n",
       "      <td>0.397861</td>\n",
       "      <td>0.306001</td>\n",
       "      <td>0.446294</td>\n",
       "      <td>75.258</td>\n",
       "      <td>0.329094</td>\n",
       "      <td>-0.872354</td>\n",
       "      <td>-0.644331</td>\n",
       "    </tr>\n",
       "    <tr>\n",
       "      <th>4</th>\n",
       "      <td>-0.096442</td>\n",
       "      <td>-0.096442</td>\n",
       "      <td>-0.211604</td>\n",
       "      <td>0.378097</td>\n",
       "      <td>0.463470</td>\n",
       "      <td>0.078840</td>\n",
       "      <td>-0.087351</td>\n",
       "      <td>0.069144</td>\n",
       "      <td>75.529</td>\n",
       "      <td>-0.061017</td>\n",
       "      <td>-0.438741</td>\n",
       "      <td>-0.363694</td>\n",
       "    </tr>\n",
       "  </tbody>\n",
       "</table>\n",
       "</div>"
      ],
      "text/plain": [
       "   NY.GDP.MKTP.KD  NY.GDP.MKTP.KN  SH.STA.SUIC.P5  SH.XPD.CHEX.GD.ZS  \\\n",
       "0       -1.749191       -1.749191        1.904433          -0.906268   \n",
       "1       -1.280382       -1.280382        1.199088          -1.795347   \n",
       "2       -0.796679       -0.796679        0.846415          -0.785405   \n",
       "3       -0.307295       -0.307295        0.493742          -0.687190   \n",
       "4       -0.096442       -0.096442       -0.211604           0.378097   \n",
       "\n",
       "   SH.XPD.CHEX.PC.CD  SP.ADO.TFRT  SP.DYN.CBRT.IN  SP.DYN.IMRT.IN  \\\n",
       "0          -1.988619     1.800592        1.883804        1.703459   \n",
       "1          -1.381764     1.258737        1.321245        1.263451   \n",
       "2          -0.193178     0.716882        0.780661        0.823443   \n",
       "3           0.158889     0.397861        0.306001        0.446294   \n",
       "4           0.463470     0.078840       -0.087351        0.069144   \n",
       "\n",
       "   SP.DYN.LE00.IN  SP.DYN.TFRT.IN  SP.POP.GROW  SP.POP.TOTL  \n",
       "0          74.410        1.849528    -1.119160    -1.306312  \n",
       "1          74.697        1.319377    -1.122030    -1.096415  \n",
       "2          74.981        0.799228    -1.085062    -0.881337  \n",
       "3          75.258        0.329094    -0.872354    -0.644331  \n",
       "4          75.529       -0.061017    -0.438741    -0.363694  "
      ]
     },
     "execution_count": 275,
     "metadata": {},
     "output_type": "execute_result"
    }
   ],
   "source": [
    "data.head()"
   ]
  },
  {
   "cell_type": "code",
   "execution_count": 276,
   "id": "f01919db-af2e-4f09-8bf9-086b66cdbda1",
   "metadata": {},
   "outputs": [
    {
     "name": "stdout",
     "output_type": "stream",
     "text": [
      "<class 'pandas.core.frame.DataFrame'>\n",
      "RangeIndex: 10 entries, 0 to 9\n",
      "Data columns (total 12 columns):\n",
      " #   Column             Non-Null Count  Dtype  \n",
      "---  ------             --------------  -----  \n",
      " 0   NY.GDP.MKTP.KD     10 non-null     float64\n",
      " 1   NY.GDP.MKTP.KN     10 non-null     float64\n",
      " 2   SH.STA.SUIC.P5     10 non-null     float64\n",
      " 3   SH.XPD.CHEX.GD.ZS  10 non-null     float64\n",
      " 4   SH.XPD.CHEX.PC.CD  10 non-null     float64\n",
      " 5   SP.ADO.TFRT        10 non-null     float64\n",
      " 6   SP.DYN.CBRT.IN     10 non-null     float64\n",
      " 7   SP.DYN.IMRT.IN     10 non-null     float64\n",
      " 8   SP.DYN.LE00.IN     10 non-null     float64\n",
      " 9   SP.DYN.TFRT.IN     10 non-null     float64\n",
      " 10  SP.POP.GROW        10 non-null     float64\n",
      " 11  SP.POP.TOTL        10 non-null     float64\n",
      "dtypes: float64(12)\n",
      "memory usage: 1.1 KB\n"
     ]
    }
   ],
   "source": [
    "data.info()"
   ]
  },
  {
   "cell_type": "code",
   "execution_count": 277,
   "id": "d81aaea7-6875-4654-982c-383ef7847dc9",
   "metadata": {},
   "outputs": [
    {
     "data": {
      "text/html": [
       "<div>\n",
       "<style scoped>\n",
       "    .dataframe tbody tr th:only-of-type {\n",
       "        vertical-align: middle;\n",
       "    }\n",
       "\n",
       "    .dataframe tbody tr th {\n",
       "        vertical-align: top;\n",
       "    }\n",
       "\n",
       "    .dataframe thead th {\n",
       "        text-align: right;\n",
       "    }\n",
       "</style>\n",
       "<table border=\"1\" class=\"dataframe\">\n",
       "  <thead>\n",
       "    <tr style=\"text-align: right;\">\n",
       "      <th></th>\n",
       "      <th>NY.GDP.MKTP.KD</th>\n",
       "      <th>NY.GDP.MKTP.KN</th>\n",
       "      <th>SH.STA.SUIC.P5</th>\n",
       "      <th>SH.XPD.CHEX.GD.ZS</th>\n",
       "      <th>SH.XPD.CHEX.PC.CD</th>\n",
       "      <th>SP.ADO.TFRT</th>\n",
       "      <th>SP.DYN.CBRT.IN</th>\n",
       "      <th>SP.DYN.IMRT.IN</th>\n",
       "      <th>SP.DYN.LE00.IN</th>\n",
       "      <th>SP.DYN.TFRT.IN</th>\n",
       "      <th>SP.POP.GROW</th>\n",
       "      <th>SP.POP.TOTL</th>\n",
       "    </tr>\n",
       "  </thead>\n",
       "  <tbody>\n",
       "    <tr>\n",
       "      <th>count</th>\n",
       "      <td>1.000000e+01</td>\n",
       "      <td>1.000000e+01</td>\n",
       "      <td>1.000000e+01</td>\n",
       "      <td>1.000000e+01</td>\n",
       "      <td>1.000000e+01</td>\n",
       "      <td>1.000000e+01</td>\n",
       "      <td>1.000000e+01</td>\n",
       "      <td>1.000000e+01</td>\n",
       "      <td>10.000000</td>\n",
       "      <td>10.000000</td>\n",
       "      <td>1.000000e+01</td>\n",
       "      <td>1.000000e+01</td>\n",
       "    </tr>\n",
       "    <tr>\n",
       "      <th>mean</th>\n",
       "      <td>-4.440892e-17</td>\n",
       "      <td>4.440892e-17</td>\n",
       "      <td>1.110223e-16</td>\n",
       "      <td>9.103829e-16</td>\n",
       "      <td>-7.549517e-16</td>\n",
       "      <td>-3.308465e-15</td>\n",
       "      <td>-7.549517e-16</td>\n",
       "      <td>2.220446e-17</td>\n",
       "      <td>75.624900</td>\n",
       "      <td>0.000000</td>\n",
       "      <td>-6.217249e-16</td>\n",
       "      <td>-6.217249e-16</td>\n",
       "    </tr>\n",
       "    <tr>\n",
       "      <th>std</th>\n",
       "      <td>1.054093e+00</td>\n",
       "      <td>1.054093e+00</td>\n",
       "      <td>1.054093e+00</td>\n",
       "      <td>1.054093e+00</td>\n",
       "      <td>1.054093e+00</td>\n",
       "      <td>1.054093e+00</td>\n",
       "      <td>1.054093e+00</td>\n",
       "      <td>1.054093e+00</td>\n",
       "      <td>0.786315</td>\n",
       "      <td>1.054093</td>\n",
       "      <td>1.054093e+00</td>\n",
       "      <td>1.054093e+00</td>\n",
       "    </tr>\n",
       "    <tr>\n",
       "      <th>min</th>\n",
       "      <td>-1.749191e+00</td>\n",
       "      <td>-1.749191e+00</td>\n",
       "      <td>-1.269622e+00</td>\n",
       "      <td>-1.795347e+00</td>\n",
       "      <td>-1.988619e+00</td>\n",
       "      <td>-1.424128e+00</td>\n",
       "      <td>-1.264110e+00</td>\n",
       "      <td>-1.439455e+00</td>\n",
       "      <td>74.410000</td>\n",
       "      <td>-1.281366</td>\n",
       "      <td>-1.122030e+00</td>\n",
       "      <td>-1.306312e+00</td>\n",
       "    </tr>\n",
       "    <tr>\n",
       "      <th>25%</th>\n",
       "      <td>-6.743330e-01</td>\n",
       "      <td>-6.743330e-01</td>\n",
       "      <td>-8.287811e-01</td>\n",
       "      <td>-7.608512e-01</td>\n",
       "      <td>-1.741821e-01</td>\n",
       "      <td>-7.984686e-01</td>\n",
       "      <td>-7.968673e-01</td>\n",
       "      <td>-7.951573e-01</td>\n",
       "      <td>75.050250</td>\n",
       "      <td>-0.806230</td>\n",
       "      <td>-1.031885e+00</td>\n",
       "      <td>-8.220853e-01</td>\n",
       "    </tr>\n",
       "    <tr>\n",
       "      <th>50%</th>\n",
       "      <td>5.092035e-02</td>\n",
       "      <td>5.092035e-02</td>\n",
       "      <td>-3.879401e-01</td>\n",
       "      <td>2.157173e-01</td>\n",
       "      <td>3.136153e-02</td>\n",
       "      <td>-8.067083e-02</td>\n",
       "      <td>-2.428234e-01</td>\n",
       "      <td>-8.800159e-02</td>\n",
       "      <td>75.660500</td>\n",
       "      <td>-0.221063</td>\n",
       "      <td>-1.611868e-01</td>\n",
       "      <td>-1.949991e-01</td>\n",
       "    </tr>\n",
       "    <tr>\n",
       "      <th>75%</th>\n",
       "      <td>7.519430e-01</td>\n",
       "      <td>7.519430e-01</td>\n",
       "      <td>7.582465e-01</td>\n",
       "      <td>3.822082e-01</td>\n",
       "      <td>4.661663e-01</td>\n",
       "      <td>6.371270e-01</td>\n",
       "      <td>6.619960e-01</td>\n",
       "      <td>7.291561e-01</td>\n",
       "      <td>76.225500</td>\n",
       "      <td>0.681695</td>\n",
       "      <td>1.027188e+00</td>\n",
       "      <td>7.223265e-01</td>\n",
       "    </tr>\n",
       "    <tr>\n",
       "      <th>max</th>\n",
       "      <td>1.441311e+00</td>\n",
       "      <td>1.441311e+00</td>\n",
       "      <td>1.904433e+00</td>\n",
       "      <td>1.533256e+00</td>\n",
       "      <td>1.399872e+00</td>\n",
       "      <td>1.800592e+00</td>\n",
       "      <td>1.883804e+00</td>\n",
       "      <td>1.703459e+00</td>\n",
       "      <td>76.736000</td>\n",
       "      <td>1.849528</td>\n",
       "      <td>1.404513e+00</td>\n",
       "      <td>1.782950e+00</td>\n",
       "    </tr>\n",
       "  </tbody>\n",
       "</table>\n",
       "</div>"
      ],
      "text/plain": [
       "       NY.GDP.MKTP.KD  NY.GDP.MKTP.KN  SH.STA.SUIC.P5  SH.XPD.CHEX.GD.ZS  \\\n",
       "count    1.000000e+01    1.000000e+01    1.000000e+01       1.000000e+01   \n",
       "mean    -4.440892e-17    4.440892e-17    1.110223e-16       9.103829e-16   \n",
       "std      1.054093e+00    1.054093e+00    1.054093e+00       1.054093e+00   \n",
       "min     -1.749191e+00   -1.749191e+00   -1.269622e+00      -1.795347e+00   \n",
       "25%     -6.743330e-01   -6.743330e-01   -8.287811e-01      -7.608512e-01   \n",
       "50%      5.092035e-02    5.092035e-02   -3.879401e-01       2.157173e-01   \n",
       "75%      7.519430e-01    7.519430e-01    7.582465e-01       3.822082e-01   \n",
       "max      1.441311e+00    1.441311e+00    1.904433e+00       1.533256e+00   \n",
       "\n",
       "       SH.XPD.CHEX.PC.CD   SP.ADO.TFRT  SP.DYN.CBRT.IN  SP.DYN.IMRT.IN  \\\n",
       "count       1.000000e+01  1.000000e+01    1.000000e+01    1.000000e+01   \n",
       "mean       -7.549517e-16 -3.308465e-15   -7.549517e-16    2.220446e-17   \n",
       "std         1.054093e+00  1.054093e+00    1.054093e+00    1.054093e+00   \n",
       "min        -1.988619e+00 -1.424128e+00   -1.264110e+00   -1.439455e+00   \n",
       "25%        -1.741821e-01 -7.984686e-01   -7.968673e-01   -7.951573e-01   \n",
       "50%         3.136153e-02 -8.067083e-02   -2.428234e-01   -8.800159e-02   \n",
       "75%         4.661663e-01  6.371270e-01    6.619960e-01    7.291561e-01   \n",
       "max         1.399872e+00  1.800592e+00    1.883804e+00    1.703459e+00   \n",
       "\n",
       "       SP.DYN.LE00.IN  SP.DYN.TFRT.IN   SP.POP.GROW   SP.POP.TOTL  \n",
       "count       10.000000       10.000000  1.000000e+01  1.000000e+01  \n",
       "mean        75.624900        0.000000 -6.217249e-16 -6.217249e-16  \n",
       "std          0.786315        1.054093  1.054093e+00  1.054093e+00  \n",
       "min         74.410000       -1.281366 -1.122030e+00 -1.306312e+00  \n",
       "25%         75.050250       -0.806230 -1.031885e+00 -8.220853e-01  \n",
       "50%         75.660500       -0.221063 -1.611868e-01 -1.949991e-01  \n",
       "75%         76.225500        0.681695  1.027188e+00  7.223265e-01  \n",
       "max         76.736000        1.849528  1.404513e+00  1.782950e+00  "
      ]
     },
     "execution_count": 277,
     "metadata": {},
     "output_type": "execute_result"
    }
   ],
   "source": [
    "data.describe()"
   ]
  },
  {
   "cell_type": "code",
   "execution_count": 278,
   "id": "06499cd5-2d22-49fb-a733-93ed8fe53b26",
   "metadata": {},
   "outputs": [
    {
     "data": {
      "text/html": [
       "<div>\n",
       "<style scoped>\n",
       "    .dataframe tbody tr th:only-of-type {\n",
       "        vertical-align: middle;\n",
       "    }\n",
       "\n",
       "    .dataframe tbody tr th {\n",
       "        vertical-align: top;\n",
       "    }\n",
       "\n",
       "    .dataframe thead th {\n",
       "        text-align: right;\n",
       "    }\n",
       "</style>\n",
       "<table border=\"1\" class=\"dataframe\">\n",
       "  <thead>\n",
       "    <tr style=\"text-align: right;\">\n",
       "      <th></th>\n",
       "      <th>NY.GDP.MKTP.KD</th>\n",
       "      <th>NY.GDP.MKTP.KN</th>\n",
       "      <th>SH.STA.SUIC.P5</th>\n",
       "      <th>SH.XPD.CHEX.GD.ZS</th>\n",
       "      <th>SH.XPD.CHEX.PC.CD</th>\n",
       "      <th>SP.ADO.TFRT</th>\n",
       "      <th>SP.DYN.CBRT.IN</th>\n",
       "      <th>SP.DYN.IMRT.IN</th>\n",
       "      <th>SP.DYN.TFRT.IN</th>\n",
       "      <th>SP.POP.GROW</th>\n",
       "      <th>SP.POP.TOTL</th>\n",
       "    </tr>\n",
       "  </thead>\n",
       "  <tbody>\n",
       "    <tr>\n",
       "      <th>0</th>\n",
       "      <td>-1.749191</td>\n",
       "      <td>-1.749191</td>\n",
       "      <td>1.904433</td>\n",
       "      <td>-0.906268</td>\n",
       "      <td>-1.988619</td>\n",
       "      <td>1.800592</td>\n",
       "      <td>1.883804</td>\n",
       "      <td>1.703459</td>\n",
       "      <td>1.849528</td>\n",
       "      <td>-1.119160</td>\n",
       "      <td>-1.306312</td>\n",
       "    </tr>\n",
       "    <tr>\n",
       "      <th>1</th>\n",
       "      <td>-1.280382</td>\n",
       "      <td>-1.280382</td>\n",
       "      <td>1.199088</td>\n",
       "      <td>-1.795347</td>\n",
       "      <td>-1.381764</td>\n",
       "      <td>1.258737</td>\n",
       "      <td>1.321245</td>\n",
       "      <td>1.263451</td>\n",
       "      <td>1.319377</td>\n",
       "      <td>-1.122030</td>\n",
       "      <td>-1.096415</td>\n",
       "    </tr>\n",
       "    <tr>\n",
       "      <th>2</th>\n",
       "      <td>-0.796679</td>\n",
       "      <td>-0.796679</td>\n",
       "      <td>0.846415</td>\n",
       "      <td>-0.785405</td>\n",
       "      <td>-0.193178</td>\n",
       "      <td>0.716882</td>\n",
       "      <td>0.780661</td>\n",
       "      <td>0.823443</td>\n",
       "      <td>0.799228</td>\n",
       "      <td>-1.085062</td>\n",
       "      <td>-0.881337</td>\n",
       "    </tr>\n",
       "    <tr>\n",
       "      <th>3</th>\n",
       "      <td>-0.307295</td>\n",
       "      <td>-0.307295</td>\n",
       "      <td>0.493742</td>\n",
       "      <td>-0.687190</td>\n",
       "      <td>0.158889</td>\n",
       "      <td>0.397861</td>\n",
       "      <td>0.306001</td>\n",
       "      <td>0.446294</td>\n",
       "      <td>0.329094</td>\n",
       "      <td>-0.872354</td>\n",
       "      <td>-0.644331</td>\n",
       "    </tr>\n",
       "    <tr>\n",
       "      <th>4</th>\n",
       "      <td>-0.096442</td>\n",
       "      <td>-0.096442</td>\n",
       "      <td>-0.211604</td>\n",
       "      <td>0.378097</td>\n",
       "      <td>0.463470</td>\n",
       "      <td>0.078840</td>\n",
       "      <td>-0.087351</td>\n",
       "      <td>0.069144</td>\n",
       "      <td>-0.061017</td>\n",
       "      <td>-0.438741</td>\n",
       "      <td>-0.363694</td>\n",
       "    </tr>\n",
       "  </tbody>\n",
       "</table>\n",
       "</div>"
      ],
      "text/plain": [
       "   NY.GDP.MKTP.KD  NY.GDP.MKTP.KN  SH.STA.SUIC.P5  SH.XPD.CHEX.GD.ZS  \\\n",
       "0       -1.749191       -1.749191        1.904433          -0.906268   \n",
       "1       -1.280382       -1.280382        1.199088          -1.795347   \n",
       "2       -0.796679       -0.796679        0.846415          -0.785405   \n",
       "3       -0.307295       -0.307295        0.493742          -0.687190   \n",
       "4       -0.096442       -0.096442       -0.211604           0.378097   \n",
       "\n",
       "   SH.XPD.CHEX.PC.CD  SP.ADO.TFRT  SP.DYN.CBRT.IN  SP.DYN.IMRT.IN  \\\n",
       "0          -1.988619     1.800592        1.883804        1.703459   \n",
       "1          -1.381764     1.258737        1.321245        1.263451   \n",
       "2          -0.193178     0.716882        0.780661        0.823443   \n",
       "3           0.158889     0.397861        0.306001        0.446294   \n",
       "4           0.463470     0.078840       -0.087351        0.069144   \n",
       "\n",
       "   SP.DYN.TFRT.IN  SP.POP.GROW  SP.POP.TOTL  \n",
       "0        1.849528    -1.119160    -1.306312  \n",
       "1        1.319377    -1.122030    -1.096415  \n",
       "2        0.799228    -1.085062    -0.881337  \n",
       "3        0.329094    -0.872354    -0.644331  \n",
       "4       -0.061017    -0.438741    -0.363694  "
      ]
     },
     "execution_count": 278,
     "metadata": {},
     "output_type": "execute_result"
    }
   ],
   "source": [
    "# Obtenemos variables independientes\n",
    "X = data.drop([\"SP.DYN.LE00.IN\"],axis = 1)\n",
    "X.head()"
   ]
  },
  {
   "cell_type": "code",
   "execution_count": 279,
   "id": "2e6c01f7-8a50-4452-80c9-d03342631786",
   "metadata": {},
   "outputs": [
    {
     "data": {
      "text/html": [
       "<div>\n",
       "<style scoped>\n",
       "    .dataframe tbody tr th:only-of-type {\n",
       "        vertical-align: middle;\n",
       "    }\n",
       "\n",
       "    .dataframe tbody tr th {\n",
       "        vertical-align: top;\n",
       "    }\n",
       "\n",
       "    .dataframe thead th {\n",
       "        text-align: right;\n",
       "    }\n",
       "</style>\n",
       "<table border=\"1\" class=\"dataframe\">\n",
       "  <thead>\n",
       "    <tr style=\"text-align: right;\">\n",
       "      <th></th>\n",
       "      <th>NY.GDP.MKTP.KD</th>\n",
       "      <th>NY.GDP.MKTP.KN</th>\n",
       "      <th>SH.STA.SUIC.P5</th>\n",
       "      <th>SH.XPD.CHEX.GD.ZS</th>\n",
       "      <th>SH.XPD.CHEX.PC.CD</th>\n",
       "      <th>SP.ADO.TFRT</th>\n",
       "      <th>SP.DYN.CBRT.IN</th>\n",
       "      <th>SP.DYN.IMRT.IN</th>\n",
       "      <th>SP.DYN.LE00.IN</th>\n",
       "      <th>SP.DYN.TFRT.IN</th>\n",
       "      <th>SP.POP.GROW</th>\n",
       "      <th>SP.POP.TOTL</th>\n",
       "    </tr>\n",
       "  </thead>\n",
       "  <tbody>\n",
       "    <tr>\n",
       "      <th>0</th>\n",
       "      <td>-1.749191</td>\n",
       "      <td>-1.749191</td>\n",
       "      <td>1.904433</td>\n",
       "      <td>-0.906268</td>\n",
       "      <td>-1.988619</td>\n",
       "      <td>1.800592</td>\n",
       "      <td>1.883804</td>\n",
       "      <td>1.703459</td>\n",
       "      <td>74.410</td>\n",
       "      <td>1.849528</td>\n",
       "      <td>-1.119160</td>\n",
       "      <td>-1.306312</td>\n",
       "    </tr>\n",
       "    <tr>\n",
       "      <th>1</th>\n",
       "      <td>-1.280382</td>\n",
       "      <td>-1.280382</td>\n",
       "      <td>1.199088</td>\n",
       "      <td>-1.795347</td>\n",
       "      <td>-1.381764</td>\n",
       "      <td>1.258737</td>\n",
       "      <td>1.321245</td>\n",
       "      <td>1.263451</td>\n",
       "      <td>74.697</td>\n",
       "      <td>1.319377</td>\n",
       "      <td>-1.122030</td>\n",
       "      <td>-1.096415</td>\n",
       "    </tr>\n",
       "    <tr>\n",
       "      <th>2</th>\n",
       "      <td>-0.796679</td>\n",
       "      <td>-0.796679</td>\n",
       "      <td>0.846415</td>\n",
       "      <td>-0.785405</td>\n",
       "      <td>-0.193178</td>\n",
       "      <td>0.716882</td>\n",
       "      <td>0.780661</td>\n",
       "      <td>0.823443</td>\n",
       "      <td>74.981</td>\n",
       "      <td>0.799228</td>\n",
       "      <td>-1.085062</td>\n",
       "      <td>-0.881337</td>\n",
       "    </tr>\n",
       "    <tr>\n",
       "      <th>3</th>\n",
       "      <td>-0.307295</td>\n",
       "      <td>-0.307295</td>\n",
       "      <td>0.493742</td>\n",
       "      <td>-0.687190</td>\n",
       "      <td>0.158889</td>\n",
       "      <td>0.397861</td>\n",
       "      <td>0.306001</td>\n",
       "      <td>0.446294</td>\n",
       "      <td>75.258</td>\n",
       "      <td>0.329094</td>\n",
       "      <td>-0.872354</td>\n",
       "      <td>-0.644331</td>\n",
       "    </tr>\n",
       "    <tr>\n",
       "      <th>4</th>\n",
       "      <td>-0.096442</td>\n",
       "      <td>-0.096442</td>\n",
       "      <td>-0.211604</td>\n",
       "      <td>0.378097</td>\n",
       "      <td>0.463470</td>\n",
       "      <td>0.078840</td>\n",
       "      <td>-0.087351</td>\n",
       "      <td>0.069144</td>\n",
       "      <td>75.529</td>\n",
       "      <td>-0.061017</td>\n",
       "      <td>-0.438741</td>\n",
       "      <td>-0.363694</td>\n",
       "    </tr>\n",
       "    <tr>\n",
       "      <th>5</th>\n",
       "      <td>0.198283</td>\n",
       "      <td>0.198283</td>\n",
       "      <td>-0.916949</td>\n",
       "      <td>0.383578</td>\n",
       "      <td>-0.117195</td>\n",
       "      <td>-0.240181</td>\n",
       "      <td>-0.398296</td>\n",
       "      <td>-0.245147</td>\n",
       "      <td>75.792</td>\n",
       "      <td>-0.381109</td>\n",
       "      <td>0.116368</td>\n",
       "      <td>-0.026305</td>\n",
       "    </tr>\n",
       "    <tr>\n",
       "      <th>6</th>\n",
       "      <td>0.568191</td>\n",
       "      <td>0.568191</td>\n",
       "      <td>-1.269622</td>\n",
       "      <td>0.349937</td>\n",
       "      <td>-0.096166</td>\n",
       "      <td>-0.559203</td>\n",
       "      <td>-0.641120</td>\n",
       "      <td>-0.559439</td>\n",
       "      <td>76.044</td>\n",
       "      <td>-0.641183</td>\n",
       "      <td>0.749132</td>\n",
       "      <td>0.377548</td>\n",
       "    </tr>\n",
       "    <tr>\n",
       "      <th>7</th>\n",
       "      <td>0.813194</td>\n",
       "      <td>0.813194</td>\n",
       "      <td>-0.916949</td>\n",
       "      <td>0.081498</td>\n",
       "      <td>0.467065</td>\n",
       "      <td>-0.878224</td>\n",
       "      <td>-0.848783</td>\n",
       "      <td>-0.873730</td>\n",
       "      <td>76.286</td>\n",
       "      <td>-0.861246</td>\n",
       "      <td>1.247461</td>\n",
       "      <td>0.837253</td>\n",
       "    </tr>\n",
       "    <tr>\n",
       "      <th>8</th>\n",
       "      <td>1.209010</td>\n",
       "      <td>1.209010</td>\n",
       "      <td>-0.564276</td>\n",
       "      <td>1.447844</td>\n",
       "      <td>1.287626</td>\n",
       "      <td>-1.151176</td>\n",
       "      <td>-1.052052</td>\n",
       "      <td>-1.188022</td>\n",
       "      <td>76.516</td>\n",
       "      <td>-1.071306</td>\n",
       "      <td>1.404513</td>\n",
       "      <td>1.320643</td>\n",
       "    </tr>\n",
       "    <tr>\n",
       "      <th>9</th>\n",
       "      <td>1.441311</td>\n",
       "      <td>1.441311</td>\n",
       "      <td>-0.564276</td>\n",
       "      <td>1.533256</td>\n",
       "      <td>1.399872</td>\n",
       "      <td>-1.424128</td>\n",
       "      <td>-1.264110</td>\n",
       "      <td>-1.439455</td>\n",
       "      <td>76.736</td>\n",
       "      <td>-1.281366</td>\n",
       "      <td>1.119873</td>\n",
       "      <td>1.782950</td>\n",
       "    </tr>\n",
       "  </tbody>\n",
       "</table>\n",
       "</div>"
      ],
      "text/plain": [
       "   NY.GDP.MKTP.KD  NY.GDP.MKTP.KN  SH.STA.SUIC.P5  SH.XPD.CHEX.GD.ZS  \\\n",
       "0       -1.749191       -1.749191        1.904433          -0.906268   \n",
       "1       -1.280382       -1.280382        1.199088          -1.795347   \n",
       "2       -0.796679       -0.796679        0.846415          -0.785405   \n",
       "3       -0.307295       -0.307295        0.493742          -0.687190   \n",
       "4       -0.096442       -0.096442       -0.211604           0.378097   \n",
       "5        0.198283        0.198283       -0.916949           0.383578   \n",
       "6        0.568191        0.568191       -1.269622           0.349937   \n",
       "7        0.813194        0.813194       -0.916949           0.081498   \n",
       "8        1.209010        1.209010       -0.564276           1.447844   \n",
       "9        1.441311        1.441311       -0.564276           1.533256   \n",
       "\n",
       "   SH.XPD.CHEX.PC.CD  SP.ADO.TFRT  SP.DYN.CBRT.IN  SP.DYN.IMRT.IN  \\\n",
       "0          -1.988619     1.800592        1.883804        1.703459   \n",
       "1          -1.381764     1.258737        1.321245        1.263451   \n",
       "2          -0.193178     0.716882        0.780661        0.823443   \n",
       "3           0.158889     0.397861        0.306001        0.446294   \n",
       "4           0.463470     0.078840       -0.087351        0.069144   \n",
       "5          -0.117195    -0.240181       -0.398296       -0.245147   \n",
       "6          -0.096166    -0.559203       -0.641120       -0.559439   \n",
       "7           0.467065    -0.878224       -0.848783       -0.873730   \n",
       "8           1.287626    -1.151176       -1.052052       -1.188022   \n",
       "9           1.399872    -1.424128       -1.264110       -1.439455   \n",
       "\n",
       "   SP.DYN.LE00.IN  SP.DYN.TFRT.IN  SP.POP.GROW  SP.POP.TOTL  \n",
       "0          74.410        1.849528    -1.119160    -1.306312  \n",
       "1          74.697        1.319377    -1.122030    -1.096415  \n",
       "2          74.981        0.799228    -1.085062    -0.881337  \n",
       "3          75.258        0.329094    -0.872354    -0.644331  \n",
       "4          75.529       -0.061017    -0.438741    -0.363694  \n",
       "5          75.792       -0.381109     0.116368    -0.026305  \n",
       "6          76.044       -0.641183     0.749132     0.377548  \n",
       "7          76.286       -0.861246     1.247461     0.837253  \n",
       "8          76.516       -1.071306     1.404513     1.320643  \n",
       "9          76.736       -1.281366     1.119873     1.782950  "
      ]
     },
     "execution_count": 279,
     "metadata": {},
     "output_type": "execute_result"
    }
   ],
   "source": [
    "data"
   ]
  },
  {
   "cell_type": "code",
   "execution_count": 280,
   "id": "3ed9b28c-de9f-40bd-bab1-aa7b798a920e",
   "metadata": {},
   "outputs": [
    {
     "data": {
      "text/plain": [
       "0    74.410\n",
       "1    74.697\n",
       "2    74.981\n",
       "3    75.258\n",
       "4    75.529\n",
       "5    75.792\n",
       "6    76.044\n",
       "7    76.286\n",
       "8    76.516\n",
       "9    76.736\n",
       "Name: SP.DYN.LE00.IN, dtype: float64"
      ]
     },
     "execution_count": 280,
     "metadata": {},
     "output_type": "execute_result"
    }
   ],
   "source": [
    "# Obtenemos variable dependiente\n",
    "Y = data.pop('SP.DYN.LE00.IN')\n",
    "Y"
   ]
  },
  {
   "cell_type": "code",
   "execution_count": 281,
   "id": "e6c8d765-08e4-4e94-b977-9acadf7b5fef",
   "metadata": {},
   "outputs": [],
   "source": [
    "# Separamos datos para ajuste y prueba\n",
    "X_train, X_test, y_train, y_test = train_test_split(X, Y, train_size=0.8, test_size=0.2, random_state=100)"
   ]
  },
  {
   "cell_type": "code",
   "execution_count": 282,
   "id": "539b2112-4b66-4273-b259-ce33ee91b299",
   "metadata": {},
   "outputs": [],
   "source": [
    "Regresor=RandomForestRegressor(n_estimators=10,random_state=0)"
   ]
  },
  {
   "cell_type": "code",
   "execution_count": 283,
   "id": "ccf84e71-f624-4f0b-8403-6ed52e046562",
   "metadata": {},
   "outputs": [],
   "source": [
    "lm = RandomForestRegressor()\n",
    "\n",
    "model=lm.fit(X_train,y_train)"
   ]
  },
  {
   "cell_type": "code",
   "execution_count": 284,
   "id": "97af1359-42ba-470c-a172-73a05ef32670",
   "metadata": {},
   "outputs": [
    {
     "name": "stdout",
     "output_type": "stream",
     "text": [
      "0.49006440475444923\n"
     ]
    }
   ],
   "source": [
    "# Encontramos el accuracy promedio usando datos de test\n",
    "score = model.score(X_test, y_test)\n",
    "print(score)"
   ]
  },
  {
   "cell_type": "code",
   "execution_count": 285,
   "id": "4a531e3f-37b4-401f-ad57-d8a624a86664",
   "metadata": {},
   "outputs": [],
   "source": [
    "# Cargamos el modelo\n",
    "pkl_filename = \"pickle_model.pkl\"\n",
    "with open(pkl_filename, 'wb') as file:\n",
    "    pickle.dump(model,file)"
   ]
  },
  {
   "cell_type": "markdown",
   "id": "e11372c2-5aca-473e-8678-14745250f3e4",
   "metadata": {},
   "source": [
    "### Prediccion con numeros aleatorios"
   ]
  },
  {
   "cell_type": "code",
   "execution_count": 287,
   "id": "86a94a83-a9a3-4dd1-a709-b09df0eaa25c",
   "metadata": {},
   "outputs": [
    {
     "name": "stderr",
     "output_type": "stream",
     "text": [
      "C:\\Users\\USER\\AppData\\Local\\Programs\\Python\\Python39\\lib\\site-packages\\sklearn\\base.py:450: UserWarning: X does not have valid feature names, but RandomForestRegressor was fitted with feature names\n",
      "  warnings.warn(\n"
     ]
    },
    {
     "data": {
      "text/plain": [
       "75.81198999999994"
      ]
     },
     "execution_count": 287,
     "metadata": {},
     "output_type": "execute_result"
    }
   ],
   "source": [
    "x_in = np.asarray([145345435435345345.28,454515174286.11 ,6.9, 9.4,853.38793945,566,13.703,6.531,13.3,0.751550842096973,211049.519]).reshape(1,-1)\n",
    "predicts = model.predict(x_in)\n",
    "predicts[0]"
   ]
  }
 ],
 "metadata": {
  "kernelspec": {
   "display_name": "Python 3.9.4 64-bit",
   "language": "python",
   "name": "python3"
  },
  "language_info": {
   "codemirror_mode": {
    "name": "ipython",
    "version": 3
   },
   "file_extension": ".py",
   "mimetype": "text/x-python",
   "name": "python",
   "nbconvert_exporter": "python",
   "pygments_lexer": "ipython3",
   "version": "3.9.4"
  },
  "vscode": {
   "interpreter": {
    "hash": "1d5c1156327dacead463cc502c55ebae8ce9c8c01979cf154173ff808e75bf55"
   }
  }
 },
 "nbformat": 4,
 "nbformat_minor": 5
}
